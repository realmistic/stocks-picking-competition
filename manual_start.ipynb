{
 "cells": [
  {
   "cell_type": "code",
   "execution_count": 88,
   "metadata": {},
   "outputs": [],
   "source": [
    "import yfinance as yf\n",
    "\n",
    "import pandas as pd\n",
    "import numpy as np\n",
    "import plotly.express as px\n",
    "import plotly.graph_objects as go\n",
    "from datetime import datetime, timedelta"
   ]
  },
  {
   "cell_type": "code",
   "execution_count": 89,
   "metadata": {},
   "outputs": [],
   "source": [
    "POSITIONS = [\n",
    "    {\n",
    "        'name': 'Ivan',\n",
    "        'ticker': 'VST',\n",
    "        'exchange':'NYSE',\n",
    "        'weight': 0.4\n",
    "    },\n",
    "    {\n",
    "        'name': 'Ivan',\n",
    "        'ticker': 'EXPE',\n",
    "        'exchange':'NASDAQ',\n",
    "        'weight': 0.3\n",
    "    },\n",
    "    {\n",
    "        'name': 'Ivan',\n",
    "        'ticker': 'DGX',\n",
    "        'exchange':'NYSE',\n",
    "        'weight': 0.3\n",
    "    },\n",
    "    {\n",
    "        'name': 'Abhi',\n",
    "        'ticker': 'ASR',\n",
    "        'exchange':'NYSE',\n",
    "        'weight': 0.4\n",
    "    },\n",
    "    {\n",
    "        'name': 'Abhi',\n",
    "        'ticker': '0700',  #0700.HK, listed on Listed on HKG (Hong Kong Stock Exchange), traded in HKD\n",
    "        'exchange':'HKG',\n",
    "        'weight': 0.25\n",
    "    },\n",
    "    {\n",
    "        'name': 'Abhi',\n",
    "        'ticker': 'SMCI',\n",
    "        'exchange':'NASDAQ',\n",
    "        'weight': 0.35\n",
    "    },\n",
    "    {\n",
    "        'name': 'Conor',\n",
    "        'ticker': 'VLA', #VLA.PA, listed on Listed on EPA (Euronext Paris), traded in EUR\n",
    "        'exchange':'EPA',\n",
    "        'weight': 0.2\n",
    "    },\n",
    "    {\n",
    "        'name': 'Conor',\n",
    "        'ticker': 'RR', #RR.L,  Listed on LON (London Stock Exchange), traded in GBP\n",
    "        'exchange':'LON',\n",
    "        'weight': 0.2\n",
    "    },\n",
    "    {\n",
    "        'name': 'Conor',\n",
    "        'ticker': 'CTC', #CTC-A.TO, Listed on TSE (Toronto Stock Exchange), traded in CAD\n",
    "        'exchange':'TSE',\n",
    "        'weight': 0.2\n",
    "    },\n",
    "     {\n",
    "        'name': 'Conor',\n",
    "        'ticker': 'SHEL',\n",
    "        'exchange':'NYSE',\n",
    "        'weight': 0.2\n",
    "    },\n",
    "     {\n",
    "        'name': 'Conor',\n",
    "        'ticker': 'CRWD',\n",
    "        'exchange':'NASDAQ',\n",
    "        'weight': 0.2\n",
    "    },\n",
    "    {\n",
    "        'name': 'Diarbhail',\n",
    "        'ticker': 'FLUT',\n",
    "        'exchange':'NYSE',\n",
    "        'weight': 0.34\n",
    "    },\n",
    "    {\n",
    "        'name': 'Diarbhail',\n",
    "        'ticker': 'NVDA',\n",
    "        'exchange':'NASDAQ',\n",
    "        'weight': 0.33\n",
    "    },\n",
    "    {\n",
    "        'name': 'Diarbhail',\n",
    "        'ticker': 'SCAN', #SCAN.V, Listed on TSXV (Toronto Stock Exchange), traded in CAD\n",
    "        'exchange':'CVE',\n",
    "        'weight': 0.33\n",
    "    },\n",
    "    {\n",
    "        'name': 'Radu',\n",
    "        'ticker': 'MP', \n",
    "        'exchange':'NYSE',\n",
    "        'weight': 0.1\n",
    "    },\n",
    "    {\n",
    "        'name': 'Radu',\n",
    "        'ticker': 'DBK', \n",
    "        'exchange':'XETRA',\n",
    "        'weight': 0.5\n",
    "    },\n",
    "    {\n",
    "        'name': 'Radu',\n",
    "        'ticker': 'RTX', \n",
    "        'exchange':'NYSE',\n",
    "        'weight': 0.2\n",
    "    },\n",
    "    {\n",
    "        'name': 'Radu',\n",
    "        'ticker': 'RHM', \n",
    "        'exchange':'XETRA',\n",
    "        'weight': 0.2\n",
    "    },\n",
    "    {\n",
    "        'name': 'Silvia',\n",
    "        'ticker': 'NVO', \n",
    "        'exchange':'NYSE',\n",
    "        'weight': 0.33\n",
    "    },\n",
    "    {\n",
    "        'name': 'Silvia',\n",
    "        'ticker': 'NVDA', \n",
    "        'exchange':'NASDAQ',\n",
    "        'weight': 0.33\n",
    "    },\n",
    "    {\n",
    "        'name': 'Silvia',\n",
    "        'ticker': 'OPRA', \n",
    "        'exchange':'NASDAQ',\n",
    "        'weight': 0.33\n",
    "    },\n",
    "]"
   ]
  },
  {
   "cell_type": "code",
   "execution_count": 90,
   "metadata": {},
   "outputs": [],
   "source": [
    "# Define the start date for data download (from 2000)\n",
    "\n",
    "FIXED_DATE = '2025-02-21'\n",
    "INITIAL_VALUE_USD = 1e5\n",
    "\n",
    "START_DATE = '2000-01-01'\n",
    "END_DATE = datetime.now().strftime('%Y-%m-%d')"
   ]
  },
  {
   "cell_type": "code",
   "execution_count": 91,
   "metadata": {},
   "outputs": [
    {
     "name": "stderr",
     "output_type": "stream",
     "text": [
      "[*********************100%***********************]  1 of 1 completed\n"
     ]
    },
    {
     "data": {
      "text/html": [
       "<div>\n",
       "<style scoped>\n",
       "    .dataframe tbody tr th:only-of-type {\n",
       "        vertical-align: middle;\n",
       "    }\n",
       "\n",
       "    .dataframe tbody tr th {\n",
       "        vertical-align: top;\n",
       "    }\n",
       "\n",
       "    .dataframe thead tr th {\n",
       "        text-align: left;\n",
       "    }\n",
       "\n",
       "    .dataframe thead tr:last-of-type th {\n",
       "        text-align: right;\n",
       "    }\n",
       "</style>\n",
       "<table border=\"1\" class=\"dataframe\">\n",
       "  <thead>\n",
       "    <tr>\n",
       "      <th>Price</th>\n",
       "      <th>Close</th>\n",
       "      <th>High</th>\n",
       "      <th>Low</th>\n",
       "      <th>Open</th>\n",
       "      <th>Volume</th>\n",
       "    </tr>\n",
       "    <tr>\n",
       "      <th>Ticker</th>\n",
       "      <th>SCAN.V</th>\n",
       "      <th>SCAN.V</th>\n",
       "      <th>SCAN.V</th>\n",
       "      <th>SCAN.V</th>\n",
       "      <th>SCAN.V</th>\n",
       "    </tr>\n",
       "    <tr>\n",
       "      <th>Date</th>\n",
       "      <th></th>\n",
       "      <th></th>\n",
       "      <th></th>\n",
       "      <th></th>\n",
       "      <th></th>\n",
       "    </tr>\n",
       "  </thead>\n",
       "  <tbody>\n",
       "    <tr>\n",
       "      <th>2025-02-24</th>\n",
       "      <td>1.89</td>\n",
       "      <td>2.15</td>\n",
       "      <td>1.84</td>\n",
       "      <td>2.05</td>\n",
       "      <td>197541</td>\n",
       "    </tr>\n",
       "    <tr>\n",
       "      <th>2025-02-25</th>\n",
       "      <td>1.98</td>\n",
       "      <td>1.99</td>\n",
       "      <td>1.80</td>\n",
       "      <td>1.98</td>\n",
       "      <td>94207</td>\n",
       "    </tr>\n",
       "    <tr>\n",
       "      <th>2025-02-26</th>\n",
       "      <td>1.97</td>\n",
       "      <td>2.01</td>\n",
       "      <td>1.91</td>\n",
       "      <td>1.97</td>\n",
       "      <td>191149</td>\n",
       "    </tr>\n",
       "    <tr>\n",
       "      <th>2025-02-27</th>\n",
       "      <td>1.97</td>\n",
       "      <td>1.99</td>\n",
       "      <td>1.87</td>\n",
       "      <td>1.98</td>\n",
       "      <td>99640</td>\n",
       "    </tr>\n",
       "    <tr>\n",
       "      <th>2025-02-28</th>\n",
       "      <td>1.64</td>\n",
       "      <td>1.70</td>\n",
       "      <td>1.53</td>\n",
       "      <td>1.70</td>\n",
       "      <td>203504</td>\n",
       "    </tr>\n",
       "  </tbody>\n",
       "</table>\n",
       "</div>"
      ],
      "text/plain": [
       "Price       Close   High    Low   Open  Volume\n",
       "Ticker     SCAN.V SCAN.V SCAN.V SCAN.V  SCAN.V\n",
       "Date                                          \n",
       "2025-02-24   1.89   2.15   1.84   2.05  197541\n",
       "2025-02-25   1.98   1.99   1.80   1.98   94207\n",
       "2025-02-26   1.97   2.01   1.91   1.97  191149\n",
       "2025-02-27   1.97   1.99   1.87   1.98   99640\n",
       "2025-02-28   1.64   1.70   1.53   1.70  203504"
      ]
     },
     "execution_count": 91,
     "metadata": {},
     "output_type": "execute_result"
    }
   ],
   "source": [
    "# check one ticker in Yahoo Finance\n",
    "ticker = 'SCAN.V'\n",
    "df_test = yf.download(ticker, start=START_DATE, end=END_DATE)\n",
    "\n",
    "df_test.tail(5)"
   ]
  },
  {
   "cell_type": "code",
   "execution_count": 92,
   "metadata": {},
   "outputs": [
    {
     "name": "stderr",
     "output_type": "stream",
     "text": [
      "[*****                 10%                       ]  2 of 20 completed"
     ]
    },
    {
     "name": "stdout",
     "output_type": "stream",
     "text": [
      "Downloading data for 21 unique tickers from 2000-01-01 to 2025-03-03\n"
     ]
    },
    {
     "name": "stderr",
     "output_type": "stream",
     "text": [
      "[*********************100%***********************]  20 of 20 completed\n",
      "[*********************100%***********************]  1 of 1 completed\n"
     ]
    },
    {
     "name": "stdout",
     "output_type": "stream",
     "text": [
      "\n",
      "Downloading HKD/USD exchange rate data for currency conversion...\n",
      "\n",
      "Processing 0700.HK using join operation...\n",
      "Original HKD prices: 5114 non-null values\n",
      "Exchange rates: Ticker\n",
      "HKDUSD=X    5973\n",
      "dtype: int64 non-null values\n",
      "Converted USD prices: 5087 non-null values\n",
      "Successfully processed 0700.HK\n",
      "\n",
      "First few rows of price data (all in USD):\n"
     ]
    },
    {
     "data": {
      "text/html": [
       "<div>\n",
       "<style scoped>\n",
       "    .dataframe tbody tr th:only-of-type {\n",
       "        vertical-align: middle;\n",
       "    }\n",
       "\n",
       "    .dataframe tbody tr th {\n",
       "        vertical-align: top;\n",
       "    }\n",
       "\n",
       "    .dataframe thead th {\n",
       "        text-align: right;\n",
       "    }\n",
       "</style>\n",
       "<table border=\"1\" class=\"dataframe\">\n",
       "  <thead>\n",
       "    <tr style=\"text-align: right;\">\n",
       "      <th>Ticker</th>\n",
       "      <th>0700.HK</th>\n",
       "      <th>ASR</th>\n",
       "      <th>CRWD</th>\n",
       "      <th>CTC-A.TO</th>\n",
       "      <th>DBK.DE</th>\n",
       "      <th>DGX</th>\n",
       "      <th>EXPE</th>\n",
       "      <th>FLUT</th>\n",
       "      <th>MP</th>\n",
       "      <th>NVDA</th>\n",
       "      <th>NVO</th>\n",
       "      <th>OPRA</th>\n",
       "      <th>RHM.DE</th>\n",
       "      <th>RR.L</th>\n",
       "      <th>RTX</th>\n",
       "      <th>SCAN.V</th>\n",
       "      <th>SHEL</th>\n",
       "      <th>SMCI</th>\n",
       "      <th>VLA.PA</th>\n",
       "      <th>VST</th>\n",
       "    </tr>\n",
       "    <tr>\n",
       "      <th>Date</th>\n",
       "      <th></th>\n",
       "      <th></th>\n",
       "      <th></th>\n",
       "      <th></th>\n",
       "      <th></th>\n",
       "      <th></th>\n",
       "      <th></th>\n",
       "      <th></th>\n",
       "      <th></th>\n",
       "      <th></th>\n",
       "      <th></th>\n",
       "      <th></th>\n",
       "      <th></th>\n",
       "      <th></th>\n",
       "      <th></th>\n",
       "      <th></th>\n",
       "      <th></th>\n",
       "      <th></th>\n",
       "      <th></th>\n",
       "      <th></th>\n",
       "    </tr>\n",
       "  </thead>\n",
       "  <tbody>\n",
       "    <tr>\n",
       "      <th>2025-02-17</th>\n",
       "      <td>63.422555</td>\n",
       "      <td>NaN</td>\n",
       "      <td>NaN</td>\n",
       "      <td>NaN</td>\n",
       "      <td>19.691999</td>\n",
       "      <td>NaN</td>\n",
       "      <td>NaN</td>\n",
       "      <td>NaN</td>\n",
       "      <td>NaN</td>\n",
       "      <td>NaN</td>\n",
       "      <td>NaN</td>\n",
       "      <td>NaN</td>\n",
       "      <td>931.599976</td>\n",
       "      <td>635.400024</td>\n",
       "      <td>NaN</td>\n",
       "      <td>NaN</td>\n",
       "      <td>NaN</td>\n",
       "      <td>NaN</td>\n",
       "      <td>3.390</td>\n",
       "      <td>NaN</td>\n",
       "    </tr>\n",
       "    <tr>\n",
       "      <th>2025-02-18</th>\n",
       "      <td>64.716226</td>\n",
       "      <td>286.190002</td>\n",
       "      <td>455.359985</td>\n",
       "      <td>140.000000</td>\n",
       "      <td>19.969999</td>\n",
       "      <td>169.649994</td>\n",
       "      <td>204.210007</td>\n",
       "      <td>294.279999</td>\n",
       "      <td>23.450001</td>\n",
       "      <td>139.399994</td>\n",
       "      <td>82.330002</td>\n",
       "      <td>21.850000</td>\n",
       "      <td>928.799988</td>\n",
       "      <td>644.400024</td>\n",
       "      <td>123.136795</td>\n",
       "      <td>1.47</td>\n",
       "      <td>67.820000</td>\n",
       "      <td>55.799999</td>\n",
       "      <td>3.598</td>\n",
       "      <td>169.279999</td>\n",
       "    </tr>\n",
       "    <tr>\n",
       "      <th>2025-02-19</th>\n",
       "      <td>64.030661</td>\n",
       "      <td>283.880005</td>\n",
       "      <td>450.140015</td>\n",
       "      <td>145.089996</td>\n",
       "      <td>19.486000</td>\n",
       "      <td>171.750000</td>\n",
       "      <td>206.520004</td>\n",
       "      <td>291.750000</td>\n",
       "      <td>22.990000</td>\n",
       "      <td>139.229996</td>\n",
       "      <td>83.400002</td>\n",
       "      <td>21.360001</td>\n",
       "      <td>932.799988</td>\n",
       "      <td>642.599976</td>\n",
       "      <td>124.778488</td>\n",
       "      <td>1.91</td>\n",
       "      <td>67.599998</td>\n",
       "      <td>60.250000</td>\n",
       "      <td>3.650</td>\n",
       "      <td>169.350006</td>\n",
       "    </tr>\n",
       "    <tr>\n",
       "      <th>2025-02-20</th>\n",
       "      <td>62.588232</td>\n",
       "      <td>287.190002</td>\n",
       "      <td>436.140015</td>\n",
       "      <td>144.919998</td>\n",
       "      <td>19.370001</td>\n",
       "      <td>172.139999</td>\n",
       "      <td>205.139999</td>\n",
       "      <td>287.739990</td>\n",
       "      <td>23.180000</td>\n",
       "      <td>140.110001</td>\n",
       "      <td>83.739998</td>\n",
       "      <td>20.340000</td>\n",
       "      <td>889.599976</td>\n",
       "      <td>618.400024</td>\n",
       "      <td>124.479996</td>\n",
       "      <td>2.20</td>\n",
       "      <td>68.379997</td>\n",
       "      <td>59.270000</td>\n",
       "      <td>3.776</td>\n",
       "      <td>163.179993</td>\n",
       "    </tr>\n",
       "    <tr>\n",
       "      <th>2025-02-21</th>\n",
       "      <td>66.489875</td>\n",
       "      <td>273.510010</td>\n",
       "      <td>406.679993</td>\n",
       "      <td>141.809998</td>\n",
       "      <td>19.642000</td>\n",
       "      <td>172.240005</td>\n",
       "      <td>196.809998</td>\n",
       "      <td>272.609985</td>\n",
       "      <td>24.299999</td>\n",
       "      <td>134.429993</td>\n",
       "      <td>88.080002</td>\n",
       "      <td>19.590000</td>\n",
       "      <td>894.200012</td>\n",
       "      <td>611.400024</td>\n",
       "      <td>123.290001</td>\n",
       "      <td>2.00</td>\n",
       "      <td>66.699997</td>\n",
       "      <td>56.070000</td>\n",
       "      <td>3.708</td>\n",
       "      <td>150.440002</td>\n",
       "    </tr>\n",
       "    <tr>\n",
       "      <th>2025-02-24</th>\n",
       "      <td>63.993577</td>\n",
       "      <td>270.399994</td>\n",
       "      <td>391.720001</td>\n",
       "      <td>142.429993</td>\n",
       "      <td>19.719999</td>\n",
       "      <td>174.059998</td>\n",
       "      <td>199.970001</td>\n",
       "      <td>270.260010</td>\n",
       "      <td>24.270000</td>\n",
       "      <td>130.279999</td>\n",
       "      <td>90.589996</td>\n",
       "      <td>18.510000</td>\n",
       "      <td>951.400024</td>\n",
       "      <td>606.200012</td>\n",
       "      <td>125.430000</td>\n",
       "      <td>1.89</td>\n",
       "      <td>66.889999</td>\n",
       "      <td>51.610001</td>\n",
       "      <td>3.854</td>\n",
       "      <td>142.759995</td>\n",
       "    </tr>\n",
       "    <tr>\n",
       "      <th>2025-02-25</th>\n",
       "      <td>62.362602</td>\n",
       "      <td>269.890015</td>\n",
       "      <td>379.750000</td>\n",
       "      <td>146.000000</td>\n",
       "      <td>20.105000</td>\n",
       "      <td>175.410004</td>\n",
       "      <td>199.759995</td>\n",
       "      <td>260.489990</td>\n",
       "      <td>23.559999</td>\n",
       "      <td>126.629997</td>\n",
       "      <td>90.949997</td>\n",
       "      <td>18.150000</td>\n",
       "      <td>952.799988</td>\n",
       "      <td>615.000000</td>\n",
       "      <td>127.339996</td>\n",
       "      <td>1.98</td>\n",
       "      <td>66.900002</td>\n",
       "      <td>45.540001</td>\n",
       "      <td>3.650</td>\n",
       "      <td>137.919998</td>\n",
       "    </tr>\n",
       "    <tr>\n",
       "      <th>2025-02-26</th>\n",
       "      <td>64.516381</td>\n",
       "      <td>273.869995</td>\n",
       "      <td>394.559998</td>\n",
       "      <td>146.080002</td>\n",
       "      <td>20.900000</td>\n",
       "      <td>173.460007</td>\n",
       "      <td>199.539993</td>\n",
       "      <td>273.220001</td>\n",
       "      <td>23.770000</td>\n",
       "      <td>131.279999</td>\n",
       "      <td>89.550003</td>\n",
       "      <td>18.360001</td>\n",
       "      <td>970.000000</td>\n",
       "      <td>631.000000</td>\n",
       "      <td>127.309998</td>\n",
       "      <td>1.97</td>\n",
       "      <td>67.400002</td>\n",
       "      <td>51.110001</td>\n",
       "      <td>3.650</td>\n",
       "      <td>148.190002</td>\n",
       "    </tr>\n",
       "    <tr>\n",
       "      <th>2025-02-27</th>\n",
       "      <td>63.733273</td>\n",
       "      <td>264.859985</td>\n",
       "      <td>380.239990</td>\n",
       "      <td>143.429993</td>\n",
       "      <td>20.500000</td>\n",
       "      <td>171.550003</td>\n",
       "      <td>193.550003</td>\n",
       "      <td>271.769989</td>\n",
       "      <td>23.459999</td>\n",
       "      <td>120.150002</td>\n",
       "      <td>89.220001</td>\n",
       "      <td>17.980000</td>\n",
       "      <td>1001.000000</td>\n",
       "      <td>731.599976</td>\n",
       "      <td>130.520004</td>\n",
       "      <td>1.97</td>\n",
       "      <td>67.269997</td>\n",
       "      <td>42.950001</td>\n",
       "      <td>3.562</td>\n",
       "      <td>130.009995</td>\n",
       "    </tr>\n",
       "    <tr>\n",
       "      <th>2025-02-28</th>\n",
       "      <td>61.541942</td>\n",
       "      <td>270.820007</td>\n",
       "      <td>389.660004</td>\n",
       "      <td>142.729996</td>\n",
       "      <td>20.725000</td>\n",
       "      <td>172.899994</td>\n",
       "      <td>197.960007</td>\n",
       "      <td>280.589996</td>\n",
       "      <td>24.010000</td>\n",
       "      <td>124.919998</td>\n",
       "      <td>90.650002</td>\n",
       "      <td>18.660000</td>\n",
       "      <td>1006.500000</td>\n",
       "      <td>744.000000</td>\n",
       "      <td>132.990005</td>\n",
       "      <td>1.64</td>\n",
       "      <td>67.459999</td>\n",
       "      <td>41.459999</td>\n",
       "      <td>3.302</td>\n",
       "      <td>133.660004</td>\n",
       "    </tr>\n",
       "  </tbody>\n",
       "</table>\n",
       "</div>"
      ],
      "text/plain": [
       "Ticker        0700.HK         ASR        CRWD    CTC-A.TO     DBK.DE  \\\n",
       "Date                                                                   \n",
       "2025-02-17  63.422555         NaN         NaN         NaN  19.691999   \n",
       "2025-02-18  64.716226  286.190002  455.359985  140.000000  19.969999   \n",
       "2025-02-19  64.030661  283.880005  450.140015  145.089996  19.486000   \n",
       "2025-02-20  62.588232  287.190002  436.140015  144.919998  19.370001   \n",
       "2025-02-21  66.489875  273.510010  406.679993  141.809998  19.642000   \n",
       "2025-02-24  63.993577  270.399994  391.720001  142.429993  19.719999   \n",
       "2025-02-25  62.362602  269.890015  379.750000  146.000000  20.105000   \n",
       "2025-02-26  64.516381  273.869995  394.559998  146.080002  20.900000   \n",
       "2025-02-27  63.733273  264.859985  380.239990  143.429993  20.500000   \n",
       "2025-02-28  61.541942  270.820007  389.660004  142.729996  20.725000   \n",
       "\n",
       "Ticker             DGX        EXPE        FLUT         MP        NVDA  \\\n",
       "Date                                                                    \n",
       "2025-02-17         NaN         NaN         NaN        NaN         NaN   \n",
       "2025-02-18  169.649994  204.210007  294.279999  23.450001  139.399994   \n",
       "2025-02-19  171.750000  206.520004  291.750000  22.990000  139.229996   \n",
       "2025-02-20  172.139999  205.139999  287.739990  23.180000  140.110001   \n",
       "2025-02-21  172.240005  196.809998  272.609985  24.299999  134.429993   \n",
       "2025-02-24  174.059998  199.970001  270.260010  24.270000  130.279999   \n",
       "2025-02-25  175.410004  199.759995  260.489990  23.559999  126.629997   \n",
       "2025-02-26  173.460007  199.539993  273.220001  23.770000  131.279999   \n",
       "2025-02-27  171.550003  193.550003  271.769989  23.459999  120.150002   \n",
       "2025-02-28  172.899994  197.960007  280.589996  24.010000  124.919998   \n",
       "\n",
       "Ticker            NVO       OPRA       RHM.DE        RR.L         RTX  SCAN.V  \\\n",
       "Date                                                                            \n",
       "2025-02-17        NaN        NaN   931.599976  635.400024         NaN     NaN   \n",
       "2025-02-18  82.330002  21.850000   928.799988  644.400024  123.136795    1.47   \n",
       "2025-02-19  83.400002  21.360001   932.799988  642.599976  124.778488    1.91   \n",
       "2025-02-20  83.739998  20.340000   889.599976  618.400024  124.479996    2.20   \n",
       "2025-02-21  88.080002  19.590000   894.200012  611.400024  123.290001    2.00   \n",
       "2025-02-24  90.589996  18.510000   951.400024  606.200012  125.430000    1.89   \n",
       "2025-02-25  90.949997  18.150000   952.799988  615.000000  127.339996    1.98   \n",
       "2025-02-26  89.550003  18.360001   970.000000  631.000000  127.309998    1.97   \n",
       "2025-02-27  89.220001  17.980000  1001.000000  731.599976  130.520004    1.97   \n",
       "2025-02-28  90.650002  18.660000  1006.500000  744.000000  132.990005    1.64   \n",
       "\n",
       "Ticker           SHEL       SMCI  VLA.PA         VST  \n",
       "Date                                                  \n",
       "2025-02-17        NaN        NaN   3.390         NaN  \n",
       "2025-02-18  67.820000  55.799999   3.598  169.279999  \n",
       "2025-02-19  67.599998  60.250000   3.650  169.350006  \n",
       "2025-02-20  68.379997  59.270000   3.776  163.179993  \n",
       "2025-02-21  66.699997  56.070000   3.708  150.440002  \n",
       "2025-02-24  66.889999  51.610001   3.854  142.759995  \n",
       "2025-02-25  66.900002  45.540001   3.650  137.919998  \n",
       "2025-02-26  67.400002  51.110001   3.650  148.190002  \n",
       "2025-02-27  67.269997  42.950001   3.562  130.009995  \n",
       "2025-02-28  67.459999  41.459999   3.302  133.660004  "
      ]
     },
     "execution_count": 92,
     "metadata": {},
     "output_type": "execute_result"
    }
   ],
   "source": [
    "# Get unique tickers and track which ones are from Hong Kong\n",
    "unique_tickers = []\n",
    "hk_tickers = []  # Hong Kong stocks (HKD)\n",
    "eur_tickers = []  # European stocks (EUR)\n",
    "gbp_tickers = []  # UK stocks (GBP)\n",
    "cad_tickers = []  # Canadian stocks (CAD)\n",
    "\n",
    "for position in POSITIONS:\n",
    "    ticker = position['ticker']\n",
    "    exchange = position['exchange']\n",
    "    \n",
    "    # Format ticker based on exchange\n",
    "    if exchange == 'NYSE' or exchange == 'NASDAQ':\n",
    "        formatted_ticker = ticker\n",
    "    elif exchange == 'HKG':\n",
    "        formatted_ticker = f\"{ticker}.HK\"  # Hong Kong stocks use .HK suffix\n",
    "        hk_tickers.append(formatted_ticker)\n",
    "    elif exchange == 'EPA':\n",
    "        formatted_ticker = f\"{ticker}.PA\"  # Paris stocks use .PA suffix\n",
    "        eur_tickers.append(formatted_ticker)\n",
    "    elif exchange == 'LON':\n",
    "        formatted_ticker = f\"{ticker}.L\"  # London stocks use .L suffix\n",
    "        gbp_tickers.append(formatted_ticker)\n",
    "    elif exchange == 'TSE':\n",
    "        formatted_ticker = f\"{ticker}-A.TO\"  # Toronto stocks use .TO suffix (CTC-A is a special case)\n",
    "        cad_tickers.append(formatted_ticker)\n",
    "    elif exchange == 'CVE':\n",
    "        formatted_ticker = f\"{ticker}.V\"  # .V according to the Yahoo Finance\n",
    "        cad_tickers.append(formatted_ticker)\n",
    "    elif exchange == 'XETRA':\n",
    "        formatted_ticker = f\"{ticker}.DE\"  # .DE according to the Yahoo Finance (ETR/XETRA stock exchange)\n",
    "        eur_tickers.append(formatted_ticker)\n",
    "    else:\n",
    "        formatted_ticker = ticker\n",
    "        \n",
    "    unique_tickers.append(formatted_ticker)\n",
    "\n",
    "print(f\"Downloading data for {len(unique_tickers)} unique tickers from {START_DATE} to {END_DATE}\")\n",
    "\n",
    "# Download historical data for all tickers\n",
    "stock_data = yf.download(unique_tickers, start=START_DATE, end=END_DATE)\n",
    "\n",
    "# We'll use the 'Close' prices for our calculations\n",
    "prices_df = stock_data['Close'].copy()  # Create a copy to avoid SettingWithCopyWarning\n",
    "\n",
    "# Download HKD to USD exchange rate data if we have Hong Kong stocks\n",
    "if hk_tickers:\n",
    "    print(\"\\nDownloading HKD/USD exchange rate data for currency conversion...\")\n",
    "    # HKDUSD=X is the Yahoo Finance ticker for HKD to USD exchange rate\n",
    "    exchange_rate_data = yf.download('HKDUSD=X', start=START_DATE, end=END_DATE)\n",
    "    exchange_rate = exchange_rate_data['Close']\n",
    "    \n",
    "    # Convert Hong Kong stock prices from HKD to USD using the join approach\n",
    "    for ticker in hk_tickers:\n",
    "        print(f\"\\nProcessing {ticker} using join operation...\")\n",
    "        \n",
    "        # Check if ticker exists in prices_df\n",
    "        if ticker in prices_df.columns:\n",
    "            # Get the HKD prices\n",
    "            hkd_prices = prices_df[ticker]\n",
    "        else:\n",
    "            # Download the data directly\n",
    "            print(f\"Ticker {ticker} not found in original data, downloading directly...\")\n",
    "            single_stock_data = yf.download(ticker, start=START_DATE, end=END_DATE)\n",
    "            \n",
    "            if single_stock_data.empty:\n",
    "                print(f\"Error: Could not download data for {ticker}\")\n",
    "                continue\n",
    "                \n",
    "            hkd_prices = single_stock_data['Close']\n",
    "        \n",
    "        # Create a temporary DataFrame with both series properly indexed\n",
    "        temp_df = pd.DataFrame({'HKD_Price': hkd_prices})\n",
    "        temp_df['USD_Rate'] = exchange_rate  # This will align indices automatically\n",
    "        \n",
    "        # Calculate USD prices only where both values exist\n",
    "        temp_df['USD_Price'] = temp_df['HKD_Price'] * temp_df['USD_Rate']\n",
    "        \n",
    "        # Print statistics\n",
    "        print(f\"Original HKD prices: {hkd_prices.notna().sum()} non-null values\")\n",
    "        print(f\"Exchange rates: {exchange_rate.notna().sum()} non-null values\")\n",
    "        print(f\"Converted USD prices: {temp_df['USD_Price'].notna().sum()} non-null values\")\n",
    "        \n",
    "        # Add the converted prices to prices_df\n",
    "        prices_df.loc[:, ticker] = temp_df['USD_Price']\n",
    "        \n",
    "        print(f\"Successfully processed {ticker}\")\n",
    "\n",
    "# Display the first few rows of the data\n",
    "print(\"\\nFirst few rows of price data (all in USD):\")\n",
    "prices_df.tail(10)"
   ]
  },
  {
   "cell_type": "code",
   "execution_count": 93,
   "metadata": {},
   "outputs": [
    {
     "name": "stderr",
     "output_type": "stream",
     "text": [
      "[*********************100%***********************]  1 of 1 completed\n",
      "[*********************100%***********************]  1 of 1 completed\n",
      "[*********************100%***********************]  1 of 1 completed"
     ]
    },
    {
     "name": "stdout",
     "output_type": "stream",
     "text": [
      "\n",
      "Downloading EUR/USD exchange rate data for currency conversion...\n",
      "Downloaded 5515 days of EUR/USD rates\n",
      "\n",
      "Downloading GBP/USD exchange rate data for currency conversion...\n",
      "Downloaded 5527 days of GBP/USD rates\n",
      "\n",
      "Downloading CAD/USD exchange rate data for currency conversion...\n",
      "Downloaded 5583 days of CAD/USD rates\n"
     ]
    },
    {
     "name": "stderr",
     "output_type": "stream",
     "text": [
      "\n"
     ]
    }
   ],
   "source": [
    "# OTHER CURRENCIES : EUR, GBP, CAD\n",
    "# -------------------------------\n",
    "# Download EUR to USD exchange rate data if we have European stocks\n",
    "if eur_tickers:\n",
    "    print(\"\\nDownloading EUR/USD exchange rate data for currency conversion...\")\n",
    "    eur_usd_data = yf.download('EURUSD=X', start=START_DATE, end=END_DATE)\n",
    "    eur_usd_rate = eur_usd_data['Close']\n",
    "    print(f\"Downloaded {len(eur_usd_rate)} days of EUR/USD rates\")\n",
    "\n",
    "# Download GBP to USD exchange rate data if we have UK stocks\n",
    "if gbp_tickers:\n",
    "    print(\"\\nDownloading GBP/USD exchange rate data for currency conversion...\")\n",
    "    gbp_usd_data = yf.download('GBPUSD=X', start=START_DATE, end=END_DATE)\n",
    "    gbp_usd_rate = gbp_usd_data['Close']\n",
    "    print(f\"Downloaded {len(gbp_usd_rate)} days of GBP/USD rates\")\n",
    "\n",
    "# Download CAD to USD exchange rate data if we have Canadian stocks\n",
    "if cad_tickers:\n",
    "    print(\"\\nDownloading CAD/USD exchange rate data for currency conversion...\")\n",
    "    cad_usd_data = yf.download('CADUSD=X', start=START_DATE, end=END_DATE)\n",
    "    cad_usd_rate = cad_usd_data['Close']\n",
    "    print(f\"Downloaded {len(cad_usd_rate)} days of CAD/USD rates\")"
   ]
  },
  {
   "cell_type": "code",
   "execution_count": 94,
   "metadata": {},
   "outputs": [
    {
     "name": "stdout",
     "output_type": "stream",
     "text": [
      "\n",
      "Processing VLA.PA (EUR) using join operation...\n",
      "Original EUR prices: 4523 non-null values\n",
      "Exchange rates: Ticker\n",
      "EURUSD=X    5515\n",
      "dtype: int64 non-null values\n",
      "Converted USD prices: 4497 non-null values\n",
      "Successfully processed VLA.PA\n",
      "\n",
      "Processing DBK.DE (EUR) using join operation...\n",
      "Original EUR prices: 6433 non-null values\n",
      "Exchange rates: Ticker\n",
      "EURUSD=X    5515\n",
      "dtype: int64 non-null values\n",
      "Converted USD prices: 5385 non-null values\n",
      "Successfully processed DBK.DE\n",
      "\n",
      "Processing RHM.DE (EUR) using join operation...\n",
      "Original EUR prices: 6433 non-null values\n",
      "Exchange rates: Ticker\n",
      "EURUSD=X    5515\n",
      "dtype: int64 non-null values\n",
      "Converted USD prices: 5385 non-null values\n",
      "Successfully processed RHM.DE\n",
      "\n",
      "Processing RR.L (GBP) using join operation...\n",
      "Original GBP prices: 6407 non-null values\n",
      "Exchange rates: Ticker\n",
      "GBPUSD=X    5527\n",
      "dtype: int64 non-null values\n",
      "Converted USD prices: 5370 non-null values\n",
      "Successfully processed RR.L\n",
      "\n",
      "Processing CTC-A.TO (CAD) using join operation...\n",
      "Original CAD prices: 6317 non-null values\n",
      "Exchange rates: Ticker\n",
      "CADUSD=X    5583\n",
      "dtype: int64 non-null values\n",
      "Converted USD prices: 5371 non-null values\n",
      "Successfully processed CTC-A.TO\n",
      "\n",
      "Processing SCAN.V (CAD) using join operation...\n",
      "Original CAD prices: 2937 non-null values\n",
      "Exchange rates: Ticker\n",
      "CADUSD=X    5583\n",
      "dtype: int64 non-null values\n",
      "Converted USD prices: 2933 non-null values\n",
      "Successfully processed SCAN.V\n"
     ]
    }
   ],
   "source": [
    "# Convert EUR stocks to USD using the join approach\n",
    "for ticker in eur_tickers:\n",
    "    print(f\"\\nProcessing {ticker} (EUR) using join operation...\")\n",
    "    \n",
    "    # Check if ticker exists in prices_df\n",
    "    if ticker in prices_df.columns:\n",
    "        eur_prices = prices_df[ticker]\n",
    "    else:\n",
    "        # Download the data directly\n",
    "        print(f\"Ticker {ticker} not found in original data, downloading directly...\")\n",
    "        stock_data = yf.download(ticker, start=START_DATE, end=END_DATE)\n",
    "        \n",
    "        if stock_data.empty:\n",
    "            print(f\"Error: Could not download data for {ticker}\")\n",
    "            continue\n",
    "            \n",
    "        eur_prices = stock_data['Close']\n",
    "    \n",
    "    # Create a temporary DataFrame with both series properly indexed\n",
    "    temp_df = pd.DataFrame({'EUR_Price': eur_prices})\n",
    "    temp_df['USD_Rate'] = eur_usd_rate  # This will align indices automatically\n",
    "    \n",
    "    # Calculate USD prices only where both values exist\n",
    "    temp_df['USD_Price'] = temp_df['EUR_Price'] * temp_df['USD_Rate']\n",
    "    \n",
    "    # Print statistics\n",
    "    print(f\"Original EUR prices: {eur_prices.notna().sum()} non-null values\")\n",
    "    print(f\"Exchange rates: {eur_usd_rate.notna().sum()} non-null values\")\n",
    "    print(f\"Converted USD prices: {temp_df['USD_Price'].notna().sum()} non-null values\")\n",
    "    \n",
    "    # Add the converted prices to prices_df\n",
    "    prices_df.loc[:, ticker] = temp_df['USD_Price']\n",
    "    \n",
    "    print(f\"Successfully processed {ticker}\")\n",
    "\n",
    "# Convert GBP stocks to USD using the join approach\n",
    "for ticker in gbp_tickers:\n",
    "    print(f\"\\nProcessing {ticker} (GBP) using join operation...\")\n",
    "    \n",
    "    # Check if ticker exists in prices_df\n",
    "    if ticker in prices_df.columns:\n",
    "        gbp_prices = prices_df[ticker]\n",
    "    else:\n",
    "        # Download the data directly\n",
    "        print(f\"Ticker {ticker} not found in original data, downloading directly...\")\n",
    "        stock_data = yf.download(ticker, start=START_DATE, end=END_DATE)\n",
    "        \n",
    "        if stock_data.empty:\n",
    "            print(f\"Error: Could not download data for {ticker}\")\n",
    "            continue\n",
    "            \n",
    "        gbp_prices = stock_data['Close']\n",
    "    \n",
    "    # Create a temporary DataFrame with both series properly indexed\n",
    "    temp_df = pd.DataFrame({'GBP_Price': gbp_prices})\n",
    "    temp_df['USD_Rate'] = gbp_usd_rate  # This will align indices automatically\n",
    "    \n",
    "    # Calculate USD prices only where both values exist\n",
    "    temp_df['USD_Price'] = temp_df['GBP_Price'] * temp_df['USD_Rate']\n",
    "    \n",
    "    # Print statistics\n",
    "    print(f\"Original GBP prices: {gbp_prices.notna().sum()} non-null values\")\n",
    "    print(f\"Exchange rates: {gbp_usd_rate.notna().sum()} non-null values\")\n",
    "    print(f\"Converted USD prices: {temp_df['USD_Price'].notna().sum()} non-null values\")\n",
    "    \n",
    "    # Add the converted prices to prices_df\n",
    "    prices_df.loc[:, ticker] = temp_df['USD_Price']\n",
    "    \n",
    "    print(f\"Successfully processed {ticker}\")\n",
    "\n",
    "# Convert CAD stocks to USD using the join approach\n",
    "for ticker in cad_tickers:\n",
    "    print(f\"\\nProcessing {ticker} (CAD) using join operation...\")\n",
    "    \n",
    "    # Check if ticker exists in prices_df\n",
    "    if ticker in prices_df.columns:\n",
    "        cad_prices = prices_df[ticker]\n",
    "    else:\n",
    "        # Download the data directly\n",
    "        print(f\"Ticker {ticker} not found in original data, downloading directly...\")\n",
    "        stock_data = yf.download(ticker, start=START_DATE, end=END_DATE)\n",
    "        \n",
    "        if stock_data.empty:\n",
    "            print(f\"Error: Could not download data for {ticker}\")\n",
    "            continue\n",
    "            \n",
    "        cad_prices = stock_data['Close']\n",
    "    \n",
    "    # Create a temporary DataFrame with both series properly indexed\n",
    "    temp_df = pd.DataFrame({'CAD_Price': cad_prices})\n",
    "    temp_df['USD_Rate'] = cad_usd_rate  # This will align indices automatically\n",
    "    \n",
    "    # Calculate USD prices only where both values exist\n",
    "    temp_df['USD_Price'] = temp_df['CAD_Price'] * temp_df['USD_Rate']\n",
    "    \n",
    "    # Print statistics\n",
    "    print(f\"Original CAD prices: {cad_prices.notna().sum()} non-null values\")\n",
    "    print(f\"Exchange rates: {cad_usd_rate.notna().sum()} non-null values\")\n",
    "    print(f\"Converted USD prices: {temp_df['USD_Price'].notna().sum()} non-null values\")\n",
    "    \n",
    "    # Add the converted prices to prices_df\n",
    "    prices_df.loc[:, ticker] = temp_df['USD_Price']\n",
    "    \n",
    "    print(f\"Successfully processed {ticker}\")\n",
    "\n",
    "# --------------------------------------------"
   ]
  },
  {
   "cell_type": "code",
   "execution_count": 95,
   "metadata": {},
   "outputs": [
    {
     "name": "stdout",
     "output_type": "stream",
     "text": [
      "Weight sum for each person:\n",
      "Ivan: 1.00 (OK)\n",
      "Abhi: 1.00 (OK)\n",
      "Conor: 1.00 (OK)\n",
      "Diarbhail: 1.00 (OK)\n",
      "Radu: 1.00 (OK)\n",
      "Silvia: 0.99 (ERROR - Not 100%)\n"
     ]
    },
    {
     "data": {
      "application/vnd.plotly.v1+json": {
       "config": {
        "plotlyServerURL": "https://plot.ly"
       },
       "data": [
        {
         "hovertemplate": "Status=OK<br>Person=%{x}<br>Total Weight=%{text}<extra></extra>",
         "legendgroup": "OK",
         "marker": {
          "color": "green",
          "pattern": {
           "shape": ""
          }
         },
         "name": "OK",
         "orientation": "v",
         "showlegend": true,
         "text": {
          "bdata": "AAAAAAAA8D8AAAAAAADwPwAAAAAAAPA/AAAAAAAA8D8AAAAAAADwPw==",
          "dtype": "f8"
         },
         "textposition": "auto",
         "type": "bar",
         "x": [
          "Ivan",
          "Abhi",
          "Conor",
          "Diarbhail",
          "Radu"
         ],
         "xaxis": "x",
         "y": {
          "bdata": "AAAAAAAA8D8AAAAAAADwPwAAAAAAAPA/AAAAAAAA8D8AAAAAAADwPw==",
          "dtype": "f8"
         },
         "yaxis": "y"
        },
        {
         "hovertemplate": "Status=ERROR - Not 100%<br>Person=%{x}<br>Total Weight=%{text}<extra></extra>",
         "legendgroup": "ERROR - Not 100%",
         "marker": {
          "color": "red",
          "pattern": {
           "shape": ""
          }
         },
         "name": "ERROR - Not 100%",
         "orientation": "v",
         "showlegend": true,
         "text": {
          "bdata": "rkfhehSu7z8=",
          "dtype": "f8"
         },
         "textposition": "auto",
         "type": "bar",
         "x": [
          "Silvia"
         ],
         "xaxis": "x",
         "y": {
          "bdata": "rkfhehSu7z8=",
          "dtype": "f8"
         },
         "yaxis": "y"
        }
       ],
       "layout": {
        "barmode": "relative",
        "legend": {
         "title": {
          "text": "Status"
         },
         "tracegroupgap": 0
        },
        "shapes": [
         {
          "line": {
           "color": "black",
           "dash": "dash",
           "width": 2
          },
          "type": "line",
          "x0": -0.5,
          "x1": 5.5,
          "y0": 1,
          "y1": 1
         }
        ],
        "template": {
         "data": {
          "pie": [
           {
            "automargin": true,
            "type": "pie"
           }
          ],
          "scatter": [
           {
            "line": {
             "width": 3
            },
            "marker": {
             "size": 9
            },
            "type": "scatter"
           }
          ],
          "scatter3d": [
           {
            "line": {
             "width": 3
            },
            "marker": {
             "size": 9
            },
            "type": "scatter3d"
           }
          ],
          "scattergeo": [
           {
            "line": {
             "width": 3
            },
            "marker": {
             "size": 9
            },
            "type": "scattergeo"
           }
          ],
          "scattergl": [
           {
            "line": {
             "width": 3
            },
            "marker": {
             "size": 9
            },
            "type": "scattergl"
           }
          ],
          "scatterpolar": [
           {
            "line": {
             "width": 3
            },
            "marker": {
             "size": 9
            },
            "type": "scatterpolar"
           }
          ],
          "scatterpolargl": [
           {
            "line": {
             "width": 3
            },
            "marker": {
             "size": 9
            },
            "type": "scatterpolargl"
           }
          ],
          "scatterternary": [
           {
            "line": {
             "width": 3
            },
            "marker": {
             "size": 9
            },
            "type": "scatterternary"
           }
          ],
          "table": [
           {
            "cells": {
             "height": 30
            },
            "header": {
             "height": 36
            },
            "type": "table"
           }
          ]
         },
         "layout": {
          "font": {
           "size": 18
          },
          "xaxis": {
           "title": {
            "standoff": 15
           }
          },
          "yaxis": {
           "title": {
            "standoff": 15
           }
          }
         }
        },
        "title": {
         "text": "Portfolio Weight Distribution by Person"
        },
        "xaxis": {
         "anchor": "y",
         "domain": [
          0,
          1
         ],
         "title": {
          "text": "Person"
         }
        },
        "yaxis": {
         "anchor": "x",
         "domain": [
          0,
          1
         ],
         "tickformat": ".0%",
         "title": {
          "text": "Total Weight"
         }
        }
       }
      }
     },
     "metadata": {},
     "output_type": "display_data"
    }
   ],
   "source": [
    "# Check that each person's weights sum to 100%\n",
    "person_weights = {}\n",
    "\n",
    "for position in POSITIONS:\n",
    "    name = position['name']\n",
    "    weight = position['weight']\n",
    "    \n",
    "    if name not in person_weights:\n",
    "        person_weights[name] = 0\n",
    "    \n",
    "    person_weights[name] += weight\n",
    "\n",
    "# Create a DataFrame for visualization\n",
    "weights_df = pd.DataFrame({\n",
    "    'Person': list(person_weights.keys()),\n",
    "    'Total Weight': list(person_weights.values())\n",
    "})\n",
    "\n",
    "# Add a status column\n",
    "weights_df['Status'] = weights_df['Total Weight'].apply(lambda x: 'OK' if abs(x - 1.0) < 0.01 else 'ERROR - Not 100%')\n",
    "\n",
    "# Display the results\n",
    "print(\"Weight sum for each person:\")\n",
    "for name, total_weight in person_weights.items():\n",
    "    print(f\"{name}: {total_weight:.2f} ({'OK' if abs(total_weight - 1.0) < 0.01 else 'ERROR - Not 100%'})\")\n",
    "\n",
    "# Create a bar chart to visualize the weights\n",
    "fig = px.bar(\n",
    "    weights_df, \n",
    "    x='Person', \n",
    "    y='Total Weight',\n",
    "    color='Status',\n",
    "    title='Portfolio Weight Distribution by Person',\n",
    "    text='Total Weight',\n",
    "    color_discrete_map={'OK': 'green', 'ERROR - Not 100%': 'red'}\n",
    ")\n",
    "\n",
    "# Add a horizontal line at 1.0 (100%)\n",
    "fig.add_shape(\n",
    "    type=\"line\",\n",
    "    x0=-0.5,\n",
    "    y0=1.0,\n",
    "    x1=len(weights_df)-0.5,\n",
    "    y1=1.0,\n",
    "    line=dict(color=\"black\", width=2, dash=\"dash\")\n",
    ")\n",
    "\n",
    "# Format the y-axis as percentage\n",
    "fig.update_layout(\n",
    "    yaxis=dict(title=\"Total Weight\", tickformat=\".0%\"),\n",
    "    template='presentation'\n",
    ")\n",
    "\n",
    "# Show the figure\n",
    "fig.show()"
   ]
  },
  {
   "cell_type": "code",
   "execution_count": 96,
   "metadata": {},
   "outputs": [
    {
     "name": "stdout",
     "output_type": "stream",
     "text": [
      "Initial portfolio allocations:\n"
     ]
    },
    {
     "data": {
      "text/html": [
       "<div>\n",
       "<style scoped>\n",
       "    .dataframe tbody tr th:only-of-type {\n",
       "        vertical-align: middle;\n",
       "    }\n",
       "\n",
       "    .dataframe tbody tr th {\n",
       "        vertical-align: top;\n",
       "    }\n",
       "\n",
       "    .dataframe thead th {\n",
       "        text-align: right;\n",
       "    }\n",
       "</style>\n",
       "<table border=\"1\" class=\"dataframe\">\n",
       "  <thead>\n",
       "    <tr style=\"text-align: right;\">\n",
       "      <th></th>\n",
       "      <th>name</th>\n",
       "      <th>ticker</th>\n",
       "      <th>weight</th>\n",
       "      <th>normalized_weight</th>\n",
       "      <th>allocation_usd</th>\n",
       "    </tr>\n",
       "  </thead>\n",
       "  <tbody>\n",
       "    <tr>\n",
       "      <th>0</th>\n",
       "      <td>Ivan</td>\n",
       "      <td>VST</td>\n",
       "      <td>0.40</td>\n",
       "      <td>0.400000</td>\n",
       "      <td>40000.000000</td>\n",
       "    </tr>\n",
       "    <tr>\n",
       "      <th>1</th>\n",
       "      <td>Ivan</td>\n",
       "      <td>EXPE</td>\n",
       "      <td>0.30</td>\n",
       "      <td>0.300000</td>\n",
       "      <td>30000.000000</td>\n",
       "    </tr>\n",
       "    <tr>\n",
       "      <th>2</th>\n",
       "      <td>Ivan</td>\n",
       "      <td>DGX</td>\n",
       "      <td>0.30</td>\n",
       "      <td>0.300000</td>\n",
       "      <td>30000.000000</td>\n",
       "    </tr>\n",
       "    <tr>\n",
       "      <th>3</th>\n",
       "      <td>Abhi</td>\n",
       "      <td>ASR</td>\n",
       "      <td>0.40</td>\n",
       "      <td>0.400000</td>\n",
       "      <td>40000.000000</td>\n",
       "    </tr>\n",
       "    <tr>\n",
       "      <th>4</th>\n",
       "      <td>Abhi</td>\n",
       "      <td>0700.HK</td>\n",
       "      <td>0.25</td>\n",
       "      <td>0.250000</td>\n",
       "      <td>25000.000000</td>\n",
       "    </tr>\n",
       "    <tr>\n",
       "      <th>5</th>\n",
       "      <td>Abhi</td>\n",
       "      <td>SMCI</td>\n",
       "      <td>0.35</td>\n",
       "      <td>0.350000</td>\n",
       "      <td>35000.000000</td>\n",
       "    </tr>\n",
       "    <tr>\n",
       "      <th>6</th>\n",
       "      <td>Conor</td>\n",
       "      <td>VLA.PA</td>\n",
       "      <td>0.20</td>\n",
       "      <td>0.200000</td>\n",
       "      <td>20000.000000</td>\n",
       "    </tr>\n",
       "    <tr>\n",
       "      <th>7</th>\n",
       "      <td>Conor</td>\n",
       "      <td>RR.L</td>\n",
       "      <td>0.20</td>\n",
       "      <td>0.200000</td>\n",
       "      <td>20000.000000</td>\n",
       "    </tr>\n",
       "    <tr>\n",
       "      <th>8</th>\n",
       "      <td>Conor</td>\n",
       "      <td>CTC-A.TO</td>\n",
       "      <td>0.20</td>\n",
       "      <td>0.200000</td>\n",
       "      <td>20000.000000</td>\n",
       "    </tr>\n",
       "    <tr>\n",
       "      <th>9</th>\n",
       "      <td>Conor</td>\n",
       "      <td>SHEL</td>\n",
       "      <td>0.20</td>\n",
       "      <td>0.200000</td>\n",
       "      <td>20000.000000</td>\n",
       "    </tr>\n",
       "    <tr>\n",
       "      <th>10</th>\n",
       "      <td>Conor</td>\n",
       "      <td>CRWD</td>\n",
       "      <td>0.20</td>\n",
       "      <td>0.200000</td>\n",
       "      <td>20000.000000</td>\n",
       "    </tr>\n",
       "    <tr>\n",
       "      <th>11</th>\n",
       "      <td>Diarbhail</td>\n",
       "      <td>FLUT</td>\n",
       "      <td>0.34</td>\n",
       "      <td>0.340000</td>\n",
       "      <td>34000.000000</td>\n",
       "    </tr>\n",
       "    <tr>\n",
       "      <th>12</th>\n",
       "      <td>Diarbhail</td>\n",
       "      <td>NVDA</td>\n",
       "      <td>0.33</td>\n",
       "      <td>0.330000</td>\n",
       "      <td>33000.000000</td>\n",
       "    </tr>\n",
       "    <tr>\n",
       "      <th>13</th>\n",
       "      <td>Diarbhail</td>\n",
       "      <td>SCAN.V</td>\n",
       "      <td>0.33</td>\n",
       "      <td>0.330000</td>\n",
       "      <td>33000.000000</td>\n",
       "    </tr>\n",
       "    <tr>\n",
       "      <th>14</th>\n",
       "      <td>Radu</td>\n",
       "      <td>MP</td>\n",
       "      <td>0.10</td>\n",
       "      <td>0.100000</td>\n",
       "      <td>10000.000000</td>\n",
       "    </tr>\n",
       "    <tr>\n",
       "      <th>15</th>\n",
       "      <td>Radu</td>\n",
       "      <td>DBK.DE</td>\n",
       "      <td>0.50</td>\n",
       "      <td>0.500000</td>\n",
       "      <td>50000.000000</td>\n",
       "    </tr>\n",
       "    <tr>\n",
       "      <th>16</th>\n",
       "      <td>Radu</td>\n",
       "      <td>RTX</td>\n",
       "      <td>0.20</td>\n",
       "      <td>0.200000</td>\n",
       "      <td>20000.000000</td>\n",
       "    </tr>\n",
       "    <tr>\n",
       "      <th>17</th>\n",
       "      <td>Radu</td>\n",
       "      <td>RHM.DE</td>\n",
       "      <td>0.20</td>\n",
       "      <td>0.200000</td>\n",
       "      <td>20000.000000</td>\n",
       "    </tr>\n",
       "    <tr>\n",
       "      <th>18</th>\n",
       "      <td>Silvia</td>\n",
       "      <td>NVO</td>\n",
       "      <td>0.33</td>\n",
       "      <td>0.333333</td>\n",
       "      <td>33333.333333</td>\n",
       "    </tr>\n",
       "    <tr>\n",
       "      <th>19</th>\n",
       "      <td>Silvia</td>\n",
       "      <td>NVDA</td>\n",
       "      <td>0.33</td>\n",
       "      <td>0.333333</td>\n",
       "      <td>33333.333333</td>\n",
       "    </tr>\n",
       "    <tr>\n",
       "      <th>20</th>\n",
       "      <td>Silvia</td>\n",
       "      <td>OPRA</td>\n",
       "      <td>0.33</td>\n",
       "      <td>0.333333</td>\n",
       "      <td>33333.333333</td>\n",
       "    </tr>\n",
       "  </tbody>\n",
       "</table>\n",
       "</div>"
      ],
      "text/plain": [
       "         name    ticker  weight  normalized_weight  allocation_usd\n",
       "0        Ivan       VST    0.40           0.400000    40000.000000\n",
       "1        Ivan      EXPE    0.30           0.300000    30000.000000\n",
       "2        Ivan       DGX    0.30           0.300000    30000.000000\n",
       "3        Abhi       ASR    0.40           0.400000    40000.000000\n",
       "4        Abhi   0700.HK    0.25           0.250000    25000.000000\n",
       "5        Abhi      SMCI    0.35           0.350000    35000.000000\n",
       "6       Conor    VLA.PA    0.20           0.200000    20000.000000\n",
       "7       Conor      RR.L    0.20           0.200000    20000.000000\n",
       "8       Conor  CTC-A.TO    0.20           0.200000    20000.000000\n",
       "9       Conor      SHEL    0.20           0.200000    20000.000000\n",
       "10      Conor      CRWD    0.20           0.200000    20000.000000\n",
       "11  Diarbhail      FLUT    0.34           0.340000    34000.000000\n",
       "12  Diarbhail      NVDA    0.33           0.330000    33000.000000\n",
       "13  Diarbhail    SCAN.V    0.33           0.330000    33000.000000\n",
       "14       Radu        MP    0.10           0.100000    10000.000000\n",
       "15       Radu    DBK.DE    0.50           0.500000    50000.000000\n",
       "16       Radu       RTX    0.20           0.200000    20000.000000\n",
       "17       Radu    RHM.DE    0.20           0.200000    20000.000000\n",
       "18     Silvia       NVO    0.33           0.333333    33333.333333\n",
       "19     Silvia      NVDA    0.33           0.333333    33333.333333\n",
       "20     Silvia      OPRA    0.33           0.333333    33333.333333"
      ]
     },
     "execution_count": 96,
     "metadata": {},
     "output_type": "execute_result"
    }
   ],
   "source": [
    "# Allocate the initial investment based on weights\n",
    "portfolio_allocations = []\n",
    "\n",
    "for position in POSITIONS:\n",
    "    name = position['name']\n",
    "    ticker = position['ticker']\n",
    "    exchange = position['exchange']\n",
    "    weight = position['weight']\n",
    "    \n",
    "    # Format ticker based on exchange\n",
    "    if exchange == 'NYSE' or exchange == 'NASDAQ':\n",
    "        formatted_ticker = ticker\n",
    "    elif exchange == 'HKG':\n",
    "        formatted_ticker = f\"{ticker}.HK\"  # Hong Kong stocks use .HK suffix\n",
    "    elif exchange == 'EPA':\n",
    "        formatted_ticker = f\"{ticker}.PA\"  # Paris stocks use .PA suffix\n",
    "    elif exchange == 'LON':\n",
    "        formatted_ticker = f\"{ticker}.L\"  # London stocks use .L suffix\n",
    "    elif exchange == 'TSE':\n",
    "        formatted_ticker = f\"{ticker}-A.TO\"  # Toronto stocks use .TO suffix (CTC-A is a special case)\n",
    "    elif exchange == 'CVE':\n",
    "        formatted_ticker = f\"{ticker}.V\"  # .V according to the Yahoo Finance\n",
    "    elif exchange == 'XETRA':\n",
    "        formatted_ticker = f\"{ticker}.DE\"  # .V according to the Yahoo Finance\n",
    "    else:\n",
    "        formatted_ticker = ticker\n",
    "    \n",
    "    # Calculate allocation amount\n",
    "    # Normalize by the person's total weight to ensure 100% allocation\n",
    "    allocation_usd = INITIAL_VALUE_USD * (weight / person_weights[name])\n",
    "    \n",
    "    portfolio_allocations.append({\n",
    "        'name': name,\n",
    "        'ticker': formatted_ticker,\n",
    "        'weight': weight,\n",
    "        'normalized_weight': weight / person_weights[name],\n",
    "        'allocation_usd': allocation_usd\n",
    "    })\n",
    "\n",
    "# Create a DataFrame for better visualization\n",
    "allocations_df = pd.DataFrame(portfolio_allocations)\n",
    "print(\"Initial portfolio allocations:\")\n",
    "allocations_df"
   ]
  },
  {
   "cell_type": "code",
   "execution_count": 97,
   "metadata": {},
   "outputs": [
    {
     "data": {
      "application/vnd.plotly.v1+json": {
       "config": {
        "plotlyServerURL": "https://plot.ly"
       },
       "data": [
        {
         "branchvalues": "total",
         "customdata": [
          [
           "0.4",
           40000
          ],
          [
           "0.3",
           30000
          ],
          [
           "0.3",
           30000
          ],
          [
           "0.4",
           40000
          ],
          [
           "0.25",
           25000
          ],
          [
           "0.35",
           35000
          ],
          [
           "0.2",
           20000
          ],
          [
           "0.2",
           20000
          ],
          [
           "0.2",
           20000
          ],
          [
           "0.2",
           20000
          ],
          [
           "0.2",
           20000
          ],
          [
           "0.34",
           34000
          ],
          [
           "0.33",
           33000
          ],
          [
           "0.33",
           33000
          ],
          [
           "0.1",
           10000
          ],
          [
           "0.5",
           50000
          ],
          [
           "0.2",
           20000
          ],
          [
           "0.2",
           20000
          ],
          [
           "0.33333333333333337",
           33333.333333333336
          ],
          [
           "0.33333333333333337",
           33333.333333333336
          ],
          [
           "0.33333333333333337",
           33333.333333333336
          ],
          [
           "(?)",
           34000
          ],
          [
           "(?)",
           34500
          ],
          [
           "0.2",
           20000
          ],
          [
           "(?)",
           33340
          ],
          [
           "(?)",
           34000
          ],
          [
           "0.33333333333333337",
           33333.333333333336
          ]
         ],
         "domain": {
          "x": [
           0,
           1
          ],
          "y": [
           0,
           1
          ]
         },
         "hovertemplate": "labels=%{label}<br>allocation_usd_sum=%{value}<br>parent=%{parent}<br>id=%{id}<br>normalized_weight=%{customdata[0]}<br>allocation_usd=%{color}<extra></extra>",
         "ids": [
          "Ivan/VST",
          "Ivan/EXPE",
          "Ivan/DGX",
          "Abhi/ASR",
          "Abhi/0700.HK",
          "Abhi/SMCI",
          "Conor/VLA.PA",
          "Conor/RR.L",
          "Conor/CTC-A.TO",
          "Conor/SHEL",
          "Conor/CRWD",
          "Diarbhail/FLUT",
          "Diarbhail/NVDA",
          "Diarbhail/SCAN.V",
          "Radu/MP",
          "Radu/DBK.DE",
          "Radu/RTX",
          "Radu/RHM.DE",
          "Silvia/NVO",
          "Silvia/NVDA",
          "Silvia/OPRA",
          "Ivan",
          "Abhi",
          "Conor",
          "Diarbhail",
          "Radu",
          "Silvia"
         ],
         "labels": [
          "VST",
          "EXPE",
          "DGX",
          "ASR",
          "0700.HK",
          "SMCI",
          "VLA.PA",
          "RR.L",
          "CTC-A.TO",
          "SHEL",
          "CRWD",
          "FLUT",
          "NVDA",
          "SCAN.V",
          "MP",
          "DBK.DE",
          "RTX",
          "RHM.DE",
          "NVO",
          "NVDA",
          "OPRA",
          "Ivan",
          "Abhi",
          "Conor",
          "Diarbhail",
          "Radu",
          "Silvia"
         ],
         "marker": {
          "coloraxis": "coloraxis",
          "colors": {
           "bdata": "AAAAAACI40AAAAAAAEzdQAAAAAAATN1AAAAAAACI40AAAAAAAGrYQAAAAAAAF+FAAAAAAACI00AAAAAAAIjTQAAAAAAAiNNAAAAAAACI00AAAAAAAIjTQAAAAAAAmuBAAAAAAAAd4EAAAAAAAB3gQAAAAAAAiMNAAAAAAABq6EAAAAAAAIjTQAAAAAAAiNNAq6qqqqpG4ECrqqqqqkbgQKuqqqqqRuBAAAAAAACa4EAAAAAAgNjgQAAAAAAAiNNAAAAAAIBH4EAAAAAAAJrgQKuqqqqqRuBA",
           "dtype": "f8"
          }
         },
         "name": "",
         "parents": [
          "Ivan",
          "Ivan",
          "Ivan",
          "Abhi",
          "Abhi",
          "Abhi",
          "Conor",
          "Conor",
          "Conor",
          "Conor",
          "Conor",
          "Diarbhail",
          "Diarbhail",
          "Diarbhail",
          "Radu",
          "Radu",
          "Radu",
          "Radu",
          "Silvia",
          "Silvia",
          "Silvia",
          "",
          "",
          "",
          "",
          "",
          ""
         ],
         "textposition": "middle center",
         "texttemplate": "%{label}<br>$%{value:,.0f}<br>%{customdata[0]:.1%}",
         "type": "treemap",
         "values": {
          "bdata": "AAAAAACI40AAAAAAAEzdQAAAAAAATN1AAAAAAACI40AAAAAAAGrYQAAAAAAAF+FAAAAAAACI00AAAAAAAIjTQAAAAAAAiNNAAAAAAACI00AAAAAAAIjTQAAAAAAAmuBAAAAAAAAd4EAAAAAAAB3gQAAAAAAAiMNAAAAAAABq6EAAAAAAAIjTQAAAAAAAiNNAq6qqqqpG4ECrqqqqqkbgQKuqqqqqRuBAAAAAAABq+EAAAAAAAGr4QAAAAAAAavhAAAAAAABq+EAAAAAAAGr4QAAAAAAAavhA",
          "dtype": "f8"
         }
        }
       ],
       "layout": {
        "coloraxis": {
         "colorbar": {
          "title": {
           "text": "allocation_usd"
          }
         },
         "colorscale": [
          [
           0,
           "#440154"
          ],
          [
           0.1111111111111111,
           "#482878"
          ],
          [
           0.2222222222222222,
           "#3e4989"
          ],
          [
           0.3333333333333333,
           "#31688e"
          ],
          [
           0.4444444444444444,
           "#26828e"
          ],
          [
           0.5555555555555556,
           "#1f9e89"
          ],
          [
           0.6666666666666666,
           "#35b779"
          ],
          [
           0.7777777777777778,
           "#6ece58"
          ],
          [
           0.8888888888888888,
           "#b5de2b"
          ],
          [
           1,
           "#fde725"
          ]
         ]
        },
        "legend": {
         "tracegroupgap": 0
        },
        "template": {
         "data": {
          "pie": [
           {
            "automargin": true,
            "type": "pie"
           }
          ],
          "scatter": [
           {
            "line": {
             "width": 3
            },
            "marker": {
             "size": 9
            },
            "type": "scatter"
           }
          ],
          "scatter3d": [
           {
            "line": {
             "width": 3
            },
            "marker": {
             "size": 9
            },
            "type": "scatter3d"
           }
          ],
          "scattergeo": [
           {
            "line": {
             "width": 3
            },
            "marker": {
             "size": 9
            },
            "type": "scattergeo"
           }
          ],
          "scattergl": [
           {
            "line": {
             "width": 3
            },
            "marker": {
             "size": 9
            },
            "type": "scattergl"
           }
          ],
          "scatterpolar": [
           {
            "line": {
             "width": 3
            },
            "marker": {
             "size": 9
            },
            "type": "scatterpolar"
           }
          ],
          "scatterpolargl": [
           {
            "line": {
             "width": 3
            },
            "marker": {
             "size": 9
            },
            "type": "scatterpolargl"
           }
          ],
          "scatterternary": [
           {
            "line": {
             "width": 3
            },
            "marker": {
             "size": 9
            },
            "type": "scatterternary"
           }
          ],
          "table": [
           {
            "cells": {
             "height": 30
            },
            "header": {
             "height": 36
            },
            "type": "table"
           }
          ]
         },
         "layout": {
          "font": {
           "size": 18
          },
          "xaxis": {
           "title": {
            "standoff": 15
           }
          },
          "yaxis": {
           "title": {
            "standoff": 15
           }
          }
         }
        },
        "title": {
         "text": "Portfolio Allocations by Person and Stock"
        }
       }
      }
     },
     "metadata": {},
     "output_type": "display_data"
    }
   ],
   "source": [
    "# Visualize the allocations by person\n",
    "fig = px.treemap(\n",
    "    allocations_df,\n",
    "    path=['name', 'ticker'],\n",
    "    values='allocation_usd',\n",
    "    title='Portfolio Allocations by Person and Stock',\n",
    "    color='allocation_usd',\n",
    "    color_continuous_scale='Viridis',\n",
    "    hover_data=['normalized_weight']\n",
    ")\n",
    "\n",
    "fig.update_layout(template='presentation')\n",
    "fig.update_traces(texttemplate=\"%{label}<br>$%{value:,.0f}<br>%{customdata[0]:.1%}\", textposition=\"middle center\")\n",
    "fig.show()"
   ]
  },
  {
   "cell_type": "code",
   "execution_count": 98,
   "metadata": {},
   "outputs": [
    {
     "name": "stdout",
     "output_type": "stream",
     "text": [
      "Checking data availability for all tickers:\n",
      "VST: 2112 data points available\n",
      "EXPE: 4934 data points available\n",
      "DGX: 6328 data points available\n",
      "ASR: 6141 data points available\n",
      "0700.HK: 5087 data points available\n",
      "SMCI: 4510 data points available\n",
      "VLA.PA: 4497 data points available\n",
      "RR.L: 5370 data points available\n",
      "CTC-A.TO: 5371 data points available\n",
      "SHEL: 6328 data points available\n",
      "CRWD: 1438 data points available\n",
      "FLUT: 5637 data points available\n",
      "NVDA: 6328 data points available\n",
      "SCAN.V: 2933 data points available\n",
      "MP: 1179 data points available\n",
      "DBK.DE: 5385 data points available\n",
      "RTX: 6328 data points available\n",
      "RHM.DE: 5385 data points available\n",
      "NVO: 6328 data points available\n",
      "NVDA: 6328 data points available\n",
      "OPRA: 1657 data points available\n"
     ]
    }
   ],
   "source": [
    "# Let's check if we have data for all tickers\n",
    "print(\"Checking data availability for all tickers:\")\n",
    "for ticker in unique_tickers:\n",
    "    if ticker in prices_df.columns:\n",
    "        data_count = prices_df[ticker].count()\n",
    "        print(f\"{ticker}: {data_count} data points available\")\n",
    "    else:\n",
    "        print(f\"{ticker}: No data available\")\n",
    "\n",
    "# If 0700.HK is missing, try to download it directly\n",
    "if '0700.HK' not in prices_df.columns or prices_df['0700.HK'].isna().all():\n",
    "    print(\"\\nAttempting to download 0700.HK directly...\")\n",
    "    tencent_data = yf.download('0700.HK', start=START_DATE, end=END_DATE)\n",
    "    \n",
    "    if not tencent_data.empty:\n",
    "        # Add to our main dataframe\n",
    "        prices_df['0700.HK'] = tencent_data['Close']\n",
    "        \n",
    "        # Convert HKD to USD\n",
    "        common_dates = prices_df.index.intersection(exchange_rate.index)\n",
    "        prices_df.loc[common_dates, '0700.HK'] = prices_df.loc[common_dates, '0700.HK'] * exchange_rate.loc[common_dates]\n",
    "        print(f\"Successfully downloaded and converted 0700.HK prices from HKD to USD\")\n",
    "        \n",
    "        # Check data again\n",
    "        data_count = prices_df['0700.HK'].count()\n",
    "        print(f\"0700.HK: {data_count} data points available after direct download\")\n",
    "    else:\n",
    "        print(f\"Error: Could not download data for 0700.HK\")"
   ]
  },
  {
   "cell_type": "code",
   "execution_count": 99,
   "metadata": {},
   "outputs": [
    {
     "name": "stdout",
     "output_type": "stream",
     "text": [
      "Using prices from 2025-02-21 00:00:00 for allocation calculations\n",
      "\n",
      "Final portfolio with share allocations:\n"
     ]
    },
    {
     "data": {
      "text/html": [
       "<div>\n",
       "<style scoped>\n",
       "    .dataframe tbody tr th:only-of-type {\n",
       "        vertical-align: middle;\n",
       "    }\n",
       "\n",
       "    .dataframe tbody tr th {\n",
       "        vertical-align: top;\n",
       "    }\n",
       "\n",
       "    .dataframe thead th {\n",
       "        text-align: right;\n",
       "    }\n",
       "</style>\n",
       "<table border=\"1\" class=\"dataframe\">\n",
       "  <thead>\n",
       "    <tr style=\"text-align: right;\">\n",
       "      <th></th>\n",
       "      <th>name</th>\n",
       "      <th>ticker</th>\n",
       "      <th>shares</th>\n",
       "      <th>price_at_start</th>\n",
       "      <th>allocation_usd</th>\n",
       "    </tr>\n",
       "  </thead>\n",
       "  <tbody>\n",
       "    <tr>\n",
       "      <th>0</th>\n",
       "      <td>Ivan</td>\n",
       "      <td>VST</td>\n",
       "      <td>265.886728</td>\n",
       "      <td>150.440002</td>\n",
       "      <td>40000.000000</td>\n",
       "    </tr>\n",
       "    <tr>\n",
       "      <th>1</th>\n",
       "      <td>Ivan</td>\n",
       "      <td>EXPE</td>\n",
       "      <td>152.431281</td>\n",
       "      <td>196.809998</td>\n",
       "      <td>30000.000000</td>\n",
       "    </tr>\n",
       "    <tr>\n",
       "      <th>2</th>\n",
       "      <td>Ivan</td>\n",
       "      <td>DGX</td>\n",
       "      <td>174.175563</td>\n",
       "      <td>172.240005</td>\n",
       "      <td>30000.000000</td>\n",
       "    </tr>\n",
       "    <tr>\n",
       "      <th>3</th>\n",
       "      <td>Abhi</td>\n",
       "      <td>ASR</td>\n",
       "      <td>146.246933</td>\n",
       "      <td>273.510010</td>\n",
       "      <td>40000.000000</td>\n",
       "    </tr>\n",
       "    <tr>\n",
       "      <th>4</th>\n",
       "      <td>Abhi</td>\n",
       "      <td>0700.HK</td>\n",
       "      <td>375.997095</td>\n",
       "      <td>66.489875</td>\n",
       "      <td>25000.000000</td>\n",
       "    </tr>\n",
       "    <tr>\n",
       "      <th>5</th>\n",
       "      <td>Abhi</td>\n",
       "      <td>SMCI</td>\n",
       "      <td>624.219729</td>\n",
       "      <td>56.070000</td>\n",
       "      <td>35000.000000</td>\n",
       "    </tr>\n",
       "    <tr>\n",
       "      <th>6</th>\n",
       "      <td>Conor</td>\n",
       "      <td>VLA.PA</td>\n",
       "      <td>5136.623392</td>\n",
       "      <td>3.893608</td>\n",
       "      <td>20000.000000</td>\n",
       "    </tr>\n",
       "    <tr>\n",
       "      <th>7</th>\n",
       "      <td>Conor</td>\n",
       "      <td>RR.L</td>\n",
       "      <td>25.817499</td>\n",
       "      <td>774.668369</td>\n",
       "      <td>20000.000000</td>\n",
       "    </tr>\n",
       "    <tr>\n",
       "      <th>8</th>\n",
       "      <td>Conor</td>\n",
       "      <td>CTC-A.TO</td>\n",
       "      <td>199.929496</td>\n",
       "      <td>100.035264</td>\n",
       "      <td>20000.000000</td>\n",
       "    </tr>\n",
       "    <tr>\n",
       "      <th>9</th>\n",
       "      <td>Conor</td>\n",
       "      <td>SHEL</td>\n",
       "      <td>299.850089</td>\n",
       "      <td>66.699997</td>\n",
       "      <td>20000.000000</td>\n",
       "    </tr>\n",
       "    <tr>\n",
       "      <th>10</th>\n",
       "      <td>Conor</td>\n",
       "      <td>CRWD</td>\n",
       "      <td>49.178716</td>\n",
       "      <td>406.679993</td>\n",
       "      <td>20000.000000</td>\n",
       "    </tr>\n",
       "    <tr>\n",
       "      <th>11</th>\n",
       "      <td>Diarbhail</td>\n",
       "      <td>FLUT</td>\n",
       "      <td>124.720303</td>\n",
       "      <td>272.609985</td>\n",
       "      <td>34000.000000</td>\n",
       "    </tr>\n",
       "    <tr>\n",
       "      <th>12</th>\n",
       "      <td>Diarbhail</td>\n",
       "      <td>NVDA</td>\n",
       "      <td>245.480933</td>\n",
       "      <td>134.429993</td>\n",
       "      <td>33000.000000</td>\n",
       "    </tr>\n",
       "    <tr>\n",
       "      <th>13</th>\n",
       "      <td>Diarbhail</td>\n",
       "      <td>SCAN.V</td>\n",
       "      <td>23390.401120</td>\n",
       "      <td>1.410835</td>\n",
       "      <td>33000.000000</td>\n",
       "    </tr>\n",
       "    <tr>\n",
       "      <th>14</th>\n",
       "      <td>Radu</td>\n",
       "      <td>MP</td>\n",
       "      <td>411.522647</td>\n",
       "      <td>24.299999</td>\n",
       "      <td>10000.000000</td>\n",
       "    </tr>\n",
       "    <tr>\n",
       "      <th>15</th>\n",
       "      <td>Radu</td>\n",
       "      <td>DBK.DE</td>\n",
       "      <td>2424.218392</td>\n",
       "      <td>20.625204</td>\n",
       "      <td>50000.000000</td>\n",
       "    </tr>\n",
       "    <tr>\n",
       "      <th>16</th>\n",
       "      <td>Radu</td>\n",
       "      <td>RTX</td>\n",
       "      <td>162.219157</td>\n",
       "      <td>123.290001</td>\n",
       "      <td>20000.000000</td>\n",
       "    </tr>\n",
       "    <tr>\n",
       "      <th>17</th>\n",
       "      <td>Radu</td>\n",
       "      <td>RHM.DE</td>\n",
       "      <td>21.300155</td>\n",
       "      <td>938.960284</td>\n",
       "      <td>20000.000000</td>\n",
       "    </tr>\n",
       "    <tr>\n",
       "      <th>18</th>\n",
       "      <td>Silvia</td>\n",
       "      <td>NVO</td>\n",
       "      <td>378.443831</td>\n",
       "      <td>88.080002</td>\n",
       "      <td>33333.333333</td>\n",
       "    </tr>\n",
       "    <tr>\n",
       "      <th>19</th>\n",
       "      <td>Silvia</td>\n",
       "      <td>NVDA</td>\n",
       "      <td>247.960538</td>\n",
       "      <td>134.429993</td>\n",
       "      <td>33333.333333</td>\n",
       "    </tr>\n",
       "    <tr>\n",
       "      <th>20</th>\n",
       "      <td>Silvia</td>\n",
       "      <td>OPRA</td>\n",
       "      <td>1701.548396</td>\n",
       "      <td>19.590000</td>\n",
       "      <td>33333.333333</td>\n",
       "    </tr>\n",
       "  </tbody>\n",
       "</table>\n",
       "</div>"
      ],
      "text/plain": [
       "         name    ticker        shares  price_at_start  allocation_usd\n",
       "0        Ivan       VST    265.886728      150.440002    40000.000000\n",
       "1        Ivan      EXPE    152.431281      196.809998    30000.000000\n",
       "2        Ivan       DGX    174.175563      172.240005    30000.000000\n",
       "3        Abhi       ASR    146.246933      273.510010    40000.000000\n",
       "4        Abhi   0700.HK    375.997095       66.489875    25000.000000\n",
       "5        Abhi      SMCI    624.219729       56.070000    35000.000000\n",
       "6       Conor    VLA.PA   5136.623392        3.893608    20000.000000\n",
       "7       Conor      RR.L     25.817499      774.668369    20000.000000\n",
       "8       Conor  CTC-A.TO    199.929496      100.035264    20000.000000\n",
       "9       Conor      SHEL    299.850089       66.699997    20000.000000\n",
       "10      Conor      CRWD     49.178716      406.679993    20000.000000\n",
       "11  Diarbhail      FLUT    124.720303      272.609985    34000.000000\n",
       "12  Diarbhail      NVDA    245.480933      134.429993    33000.000000\n",
       "13  Diarbhail    SCAN.V  23390.401120        1.410835    33000.000000\n",
       "14       Radu        MP    411.522647       24.299999    10000.000000\n",
       "15       Radu    DBK.DE   2424.218392       20.625204    50000.000000\n",
       "16       Radu       RTX    162.219157      123.290001    20000.000000\n",
       "17       Radu    RHM.DE     21.300155      938.960284    20000.000000\n",
       "18     Silvia       NVO    378.443831       88.080002    33333.333333\n",
       "19     Silvia      NVDA    247.960538      134.429993    33333.333333\n",
       "20     Silvia      OPRA   1701.548396       19.590000    33333.333333"
      ]
     },
     "execution_count": 99,
     "metadata": {},
     "output_type": "execute_result"
    }
   ],
   "source": [
    "# Calculate the number of shares to buy based on the price at FIXED_DATE\n",
    "# First, find the closest date in our data to FIXED_DATE\n",
    "closest_date = prices_df.index[prices_df.index <= FIXED_DATE][-1]\n",
    "print(f\"Using prices from {closest_date} for allocation calculations\")\n",
    "\n",
    "# Get prices on that date\n",
    "prices_on_date = prices_df.loc[closest_date]\n",
    "\n",
    "# Calculate shares and actual allocation\n",
    "portfolio = []\n",
    "\n",
    "for alloc in portfolio_allocations:\n",
    "    ticker = alloc['ticker']\n",
    "    allocation_usd = alloc['allocation_usd']\n",
    "    \n",
    "    # Get the price on the fixed date\n",
    "    if ticker in prices_on_date and not pd.isna(prices_on_date[ticker]):\n",
    "        price = prices_on_date[ticker]\n",
    "        shares = allocation_usd / price\n",
    "        actual_allocation = shares * price\n",
    "        \n",
    "        portfolio.append({\n",
    "            'name': alloc['name'],\n",
    "            'ticker': ticker,\n",
    "            'shares': shares,\n",
    "            'price_at_start': price,\n",
    "            'allocation_usd': actual_allocation\n",
    "        })\n",
    "    else:\n",
    "        print(f\"Warning: No price data available for {ticker} on {closest_date}\")\n",
    "\n",
    "# Create a DataFrame for the portfolio\n",
    "portfolio_df = pd.DataFrame(portfolio)\n",
    "print(\"\\nFinal portfolio with share allocations:\")\n",
    "portfolio_df"
   ]
  },
  {
   "cell_type": "code",
   "execution_count": 100,
   "metadata": {},
   "outputs": [
    {
     "name": "stdout",
     "output_type": "stream",
     "text": [
      "Daily portfolio values since start date (USD):\n"
     ]
    },
    {
     "data": {
      "text/html": [
       "<div>\n",
       "<style scoped>\n",
       "    .dataframe tbody tr th:only-of-type {\n",
       "        vertical-align: middle;\n",
       "    }\n",
       "\n",
       "    .dataframe tbody tr th {\n",
       "        vertical-align: top;\n",
       "    }\n",
       "\n",
       "    .dataframe thead th {\n",
       "        text-align: right;\n",
       "    }\n",
       "</style>\n",
       "<table border=\"1\" class=\"dataframe\">\n",
       "  <thead>\n",
       "    <tr style=\"text-align: right;\">\n",
       "      <th></th>\n",
       "      <th>Radu</th>\n",
       "      <th>Abhi</th>\n",
       "      <th>Ivan</th>\n",
       "      <th>Silvia</th>\n",
       "      <th>Conor</th>\n",
       "      <th>Diarbhail</th>\n",
       "    </tr>\n",
       "    <tr>\n",
       "      <th>Date</th>\n",
       "      <th></th>\n",
       "      <th></th>\n",
       "      <th></th>\n",
       "      <th></th>\n",
       "      <th></th>\n",
       "      <th></th>\n",
       "    </tr>\n",
       "  </thead>\n",
       "  <tbody>\n",
       "    <tr>\n",
       "      <th>2025-02-21</th>\n",
       "      <td>100000.000000</td>\n",
       "      <td>100000.000000</td>\n",
       "      <td>100000.000000</td>\n",
       "      <td>100000.000000</td>\n",
       "      <td>100000.000000</td>\n",
       "      <td>100000.000000</td>\n",
       "    </tr>\n",
       "    <tr>\n",
       "      <th>2025-02-24</th>\n",
       "      <td>101637.508446</td>\n",
       "      <td>95822.549402</td>\n",
       "      <td>98756.669369</td>\n",
       "      <td>98083.185079</td>\n",
       "      <td>99892.729090</td>\n",
       "      <td>96795.048702</td>\n",
       "    </tr>\n",
       "    <tr>\n",
       "      <th>2025-02-25</th>\n",
       "      <td>102570.990860</td>\n",
       "      <td>91345.711170</td>\n",
       "      <td>97672.905060</td>\n",
       "      <td>96701.810286</td>\n",
       "      <td>98830.195506</td>\n",
       "      <td>96014.795008</td>\n",
       "    </tr>\n",
       "    <tr>\n",
       "      <th>2025-02-26</th>\n",
       "      <td>105499.593215</td>\n",
       "      <td>96214.489149</td>\n",
       "      <td>100030.386007</td>\n",
       "      <td>97682.334964</td>\n",
       "      <td>100415.427824</td>\n",
       "      <td>98524.379469</td>\n",
       "    </tr>\n",
       "    <tr>\n",
       "      <th>2025-02-27</th>\n",
       "      <td>105316.292941</td>\n",
       "      <td>89508.723790</td>\n",
       "      <td>93950.825337</td>\n",
       "      <td>94151.057490</td>\n",
       "      <td>102018.739635</td>\n",
       "      <td>95531.995196</td>\n",
       "    </tr>\n",
       "  </tbody>\n",
       "</table>\n",
       "</div>"
      ],
      "text/plain": [
       "                     Radu           Abhi           Ivan         Silvia  \\\n",
       "Date                                                                     \n",
       "2025-02-21  100000.000000  100000.000000  100000.000000  100000.000000   \n",
       "2025-02-24  101637.508446   95822.549402   98756.669369   98083.185079   \n",
       "2025-02-25  102570.990860   91345.711170   97672.905060   96701.810286   \n",
       "2025-02-26  105499.593215   96214.489149  100030.386007   97682.334964   \n",
       "2025-02-27  105316.292941   89508.723790   93950.825337   94151.057490   \n",
       "\n",
       "                    Conor      Diarbhail  \n",
       "Date                                      \n",
       "2025-02-21  100000.000000  100000.000000  \n",
       "2025-02-24   99892.729090   96795.048702  \n",
       "2025-02-25   98830.195506   96014.795008  \n",
       "2025-02-26  100415.427824   98524.379469  \n",
       "2025-02-27  102018.739635   95531.995196  "
      ]
     },
     "execution_count": 100,
     "metadata": {},
     "output_type": "execute_result"
    }
   ],
   "source": [
    "# Calculate daily portfolio value from FIXED_DATE onwards\n",
    "# Filter prices to dates >= FIXED_DATE\n",
    "prices_since_start = prices_df[prices_df.index >= closest_date]\n",
    "\n",
    "# Initialize a DataFrame to store portfolio values\n",
    "portfolio_values = pd.DataFrame(index=prices_since_start.index)\n",
    "\n",
    "# Calculate daily value for each person\n",
    "for name in set(p['name'] for p in portfolio):\n",
    "    person_portfolio = [p for p in portfolio if p['name'] == name]\n",
    "    daily_values = pd.Series(0, index=prices_since_start.index)\n",
    "    \n",
    "    for position in person_portfolio:\n",
    "        ticker = position['ticker']\n",
    "        shares = position['shares']\n",
    "        \n",
    "        if ticker in prices_since_start.columns:\n",
    "            # Calculate daily value of this position\n",
    "            position_value = prices_since_start[ticker] * shares\n",
    "            daily_values += position_value\n",
    "    \n",
    "    portfolio_values[name] = daily_values\n",
    "\n",
    "# Display the first few rows\n",
    "print(\"Daily portfolio values since start date (USD):\")\n",
    "portfolio_values.head()"
   ]
  },
  {
   "cell_type": "code",
   "execution_count": 101,
   "metadata": {},
   "outputs": [
    {
     "data": {
      "application/vnd.plotly.v1+json": {
       "config": {
        "plotlyServerURL": "https://plot.ly"
       },
       "data": [
        {
         "mode": "lines",
         "name": "Radu's Portfolio",
         "type": "scatter",
         "x": [
          "2025-02-21T00:00:00.000000000",
          "2025-02-24T00:00:00.000000000",
          "2025-02-25T00:00:00.000000000",
          "2025-02-26T00:00:00.000000000",
          "2025-02-27T00:00:00.000000000",
          "2025-02-28T00:00:00.000000000"
         ],
         "y": {
          "bdata": "AAAAAABq+EDv8pciWND4QGJmkNqvCvlAHnnPfbnB+UDJ1eKvRLb5QNjGLyLv3vlA",
          "dtype": "f8"
         }
        },
        {
         "mode": "lines",
         "name": "Abhi's Portfolio",
         "type": "scatter",
         "x": [
          "2025-02-21T00:00:00.000000000",
          "2025-02-24T00:00:00.000000000",
          "2025-02-25T00:00:00.000000000",
          "2025-02-26T00:00:00.000000000",
          "2025-02-27T00:00:00.000000000",
          "2025-02-28T00:00:00.000000000"
         ],
         "y": {
          "bdata": "AAAAAABq+EBm+VnK6GT3QD7r82AbTfZAuJKN02d990DeGqWUS9r1QKbxYmElo/VA",
          "dtype": "f8"
         }
        },
        {
         "mode": "lines",
         "name": "Ivan's Portfolio",
         "type": "scatter",
         "x": [
          "2025-02-21T00:00:00.000000000",
          "2025-02-24T00:00:00.000000000",
          "2025-02-25T00:00:00.000000000",
          "2025-02-26T00:00:00.000000000",
          "2025-02-27T00:00:00.000000000",
          "2025-02-28T00:00:00.000000000"
         ],
         "y": {
          "bdata": "AAAAAABq+EAw7bu1Shz4QFK2IHuO2PdAsB8WLeZr+ED5DpQ07e/2QJZ3icFKZfdA",
          "dtype": "f8"
         }
        },
        {
         "mode": "lines",
         "name": "Silvia's Portfolio",
         "type": "scatter",
         "x": [
          "2025-02-21T00:00:00.000000000",
          "2025-02-24T00:00:00.000000000",
          "2025-02-25T00:00:00.000000000",
          "2025-02-26T00:00:00.000000000",
          "2025-02-27T00:00:00.000000000",
          "2025-02-28T00:00:00.000000000"
         ],
         "y": {
          "bdata": "AAAAAABq+EBJ0hX2MvL3QI837vbcm/dAaAgDXCXZ90DtVXrrcPz2QC2GBuiAsPdA",
          "dtype": "f8"
         }
        },
        {
         "mode": "lines",
         "name": "Conor's Portfolio",
         "type": "scatter",
         "x": [
          "2025-02-21T00:00:00.000000000",
          "2025-02-24T00:00:00.000000000",
          "2025-02-25T00:00:00.000000000",
          "2025-02-26T00:00:00.000000000",
          "2025-02-27T00:00:00.000000000",
          "2025-02-28T00:00:00.000000000"
         ],
         "y": {
          "bdata": "AAAAAABq+EDCp1qqS2P4QGKGyiDjIPhAj7Fd2PaD+EACQovVK+j4QEa+vIc1p/hA",
          "dtype": "f8"
         }
        },
        {
         "mode": "lines",
         "name": "Diarbhail's Portfolio",
         "type": "scatter",
         "x": [
          "2025-02-21T00:00:00.000000000",
          "2025-02-24T00:00:00.000000000",
          "2025-02-25T00:00:00.000000000",
          "2025-02-26T00:00:00.000000000",
          "2025-02-27T00:00:00.000000000",
          "2025-02-28T00:00:00.000000000"
         ],
         "y": {
          "bdata": "AAAAAABq+EBcdHvHsKH3QJpYWrjscPdAZU5OEsYN+EDsplLsv1L3QOTBPlq5g/ZA",
          "dtype": "f8"
         }
        }
       ],
       "layout": {
        "hovermode": "x unified",
        "shapes": [
         {
          "line": {
           "color": "red",
           "dash": "dash",
           "width": 2
          },
          "type": "line",
          "x0": "2025-02-21T00:00:00",
          "x1": "2025-02-28T00:00:00",
          "y0": 100000,
          "y1": 100000
         }
        ],
        "template": {
         "data": {
          "pie": [
           {
            "automargin": true,
            "type": "pie"
           }
          ],
          "scatter": [
           {
            "line": {
             "width": 3
            },
            "marker": {
             "size": 9
            },
            "type": "scatter"
           }
          ],
          "scatter3d": [
           {
            "line": {
             "width": 3
            },
            "marker": {
             "size": 9
            },
            "type": "scatter3d"
           }
          ],
          "scattergeo": [
           {
            "line": {
             "width": 3
            },
            "marker": {
             "size": 9
            },
            "type": "scattergeo"
           }
          ],
          "scattergl": [
           {
            "line": {
             "width": 3
            },
            "marker": {
             "size": 9
            },
            "type": "scattergl"
           }
          ],
          "scatterpolar": [
           {
            "line": {
             "width": 3
            },
            "marker": {
             "size": 9
            },
            "type": "scatterpolar"
           }
          ],
          "scatterpolargl": [
           {
            "line": {
             "width": 3
            },
            "marker": {
             "size": 9
            },
            "type": "scatterpolargl"
           }
          ],
          "scatterternary": [
           {
            "line": {
             "width": 3
            },
            "marker": {
             "size": 9
            },
            "type": "scatterternary"
           }
          ],
          "table": [
           {
            "cells": {
             "height": 30
            },
            "header": {
             "height": 36
            },
            "type": "table"
           }
          ]
         },
         "layout": {
          "font": {
           "size": 18
          },
          "xaxis": {
           "title": {
            "standoff": 15
           }
          },
          "yaxis": {
           "title": {
            "standoff": 15
           }
          }
         }
        },
        "title": {
         "text": "Portfolio Performance Since Start Date"
        },
        "xaxis": {
         "title": {
          "text": "Date"
         }
        },
        "yaxis": {
         "title": {
          "text": "Portfolio Value (USD)"
         }
        }
       }
      }
     },
     "metadata": {},
     "output_type": "display_data"
    }
   ],
   "source": [
    "# Plot the portfolio values over time using Plotly\n",
    "fig = go.Figure()\n",
    "\n",
    "# Plot individual portfolios\n",
    "for name in portfolio_values.columns:\n",
    "    fig.add_trace(go.Scatter(\n",
    "        x=portfolio_values.index,\n",
    "        y=portfolio_values[name],\n",
    "        name=f\"{name}'s Portfolio\",\n",
    "        mode='lines'\n",
    "    ))\n",
    "\n",
    "# Add a horizontal line for initial investment\n",
    "fig.add_shape(\n",
    "    type=\"line\",\n",
    "    x0=portfolio_values.index[0],\n",
    "    y0=INITIAL_VALUE_USD,\n",
    "    x1=portfolio_values.index[-1],\n",
    "    y1=INITIAL_VALUE_USD,\n",
    "    line=dict(color=\"red\", width=2, dash=\"dash\")\n",
    ")\n",
    "\n",
    "# Update layout\n",
    "fig.update_layout(\n",
    "    title='Portfolio Performance Since Start Date',\n",
    "    xaxis_title='Date',\n",
    "    yaxis_title='Portfolio Value (USD)',\n",
    "    template='presentation',\n",
    "    hovermode='x unified'\n",
    ")\n",
    "\n",
    "# Show the figure\n",
    "fig.show()"
   ]
  },
  {
   "cell_type": "code",
   "execution_count": 102,
   "metadata": {},
   "outputs": [
    {
     "data": {
      "application/vnd.plotly.v1+json": {
       "config": {
        "plotlyServerURL": "https://plot.ly"
       },
       "data": [
        {
         "mode": "lines",
         "name": "Radu's Portfolio",
         "type": "scatter",
         "x": [
          "2025-02-21T00:00:00.000000000",
          "2025-02-24T00:00:00.000000000",
          "2025-02-25T00:00:00.000000000",
          "2025-02-26T00:00:00.000000000",
          "2025-02-27T00:00:00.000000000",
          "2025-02-28T00:00:00.000000000"
         ],
         "y": {
          "bdata": "AAAAAAAAAACcq1IOPDP6P564/KdjkQRAvXgmXZX/FUA2G/VL4kMVQMs2TA0n3hdA",
          "dtype": "f8"
         }
        },
        {
         "mode": "lines",
         "name": "Abhi's Portfolio",
         "type": "scatter",
         "x": [
          "2025-02-21T00:00:00.000000000",
          "2025-02-24T00:00:00.000000000",
          "2025-02-25T00:00:00.000000000",
          "2025-02-26T00:00:00.000000000",
          "2025-02-27T00:00:00.000000000",
          "2025-02-28T00:00:00.000000000"
         ],
         "y": {
          "bdata": "AAAAAAAAAABUnQictbUQwMfzDPL+TiHAJ1vI6blIDsA9MiyOiPskwCaOBNpQvybA",
          "dtype": "f8"
         }
        },
        {
         "mode": "lines",
         "name": "Ivan's Portfolio",
         "type": "scatter",
         "x": [
          "2025-02-21T00:00:00.000000000",
          "2025-02-24T00:00:00.000000000",
          "2025-02-25T00:00:00.000000000",
          "2025-02-26T00:00:00.000000000",
          "2025-02-27T00:00:00.000000000",
          "2025-02-28T00:00:00.000000000"
         ],
         "y": {
          "bdata": "AAAAAAAAAACGk/qoruTzv1PvnvPjnQLAAK+ecIIdnz/E483XWjIYwHh5qIpwrxDA",
          "dtype": "f8"
         }
        },
        {
         "mode": "lines",
         "name": "Silvia's Portfolio",
         "type": "scatter",
         "x": [
          "2025-02-21T00:00:00.000000000",
          "2025-02-24T00:00:00.000000000",
          "2025-02-25T00:00:00.000000000",
          "2025-02-26T00:00:00.000000000",
          "2025-02-27T00:00:00.000000000",
          "2025-02-28T00:00:00.000000000"
         ],
         "y": {
          "bdata": "AAAAAAAAAAA6GEcfRqv+v9fK9EmxYgrAx3dr95OKAsDDbXcvUWUXwLZisRVZvgfA",
          "dtype": "f8"
         }
        },
        {
         "mode": "lines",
         "name": "Conor's Portfolio",
         "type": "scatter",
         "x": [
          "2025-02-21T00:00:00.000000000",
          "2025-02-24T00:00:00.000000000",
          "2025-02-25T00:00:00.000000000",
          "2025-02-26T00:00:00.000000000",
          "2025-02-27T00:00:00.000000000",
          "2025-02-28T00:00:00.000000000"
         ],
         "y": {
          "bdata": "AAAAAAAAAADANrU4G3a7v2Sl3+qEt/K/8LIwlV6W2j8KdTP3YCYAQLhSXarMVu8/",
          "dtype": "f8"
         }
        },
        {
         "mode": "lines",
         "name": "Diarbhail's Portfolio",
         "type": "scatter",
         "x": [
          "2025-02-21T00:00:00.000000000",
          "2025-02-24T00:00:00.000000000",
          "2025-02-25T00:00:00.000000000",
          "2025-02-26T00:00:00.000000000",
          "2025-02-27T00:00:00.000000000",
          "2025-02-28T00:00:00.000000000"
         ],
         "y": {
          "bdata": "AAAAAAAAAAALF5uBvaMJwCi9oiez4Q/AiMsQRiSc979mBb6mPN8RwAC2eDslHx/A",
          "dtype": "f8"
         }
        }
       ],
       "layout": {
        "hovermode": "x unified",
        "shapes": [
         {
          "line": {
           "color": "red",
           "dash": "dash",
           "width": 2
          },
          "type": "line",
          "x0": "2025-02-21T00:00:00",
          "x1": "2025-02-28T00:00:00",
          "y0": 0,
          "y1": 0
         }
        ],
        "template": {
         "data": {
          "pie": [
           {
            "automargin": true,
            "type": "pie"
           }
          ],
          "scatter": [
           {
            "line": {
             "width": 3
            },
            "marker": {
             "size": 9
            },
            "type": "scatter"
           }
          ],
          "scatter3d": [
           {
            "line": {
             "width": 3
            },
            "marker": {
             "size": 9
            },
            "type": "scatter3d"
           }
          ],
          "scattergeo": [
           {
            "line": {
             "width": 3
            },
            "marker": {
             "size": 9
            },
            "type": "scattergeo"
           }
          ],
          "scattergl": [
           {
            "line": {
             "width": 3
            },
            "marker": {
             "size": 9
            },
            "type": "scattergl"
           }
          ],
          "scatterpolar": [
           {
            "line": {
             "width": 3
            },
            "marker": {
             "size": 9
            },
            "type": "scatterpolar"
           }
          ],
          "scatterpolargl": [
           {
            "line": {
             "width": 3
            },
            "marker": {
             "size": 9
            },
            "type": "scatterpolargl"
           }
          ],
          "scatterternary": [
           {
            "line": {
             "width": 3
            },
            "marker": {
             "size": 9
            },
            "type": "scatterternary"
           }
          ],
          "table": [
           {
            "cells": {
             "height": 30
            },
            "header": {
             "height": 36
            },
            "type": "table"
           }
          ]
         },
         "layout": {
          "font": {
           "size": 18
          },
          "xaxis": {
           "title": {
            "standoff": 15
           }
          },
          "yaxis": {
           "title": {
            "standoff": 15
           }
          }
         }
        },
        "title": {
         "text": "Portfolio Performance (% Change) Since Start Date"
        },
        "xaxis": {
         "title": {
          "text": "Date"
         }
        },
        "yaxis": {
         "title": {
          "text": "Percentage Change (%)"
         }
        }
       }
      }
     },
     "metadata": {},
     "output_type": "display_data"
    }
   ],
   "source": [
    "# Calculate percentage change from start date\n",
    "pct_change = portfolio_values.copy()\n",
    "for col in pct_change.columns:\n",
    "    pct_change[col] = (pct_change[col] / pct_change[col].iloc[0] - 1) * 100\n",
    "\n",
    "# Plot the percentage change\n",
    "fig = go.Figure()\n",
    "\n",
    "# Plot individual portfolios\n",
    "for name in pct_change.columns:\n",
    "    fig.add_trace(go.Scatter(\n",
    "        x=pct_change.index,\n",
    "        y=pct_change[name],\n",
    "        name=f\"{name}'s Portfolio\",\n",
    "        mode='lines'\n",
    "    ))\n",
    "\n",
    "# Add a horizontal line at 0%\n",
    "fig.add_shape(\n",
    "    type=\"line\",\n",
    "    x0=pct_change.index[0],\n",
    "    y0=0,\n",
    "    x1=pct_change.index[-1],\n",
    "    y1=0,\n",
    "    line=dict(color=\"red\", width=2, dash=\"dash\")\n",
    ")\n",
    "\n",
    "# Update layout\n",
    "fig.update_layout(\n",
    "    title='Portfolio Performance (% Change) Since Start Date',\n",
    "    xaxis_title='Date',\n",
    "    yaxis_title='Percentage Change (%)',\n",
    "    template='presentation',\n",
    "    hovermode='x unified'\n",
    ")\n",
    "\n",
    "# Show the figure\n",
    "fig.show()"
   ]
  },
  {
   "cell_type": "code",
   "execution_count": 103,
   "metadata": {},
   "outputs": [
    {
     "name": "stdout",
     "output_type": "stream",
     "text": [
      "Performance Summary:\n"
     ]
    },
    {
     "data": {
      "text/html": [
       "<div>\n",
       "<style scoped>\n",
       "    .dataframe tbody tr th:only-of-type {\n",
       "        vertical-align: middle;\n",
       "    }\n",
       "\n",
       "    .dataframe tbody tr th {\n",
       "        vertical-align: top;\n",
       "    }\n",
       "\n",
       "    .dataframe thead th {\n",
       "        text-align: right;\n",
       "    }\n",
       "</style>\n",
       "<table border=\"1\" class=\"dataframe\">\n",
       "  <thead>\n",
       "    <tr style=\"text-align: right;\">\n",
       "      <th></th>\n",
       "      <th>Initial Value</th>\n",
       "      <th>Final Value</th>\n",
       "      <th>Total Return (%)</th>\n",
       "      <th>Annualized Return (%)</th>\n",
       "    </tr>\n",
       "  </thead>\n",
       "  <tbody>\n",
       "    <tr>\n",
       "      <th>Radu</th>\n",
       "      <td>100000.0</td>\n",
       "      <td>105966.945846</td>\n",
       "      <td>5.966946</td>\n",
       "      <td>1957.578539</td>\n",
       "    </tr>\n",
       "    <tr>\n",
       "      <th>Abhi</th>\n",
       "      <td>100000.0</td>\n",
       "      <td>88626.336276</td>\n",
       "      <td>-11.373664</td>\n",
       "      <td>-99.816388</td>\n",
       "    </tr>\n",
       "    <tr>\n",
       "      <th>Ivan</th>\n",
       "      <td>100000.0</td>\n",
       "      <td>95828.672250</td>\n",
       "      <td>-4.171328</td>\n",
       "      <td>-89.174197</td>\n",
       "    </tr>\n",
       "    <tr>\n",
       "      <th>Silvia</th>\n",
       "      <td>100000.0</td>\n",
       "      <td>97032.056647</td>\n",
       "      <td>-2.967943</td>\n",
       "      <td>-79.238643</td>\n",
       "    </tr>\n",
       "    <tr>\n",
       "      <th>Conor</th>\n",
       "      <td>100000.0</td>\n",
       "      <td>100979.345639</td>\n",
       "      <td>0.979346</td>\n",
       "      <td>66.283256</td>\n",
       "    </tr>\n",
       "    <tr>\n",
       "      <th>Diarbhail</th>\n",
       "      <td>100000.0</td>\n",
       "      <td>92219.584533</td>\n",
       "      <td>-7.780415</td>\n",
       "      <td>-98.539429</td>\n",
       "    </tr>\n",
       "  </tbody>\n",
       "</table>\n",
       "</div>"
      ],
      "text/plain": [
       "           Initial Value    Final Value  Total Return (%)  \\\n",
       "Radu            100000.0  105966.945846          5.966946   \n",
       "Abhi            100000.0   88626.336276        -11.373664   \n",
       "Ivan            100000.0   95828.672250         -4.171328   \n",
       "Silvia          100000.0   97032.056647         -2.967943   \n",
       "Conor           100000.0  100979.345639          0.979346   \n",
       "Diarbhail       100000.0   92219.584533         -7.780415   \n",
       "\n",
       "           Annualized Return (%)  \n",
       "Radu                 1957.578539  \n",
       "Abhi                  -99.816388  \n",
       "Ivan                  -89.174197  \n",
       "Silvia                -79.238643  \n",
       "Conor                  66.283256  \n",
       "Diarbhail             -98.539429  "
      ]
     },
     "execution_count": 103,
     "metadata": {},
     "output_type": "execute_result"
    }
   ],
   "source": [
    "# Calculate performance metrics\n",
    "initial_value = portfolio_values.iloc[0]\n",
    "final_value = portfolio_values.iloc[-1]\n",
    "\n",
    "# Calculate returns\n",
    "total_return = (final_value / initial_value - 1) * 100\n",
    "\n",
    "# Calculate annualized returns\n",
    "days = (portfolio_values.index[-1] - portfolio_values.index[0]).days\n",
    "years = days / 365.25\n",
    "annualized_return = ((final_value / initial_value) ** (1 / years) - 1) * 100\n",
    "\n",
    "# Create a DataFrame for the results\n",
    "performance_df = pd.DataFrame({\n",
    "    'Initial Value': initial_value,\n",
    "    'Final Value': final_value,\n",
    "    'Total Return (%)': total_return,\n",
    "    'Annualized Return (%)': annualized_return\n",
    "})\n",
    "\n",
    "print(\"Performance Summary:\")\n",
    "performance_df"
   ]
  },
  {
   "cell_type": "code",
   "execution_count": 104,
   "metadata": {},
   "outputs": [
    {
     "data": {
      "application/vnd.plotly.v1+json": {
       "config": {
        "plotlyServerURL": "https://plot.ly"
       },
       "data": [
        {
         "hovertemplate": "Portfolio=%{x}<br>Total Return (%)=%{marker.color}<extra></extra>",
         "legendgroup": "",
         "marker": {
          "color": {
           "bdata": "yzZMDSfeF0C4Ul2qzFbvP7ZisRVZvgfAeHmoinCvEMAAtng7JR8fwCaOBNpQvybA",
           "dtype": "f8"
          },
          "coloraxis": "coloraxis",
          "pattern": {
           "shape": ""
          }
         },
         "name": "",
         "orientation": "v",
         "showlegend": false,
         "text": {
          "bdata": "yzZMDSfeF0C4Ul2qzFbvP7ZisRVZvgfAeHmoinCvEMAAtng7JR8fwCaOBNpQvybA",
          "dtype": "f8"
         },
         "textfont": {
          "size": 14
         },
         "textposition": "outside",
         "texttemplate": "%{text:.1f}%",
         "type": "bar",
         "x": [
          "Radu",
          "Conor",
          "Silvia",
          "Ivan",
          "Diarbhail",
          "Abhi"
         ],
         "xaxis": "x",
         "y": {
          "bdata": "yzZMDSfeF0C4Ul2qzFbvP7ZisRVZvgfAeHmoinCvEMAAtng7JR8fwCaOBNpQvybA",
          "dtype": "f8"
         },
         "yaxis": "y"
        }
       ],
       "layout": {
        "barmode": "relative",
        "coloraxis": {
         "colorbar": {
          "title": {
           "text": "Total Return (%)"
          }
         },
         "colorscale": [
          [
           0,
           "red"
          ],
          [
           0.5,
           "yellow"
          ],
          [
           1,
           "green"
          ]
         ]
        },
        "height": 600,
        "legend": {
         "tracegroupgap": 0
        },
        "margin": {
         "b": 80,
         "l": 80,
         "r": 80,
         "t": 100
        },
        "shapes": [
         {
          "line": {
           "color": "black",
           "dash": "dash",
           "width": 2
          },
          "type": "line",
          "x0": -0.5,
          "x1": 5.5,
          "y0": 0,
          "y1": 0
         }
        ],
        "template": {
         "data": {
          "pie": [
           {
            "automargin": true,
            "type": "pie"
           }
          ],
          "scatter": [
           {
            "line": {
             "width": 3
            },
            "marker": {
             "size": 9
            },
            "type": "scatter"
           }
          ],
          "scatter3d": [
           {
            "line": {
             "width": 3
            },
            "marker": {
             "size": 9
            },
            "type": "scatter3d"
           }
          ],
          "scattergeo": [
           {
            "line": {
             "width": 3
            },
            "marker": {
             "size": 9
            },
            "type": "scattergeo"
           }
          ],
          "scattergl": [
           {
            "line": {
             "width": 3
            },
            "marker": {
             "size": 9
            },
            "type": "scattergl"
           }
          ],
          "scatterpolar": [
           {
            "line": {
             "width": 3
            },
            "marker": {
             "size": 9
            },
            "type": "scatterpolar"
           }
          ],
          "scatterpolargl": [
           {
            "line": {
             "width": 3
            },
            "marker": {
             "size": 9
            },
            "type": "scatterpolargl"
           }
          ],
          "scatterternary": [
           {
            "line": {
             "width": 3
            },
            "marker": {
             "size": 9
            },
            "type": "scatterternary"
           }
          ],
          "table": [
           {
            "cells": {
             "height": 30
            },
            "header": {
             "height": 36
            },
            "type": "table"
           }
          ]
         },
         "layout": {
          "font": {
           "size": 18
          },
          "xaxis": {
           "title": {
            "standoff": 15
           }
          },
          "yaxis": {
           "title": {
            "standoff": 15
           }
          }
         }
        },
        "title": {
         "font": {
          "size": 24
         },
         "text": "Portfolio Returns by Competitor",
         "y": 0.95
        },
        "width": 900,
        "xaxis": {
         "anchor": "y",
         "domain": [
          0,
          1
         ],
         "title": {
          "text": "Portfolio"
         }
        },
        "yaxis": {
         "anchor": "x",
         "domain": [
          0,
          1
         ],
         "range": [
          -13.6483964687989,
          7.160335015613635
         ],
         "title": {
          "text": "Total Return (%)"
         }
        }
       }
      }
     },
     "metadata": {},
     "output_type": "display_data"
    }
   ],
   "source": [
    "# Create a bar chart to visualize the total returns\n",
    "performance_data = pd.DataFrame({\n",
    "    'Portfolio': total_return.index,\n",
    "    'Total Return (%)': total_return.values\n",
    "})\n",
    "\n",
    "# Sort the data to make the visualization more informative (optional)\n",
    "performance_data = performance_data.sort_values('Total Return (%)', ascending=False)\n",
    "\n",
    "# Create the figure with increased size\n",
    "fig = px.bar(\n",
    "    performance_data,\n",
    "    x='Portfolio',\n",
    "    y='Total Return (%)',\n",
    "    title='Portfolio Returns by Competitor',\n",
    "    color='Total Return (%)',\n",
    "    color_continuous_scale=['red', 'yellow', 'green'],\n",
    "    text='Total Return (%)'\n",
    ")\n",
    "\n",
    "# Add a horizontal line at 0%\n",
    "fig.add_shape(\n",
    "    type=\"line\",\n",
    "    x0=-0.5,\n",
    "    y0=0,\n",
    "    x1=len(performance_data)-0.5,\n",
    "    y1=0,\n",
    "    line=dict(color=\"black\", width=2, dash=\"dash\")\n",
    ")\n",
    "\n",
    "# Format the text labels and ensure they're visible\n",
    "fig.update_traces(\n",
    "    texttemplate='%{text:.1f}%', \n",
    "    textposition='outside',\n",
    "    textfont=dict(size=14)  # Increase text size\n",
    ")\n",
    "\n",
    "# Calculate the y-axis range with extra padding to ensure text is visible\n",
    "y_min = min(performance_data['Total Return (%)']) * 1.2 if min(performance_data['Total Return (%)']) < 0 else min(performance_data['Total Return (%)']) - 2\n",
    "y_max = max(performance_data['Total Return (%)']) * 1.2 if max(performance_data['Total Return (%)']) > 0 else max(performance_data['Total Return (%)']) + 2\n",
    "\n",
    "# Update layout with increased size, margins, and adjusted y-axis\n",
    "fig.update_layout(\n",
    "    template='presentation',\n",
    "    yaxis=dict(\n",
    "        title='Total Return (%)',\n",
    "        range=[y_min, y_max]  # Ensure text labels are visible\n",
    "    ),\n",
    "    width=900,  # Increase width\n",
    "    height=600,  # Increase height\n",
    "    margin=dict(l=80, r=80, t=100, b=80),  # Increase margins\n",
    "    title=dict(\n",
    "        text='Portfolio Returns by Competitor',\n",
    "        font=dict(size=24),  # Larger title\n",
    "        y=0.95  # Position title higher\n",
    "    )\n",
    ")\n",
    "\n",
    "# Show the figure\n",
    "fig.show()"
   ]
  }
 ],
 "metadata": {
  "kernelspec": {
   "display_name": ".venv",
   "language": "python",
   "name": "python3"
  },
  "language_info": {
   "codemirror_mode": {
    "name": "ipython",
    "version": 3
   },
   "file_extension": ".py",
   "mimetype": "text/x-python",
   "name": "python",
   "nbconvert_exporter": "python",
   "pygments_lexer": "ipython3",
   "version": "3.12.7"
  }
 },
 "nbformat": 4,
 "nbformat_minor": 2
}
