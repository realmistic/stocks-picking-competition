{
 "cells": [
  {
   "cell_type": "code",
   "execution_count": 112,
   "metadata": {},
   "outputs": [],
   "source": [
    "import yfinance as yf\n",
    "\n",
    "import pandas as pd\n",
    "import numpy as np\n",
    "import plotly.express as px\n",
    "import plotly.graph_objects as go\n",
    "from datetime import datetime, timedelta"
   ]
  },
  {
   "cell_type": "code",
   "execution_count": 113,
   "metadata": {},
   "outputs": [],
   "source": [
    "# Comments on Tickers adj for Yahoo Finance\n",
    "\n",
    "#0700.HK, listed on Listed on HKG (Hong Kong Stock Exchange), traded in HKD\n",
    "#VLA.PA, listed on Listed on EPA (Euronext Paris), traded in EUR\n",
    "#RR.L,  Listed on LON (London Stock Exchange), traded in GBP\n",
    "#CTC-A.TO, Listed on TSE (Toronto Stock Exchange), traded in CAD\n",
    "#SCAN.V, Listed on TSXV (Toronto Stock Exchange), traded in CAD"
   ]
  },
  {
   "cell_type": "code",
   "execution_count": 114,
   "metadata": {},
   "outputs": [
    {
     "data": {
      "text/plain": [
       "[{'name': 'Apoorva', 'ticker': 'TSM', 'exchange': 'NYSE', 'weight': 0.4},\n",
       " {'name': 'Apoorva', 'ticker': 'GOOGL', 'exchange': 'NASDAQ', 'weight': 0.1},\n",
       " {'name': 'Apoorva', 'ticker': 'TAK', 'exchange': 'NYSE', 'weight': 0.25},\n",
       " {'name': 'Apoorva', 'ticker': '0700', 'exchange': 'HKG', 'weight': 0.25},\n",
       " {'name': 'Alessandro', 'ticker': 'DUOL', 'exchange': 'NASDAQ', 'weight': 0.4},\n",
       " {'name': 'Alessandro',\n",
       "  'ticker': 'GOOG',\n",
       "  'exchange': 'NASDAQ',\n",
       "  'weight': 0.25},\n",
       " {'name': 'Alessandro', 'ticker': 'ZG', 'exchange': 'NASDAQ', 'weight': 0.35},\n",
       " {'name': 'Ivan', 'ticker': 'VST', 'exchange': 'NYSE', 'weight': 0.4},\n",
       " {'name': 'Ivan', 'ticker': 'EXPE', 'exchange': 'NASDAQ', 'weight': 0.3},\n",
       " {'name': 'Ivan', 'ticker': 'DGX', 'exchange': 'NYSE', 'weight': 0.3},\n",
       " {'name': 'Abhi', 'ticker': 'ASR', 'exchange': 'NYSE', 'weight': 0.25},\n",
       " {'name': 'Abhi', 'ticker': '0700', 'exchange': 'HKG', 'weight': 0.25},\n",
       " {'name': 'Abhi', 'ticker': 'SMCI', 'exchange': 'NASDAQ', 'weight': 0.25},\n",
       " {'name': 'Abhi', 'ticker': 'BRO', 'exchange': 'NASDAQ', 'weight': 0.25},\n",
       " {'name': 'Conor', 'ticker': 'PFE', 'exchange': 'NYSE', 'weight': 0.2},\n",
       " {'name': 'Conor', 'ticker': 'RR', 'exchange': 'LON', 'weight': 0.2},\n",
       " {'name': 'Conor', 'ticker': 'MCD', 'exchange': 'NYSE', 'weight': 0.2},\n",
       " {'name': 'Conor', 'ticker': 'SHEL', 'exchange': 'LON', 'weight': 0.2},\n",
       " {'name': 'Conor', 'ticker': 'ALV', 'exchange': 'XETRA', 'weight': 0.2},\n",
       " {'name': 'Diarbhail', 'ticker': 'FLUT', 'exchange': 'NYSE', 'weight': 0.34},\n",
       " {'name': 'Diarbhail', 'ticker': 'NVDA', 'exchange': 'NASDAQ', 'weight': 0.33},\n",
       " {'name': 'Diarbhail', 'ticker': 'SCAN', 'exchange': 'CVE', 'weight': 0.33},\n",
       " {'name': 'Radu', 'ticker': 'MP', 'exchange': 'NYSE', 'weight': 0.1},\n",
       " {'name': 'Radu', 'ticker': 'DBK', 'exchange': 'XETRA', 'weight': 0.5},\n",
       " {'name': 'Radu', 'ticker': 'RTX', 'exchange': 'NYSE', 'weight': 0.2},\n",
       " {'name': 'Radu', 'ticker': 'RHM', 'exchange': 'XETRA', 'weight': 0.2},\n",
       " {'name': 'Silvia', 'ticker': 'NVO', 'exchange': 'NYSE', 'weight': 0.33},\n",
       " {'name': 'Silvia', 'ticker': 'NVDA', 'exchange': 'NASDAQ', 'weight': 0.33},\n",
       " {'name': 'Silvia', 'ticker': 'OPRA', 'exchange': 'NASDAQ', 'weight': 0.34}]"
      ]
     },
     "execution_count": 114,
     "metadata": {},
     "output_type": "execute_result"
    }
   ],
   "source": [
    "POSITIONS =[ \n",
    "        {'name': 'Apoorva', 'ticker': 'TSM', 'exchange':'NYSE', 'weight': 0.4},\n",
    "        {'name': 'Apoorva', 'ticker': 'GOOGL', 'exchange':'NASDAQ', 'weight': 0.1},\n",
    "        {'name': 'Apoorva', 'ticker': 'TAK', 'exchange':'NYSE', 'weight': 0.25},\n",
    "        {'name': 'Apoorva', 'ticker': '0700', 'exchange':'HKG', 'weight': 0.25},\n",
    "\n",
    "        {'name': 'Alessandro', 'ticker': 'DUOL', 'exchange':'NASDAQ', 'weight': 0.4},\n",
    "        {'name': 'Alessandro', 'ticker': 'GOOG', 'exchange':'NASDAQ', 'weight': 0.25},\n",
    "        {'name': 'Alessandro', 'ticker': 'ZG', 'exchange':'NASDAQ', 'weight': 0.35},\n",
    "\n",
    "        {'name': 'Ivan', 'ticker': 'VST', 'exchange':'NYSE', 'weight': 0.4},\n",
    "        {'name': 'Ivan', 'ticker': 'EXPE', 'exchange':'NASDAQ', 'weight': 0.3},\n",
    "        {'name': 'Ivan', 'ticker': 'DGX', 'exchange':'NYSE', 'weight': 0.3},\n",
    "\n",
    "        {'name': 'Abhi', 'ticker': 'ASR', 'exchange':'NYSE', 'weight': 0.25},\n",
    "        {'name': 'Abhi', 'ticker': '0700', 'exchange':'HKG', 'weight': 0.25},\n",
    "        {'name': 'Abhi', 'ticker': 'SMCI', 'exchange':'NASDAQ', 'weight': 0.25},\n",
    "        {'name': 'Abhi', 'ticker': 'BRO', 'exchange':'NASDAQ', 'weight': 0.25},\n",
    "        \n",
    "        {'name': 'Conor', 'ticker': 'PFE', 'exchange':'NYSE', 'weight': 0.2},\n",
    "        {'name': 'Conor', 'ticker': 'RR', 'exchange':'LON', 'weight': 0.2},\n",
    "        {'name': 'Conor', 'ticker': 'MCD', 'exchange':'NYSE', 'weight': 0.2},\n",
    "        {'name': 'Conor', 'ticker': 'SHEL', 'exchange':'LON', 'weight': 0.2},\n",
    "        {'name': 'Conor', 'ticker': 'ALV', 'exchange':'XETRA', 'weight': 0.2},\n",
    "        \n",
    "        {'name': 'Diarbhail', 'ticker': 'FLUT', 'exchange':'NYSE', 'weight': 0.34},\n",
    "        {'name': 'Diarbhail', 'ticker': 'NVDA', 'exchange':'NASDAQ', 'weight': 0.33},\n",
    "        {'name': 'Diarbhail', 'ticker': 'SCAN', 'exchange':'CVE', 'weight': 0.33},\n",
    "\n",
    "        {'name': 'Radu', 'ticker': 'MP', 'exchange':'NYSE', 'weight': 0.1},\n",
    "        {'name': 'Radu', 'ticker': 'DBK', 'exchange':'XETRA', 'weight': 0.5},\n",
    "        {'name': 'Radu', 'ticker': 'RTX', 'exchange':'NYSE', 'weight': 0.2},\n",
    "        {'name': 'Radu', 'ticker': 'RHM', 'exchange':'XETRA', 'weight': 0.2},\n",
    "\n",
    "        {'name': 'Silvia', 'ticker': 'NVO', 'exchange':'NYSE', 'weight': 0.33},\n",
    "        {'name': 'Silvia', 'ticker': 'NVDA', 'exchange':'NASDAQ', 'weight': 0.33},\n",
    "        {'name': 'Silvia', 'ticker': 'OPRA', 'exchange':'NASDAQ', 'weight': 0.34},\n",
    "]\n",
    "POSITIONS"
   ]
  },
  {
   "cell_type": "code",
   "execution_count": 115,
   "metadata": {},
   "outputs": [],
   "source": [
    "# Define the start date for data download (from 2000)\n",
    "\n",
    "FIXED_DATE = '2025-03-01'\n",
    "INITIAL_VALUE_USD = 1e5\n",
    "\n",
    "START_DATE = '2000-01-01'\n",
    "END_DATE = datetime.now().strftime('%Y-%m-%d')"
   ]
  },
  {
   "cell_type": "code",
   "execution_count": 116,
   "metadata": {},
   "outputs": [
    {
     "name": "stderr",
     "output_type": "stream",
     "text": [
      "[*********************100%***********************]  1 of 1 completed\n"
     ]
    },
    {
     "data": {
      "text/html": [
       "<div>\n",
       "<style scoped>\n",
       "    .dataframe tbody tr th:only-of-type {\n",
       "        vertical-align: middle;\n",
       "    }\n",
       "\n",
       "    .dataframe tbody tr th {\n",
       "        vertical-align: top;\n",
       "    }\n",
       "\n",
       "    .dataframe thead tr th {\n",
       "        text-align: left;\n",
       "    }\n",
       "\n",
       "    .dataframe thead tr:last-of-type th {\n",
       "        text-align: right;\n",
       "    }\n",
       "</style>\n",
       "<table border=\"1\" class=\"dataframe\">\n",
       "  <thead>\n",
       "    <tr>\n",
       "      <th>Price</th>\n",
       "      <th>Close</th>\n",
       "      <th>High</th>\n",
       "      <th>Low</th>\n",
       "      <th>Open</th>\n",
       "      <th>Volume</th>\n",
       "    </tr>\n",
       "    <tr>\n",
       "      <th>Ticker</th>\n",
       "      <th>SCAN.V</th>\n",
       "      <th>SCAN.V</th>\n",
       "      <th>SCAN.V</th>\n",
       "      <th>SCAN.V</th>\n",
       "      <th>SCAN.V</th>\n",
       "    </tr>\n",
       "    <tr>\n",
       "      <th>Date</th>\n",
       "      <th></th>\n",
       "      <th></th>\n",
       "      <th></th>\n",
       "      <th></th>\n",
       "      <th></th>\n",
       "    </tr>\n",
       "  </thead>\n",
       "  <tbody>\n",
       "    <tr>\n",
       "      <th>2025-02-26</th>\n",
       "      <td>1.97</td>\n",
       "      <td>2.01</td>\n",
       "      <td>1.91</td>\n",
       "      <td>1.97</td>\n",
       "      <td>191149</td>\n",
       "    </tr>\n",
       "    <tr>\n",
       "      <th>2025-02-27</th>\n",
       "      <td>1.97</td>\n",
       "      <td>1.99</td>\n",
       "      <td>1.87</td>\n",
       "      <td>1.98</td>\n",
       "      <td>99640</td>\n",
       "    </tr>\n",
       "    <tr>\n",
       "      <th>2025-02-28</th>\n",
       "      <td>1.64</td>\n",
       "      <td>1.70</td>\n",
       "      <td>1.53</td>\n",
       "      <td>1.70</td>\n",
       "      <td>203504</td>\n",
       "    </tr>\n",
       "    <tr>\n",
       "      <th>2025-03-03</th>\n",
       "      <td>1.58</td>\n",
       "      <td>1.65</td>\n",
       "      <td>1.56</td>\n",
       "      <td>1.65</td>\n",
       "      <td>27569</td>\n",
       "    </tr>\n",
       "    <tr>\n",
       "      <th>2025-03-04</th>\n",
       "      <td>1.37</td>\n",
       "      <td>1.59</td>\n",
       "      <td>1.37</td>\n",
       "      <td>1.51</td>\n",
       "      <td>92550</td>\n",
       "    </tr>\n",
       "  </tbody>\n",
       "</table>\n",
       "</div>"
      ],
      "text/plain": [
       "Price       Close   High    Low   Open  Volume\n",
       "Ticker     SCAN.V SCAN.V SCAN.V SCAN.V  SCAN.V\n",
       "Date                                          \n",
       "2025-02-26   1.97   2.01   1.91   1.97  191149\n",
       "2025-02-27   1.97   1.99   1.87   1.98   99640\n",
       "2025-02-28   1.64   1.70   1.53   1.70  203504\n",
       "2025-03-03   1.58   1.65   1.56   1.65   27569\n",
       "2025-03-04   1.37   1.59   1.37   1.51   92550"
      ]
     },
     "execution_count": 116,
     "metadata": {},
     "output_type": "execute_result"
    }
   ],
   "source": [
    "# check one ticker in Yahoo Finance\n",
    "ticker = 'SCAN.V'\n",
    "df_test = yf.download(ticker, start=START_DATE, end=END_DATE)\n",
    "\n",
    "df_test.tail(5)"
   ]
  },
  {
   "cell_type": "code",
   "execution_count": 117,
   "metadata": {},
   "outputs": [
    {
     "name": "stderr",
     "output_type": "stream",
     "text": [
      "[***********           22%                       ]  6 of 27 completed"
     ]
    },
    {
     "name": "stdout",
     "output_type": "stream",
     "text": [
      "Downloading data for 29 unique tickers from 2000-01-01 to 2025-03-05\n"
     ]
    },
    {
     "name": "stderr",
     "output_type": "stream",
     "text": [
      "[*********************100%***********************]  27 of 27 completed\n",
      "[*********************100%***********************]  1 of 1 completed\n"
     ]
    },
    {
     "name": "stdout",
     "output_type": "stream",
     "text": [
      "\n",
      "Downloading HKD/USD exchange rate data for currency conversion...\n",
      "\n",
      "Processing 0700.HK using join operation...\n",
      "Original HKD prices: 5116 non-null values\n",
      "Exchange rates: Ticker\n",
      "HKDUSD=X    5975\n",
      "dtype: int64 non-null values\n",
      "Converted USD prices: 5089 non-null values\n",
      "Successfully processed 0700.HK\n",
      "\n",
      "Processing 0700.HK using join operation...\n",
      "Original HKD prices: 5089 non-null values\n",
      "Exchange rates: Ticker\n",
      "HKDUSD=X    5975\n",
      "dtype: int64 non-null values\n",
      "Converted USD prices: 5089 non-null values\n",
      "Successfully processed 0700.HK\n",
      "\n",
      "First few rows of price data (all in USD):\n"
     ]
    },
    {
     "data": {
      "text/html": [
       "<div>\n",
       "<style scoped>\n",
       "    .dataframe tbody tr th:only-of-type {\n",
       "        vertical-align: middle;\n",
       "    }\n",
       "\n",
       "    .dataframe tbody tr th {\n",
       "        vertical-align: top;\n",
       "    }\n",
       "\n",
       "    .dataframe thead th {\n",
       "        text-align: right;\n",
       "    }\n",
       "</style>\n",
       "<table border=\"1\" class=\"dataframe\">\n",
       "  <thead>\n",
       "    <tr style=\"text-align: right;\">\n",
       "      <th>Ticker</th>\n",
       "      <th>0700.HK</th>\n",
       "      <th>ALV.DE</th>\n",
       "      <th>ASR</th>\n",
       "      <th>BRO</th>\n",
       "      <th>DBK.DE</th>\n",
       "      <th>DGX</th>\n",
       "      <th>DUOL</th>\n",
       "      <th>EXPE</th>\n",
       "      <th>FLUT</th>\n",
       "      <th>GOOG</th>\n",
       "      <th>...</th>\n",
       "      <th>RHM.DE</th>\n",
       "      <th>RR.L</th>\n",
       "      <th>RTX</th>\n",
       "      <th>SCAN.V</th>\n",
       "      <th>SHEL.L</th>\n",
       "      <th>SMCI</th>\n",
       "      <th>TAK</th>\n",
       "      <th>TSM</th>\n",
       "      <th>VST</th>\n",
       "      <th>ZG</th>\n",
       "    </tr>\n",
       "    <tr>\n",
       "      <th>Date</th>\n",
       "      <th></th>\n",
       "      <th></th>\n",
       "      <th></th>\n",
       "      <th></th>\n",
       "      <th></th>\n",
       "      <th></th>\n",
       "      <th></th>\n",
       "      <th></th>\n",
       "      <th></th>\n",
       "      <th></th>\n",
       "      <th></th>\n",
       "      <th></th>\n",
       "      <th></th>\n",
       "      <th></th>\n",
       "      <th></th>\n",
       "      <th></th>\n",
       "      <th></th>\n",
       "      <th></th>\n",
       "      <th></th>\n",
       "      <th></th>\n",
       "      <th></th>\n",
       "    </tr>\n",
       "  </thead>\n",
       "  <tbody>\n",
       "    <tr>\n",
       "      <th>2025-02-19</th>\n",
       "      <td>8.236090</td>\n",
       "      <td>320.000000</td>\n",
       "      <td>283.880005</td>\n",
       "      <td>112.309998</td>\n",
       "      <td>19.486000</td>\n",
       "      <td>171.750000</td>\n",
       "      <td>432.519989</td>\n",
       "      <td>206.520004</td>\n",
       "      <td>291.750000</td>\n",
       "      <td>187.130005</td>\n",
       "      <td>...</td>\n",
       "      <td>932.799988</td>\n",
       "      <td>642.599976</td>\n",
       "      <td>124.778488</td>\n",
       "      <td>1.91</td>\n",
       "      <td>2686.0</td>\n",
       "      <td>60.250000</td>\n",
       "      <td>13.74</td>\n",
       "      <td>200.949997</td>\n",
       "      <td>169.350006</td>\n",
       "      <td>76.650002</td>\n",
       "    </tr>\n",
       "    <tr>\n",
       "      <th>2025-02-20</th>\n",
       "      <td>8.047015</td>\n",
       "      <td>319.500000</td>\n",
       "      <td>287.190002</td>\n",
       "      <td>111.650002</td>\n",
       "      <td>19.370001</td>\n",
       "      <td>172.139999</td>\n",
       "      <td>421.779999</td>\n",
       "      <td>205.139999</td>\n",
       "      <td>287.739990</td>\n",
       "      <td>186.639999</td>\n",
       "      <td>...</td>\n",
       "      <td>889.599976</td>\n",
       "      <td>618.400024</td>\n",
       "      <td>124.479996</td>\n",
       "      <td>2.20</td>\n",
       "      <td>2684.0</td>\n",
       "      <td>59.270000</td>\n",
       "      <td>13.86</td>\n",
       "      <td>200.100006</td>\n",
       "      <td>163.179993</td>\n",
       "      <td>75.449997</td>\n",
       "    </tr>\n",
       "    <tr>\n",
       "      <th>2025-02-21</th>\n",
       "      <td>8.551071</td>\n",
       "      <td>320.200012</td>\n",
       "      <td>273.510010</td>\n",
       "      <td>111.709999</td>\n",
       "      <td>19.642000</td>\n",
       "      <td>172.240005</td>\n",
       "      <td>385.350006</td>\n",
       "      <td>196.809998</td>\n",
       "      <td>272.609985</td>\n",
       "      <td>181.580002</td>\n",
       "      <td>...</td>\n",
       "      <td>894.200012</td>\n",
       "      <td>611.400024</td>\n",
       "      <td>123.290001</td>\n",
       "      <td>2.00</td>\n",
       "      <td>2637.5</td>\n",
       "      <td>56.070000</td>\n",
       "      <td>14.06</td>\n",
       "      <td>198.240005</td>\n",
       "      <td>150.440002</td>\n",
       "      <td>72.040001</td>\n",
       "    </tr>\n",
       "    <tr>\n",
       "      <th>2025-02-24</th>\n",
       "      <td>8.236480</td>\n",
       "      <td>323.100006</td>\n",
       "      <td>270.399994</td>\n",
       "      <td>112.599998</td>\n",
       "      <td>19.719999</td>\n",
       "      <td>174.059998</td>\n",
       "      <td>389.899994</td>\n",
       "      <td>199.970001</td>\n",
       "      <td>270.260010</td>\n",
       "      <td>181.190002</td>\n",
       "      <td>...</td>\n",
       "      <td>951.400024</td>\n",
       "      <td>606.200012</td>\n",
       "      <td>125.430000</td>\n",
       "      <td>1.89</td>\n",
       "      <td>2633.5</td>\n",
       "      <td>51.610001</td>\n",
       "      <td>14.08</td>\n",
       "      <td>191.649994</td>\n",
       "      <td>142.759995</td>\n",
       "      <td>72.650002</td>\n",
       "    </tr>\n",
       "    <tr>\n",
       "      <th>2025-02-25</th>\n",
       "      <td>8.022059</td>\n",
       "      <td>326.000000</td>\n",
       "      <td>269.890015</td>\n",
       "      <td>114.769997</td>\n",
       "      <td>20.105000</td>\n",
       "      <td>175.410004</td>\n",
       "      <td>385.809998</td>\n",
       "      <td>199.759995</td>\n",
       "      <td>260.489990</td>\n",
       "      <td>177.369995</td>\n",
       "      <td>...</td>\n",
       "      <td>952.799988</td>\n",
       "      <td>615.000000</td>\n",
       "      <td>127.339996</td>\n",
       "      <td>1.98</td>\n",
       "      <td>2629.5</td>\n",
       "      <td>45.540001</td>\n",
       "      <td>14.36</td>\n",
       "      <td>189.369995</td>\n",
       "      <td>137.919998</td>\n",
       "      <td>74.720001</td>\n",
       "    </tr>\n",
       "    <tr>\n",
       "      <th>2025-02-26</th>\n",
       "      <td>8.299827</td>\n",
       "      <td>334.700012</td>\n",
       "      <td>273.869995</td>\n",
       "      <td>114.790001</td>\n",
       "      <td>20.900000</td>\n",
       "      <td>173.460007</td>\n",
       "      <td>386.559998</td>\n",
       "      <td>199.539993</td>\n",
       "      <td>273.220001</td>\n",
       "      <td>174.699997</td>\n",
       "      <td>...</td>\n",
       "      <td>970.000000</td>\n",
       "      <td>631.000000</td>\n",
       "      <td>127.309998</td>\n",
       "      <td>1.97</td>\n",
       "      <td>2647.0</td>\n",
       "      <td>51.110001</td>\n",
       "      <td>14.34</td>\n",
       "      <td>194.619995</td>\n",
       "      <td>148.190002</td>\n",
       "      <td>75.699997</td>\n",
       "    </tr>\n",
       "    <tr>\n",
       "      <th>2025-02-27</th>\n",
       "      <td>8.199294</td>\n",
       "      <td>333.299988</td>\n",
       "      <td>264.859985</td>\n",
       "      <td>116.500000</td>\n",
       "      <td>20.500000</td>\n",
       "      <td>171.550003</td>\n",
       "      <td>375.779999</td>\n",
       "      <td>193.550003</td>\n",
       "      <td>271.769989</td>\n",
       "      <td>170.210007</td>\n",
       "      <td>...</td>\n",
       "      <td>1001.000000</td>\n",
       "      <td>731.599976</td>\n",
       "      <td>130.520004</td>\n",
       "      <td>1.97</td>\n",
       "      <td>2652.0</td>\n",
       "      <td>42.950001</td>\n",
       "      <td>14.34</td>\n",
       "      <td>181.089996</td>\n",
       "      <td>130.009995</td>\n",
       "      <td>73.860001</td>\n",
       "    </tr>\n",
       "    <tr>\n",
       "      <th>2025-02-28</th>\n",
       "      <td>7.913520</td>\n",
       "      <td>330.299988</td>\n",
       "      <td>270.820007</td>\n",
       "      <td>118.540001</td>\n",
       "      <td>20.725000</td>\n",
       "      <td>172.899994</td>\n",
       "      <td>312.070007</td>\n",
       "      <td>197.960007</td>\n",
       "      <td>280.589996</td>\n",
       "      <td>172.220001</td>\n",
       "      <td>...</td>\n",
       "      <td>1006.500000</td>\n",
       "      <td>744.000000</td>\n",
       "      <td>132.990005</td>\n",
       "      <td>1.64</td>\n",
       "      <td>2636.0</td>\n",
       "      <td>41.459999</td>\n",
       "      <td>14.41</td>\n",
       "      <td>180.529999</td>\n",
       "      <td>133.660004</td>\n",
       "      <td>74.389999</td>\n",
       "    </tr>\n",
       "    <tr>\n",
       "      <th>2025-03-03</th>\n",
       "      <td>7.987691</td>\n",
       "      <td>340.299988</td>\n",
       "      <td>264.989990</td>\n",
       "      <td>119.870003</td>\n",
       "      <td>20.950001</td>\n",
       "      <td>176.949997</td>\n",
       "      <td>295.230011</td>\n",
       "      <td>193.500000</td>\n",
       "      <td>271.200012</td>\n",
       "      <td>168.660004</td>\n",
       "      <td>...</td>\n",
       "      <td>1144.500000</td>\n",
       "      <td>776.799988</td>\n",
       "      <td>133.830002</td>\n",
       "      <td>1.58</td>\n",
       "      <td>2656.5</td>\n",
       "      <td>36.070000</td>\n",
       "      <td>14.84</td>\n",
       "      <td>172.970001</td>\n",
       "      <td>123.949997</td>\n",
       "      <td>72.040001</td>\n",
       "    </tr>\n",
       "    <tr>\n",
       "      <th>2025-03-04</th>\n",
       "      <td>8.117800</td>\n",
       "      <td>334.399994</td>\n",
       "      <td>264.140015</td>\n",
       "      <td>119.169998</td>\n",
       "      <td>19.358000</td>\n",
       "      <td>175.009995</td>\n",
       "      <td>294.149994</td>\n",
       "      <td>188.699997</td>\n",
       "      <td>266.149994</td>\n",
       "      <td>172.610001</td>\n",
       "      <td>...</td>\n",
       "      <td>1122.000000</td>\n",
       "      <td>786.400024</td>\n",
       "      <td>128.699997</td>\n",
       "      <td>1.37</td>\n",
       "      <td>2568.0</td>\n",
       "      <td>39.139999</td>\n",
       "      <td>14.83</td>\n",
       "      <td>180.000000</td>\n",
       "      <td>126.940002</td>\n",
       "      <td>72.790001</td>\n",
       "    </tr>\n",
       "  </tbody>\n",
       "</table>\n",
       "<p>10 rows × 27 columns</p>\n",
       "</div>"
      ],
      "text/plain": [
       "Ticker       0700.HK      ALV.DE         ASR         BRO     DBK.DE  \\\n",
       "Date                                                                  \n",
       "2025-02-19  8.236090  320.000000  283.880005  112.309998  19.486000   \n",
       "2025-02-20  8.047015  319.500000  287.190002  111.650002  19.370001   \n",
       "2025-02-21  8.551071  320.200012  273.510010  111.709999  19.642000   \n",
       "2025-02-24  8.236480  323.100006  270.399994  112.599998  19.719999   \n",
       "2025-02-25  8.022059  326.000000  269.890015  114.769997  20.105000   \n",
       "2025-02-26  8.299827  334.700012  273.869995  114.790001  20.900000   \n",
       "2025-02-27  8.199294  333.299988  264.859985  116.500000  20.500000   \n",
       "2025-02-28  7.913520  330.299988  270.820007  118.540001  20.725000   \n",
       "2025-03-03  7.987691  340.299988  264.989990  119.870003  20.950001   \n",
       "2025-03-04  8.117800  334.399994  264.140015  119.169998  19.358000   \n",
       "\n",
       "Ticker             DGX        DUOL        EXPE        FLUT        GOOG  ...  \\\n",
       "Date                                                                    ...   \n",
       "2025-02-19  171.750000  432.519989  206.520004  291.750000  187.130005  ...   \n",
       "2025-02-20  172.139999  421.779999  205.139999  287.739990  186.639999  ...   \n",
       "2025-02-21  172.240005  385.350006  196.809998  272.609985  181.580002  ...   \n",
       "2025-02-24  174.059998  389.899994  199.970001  270.260010  181.190002  ...   \n",
       "2025-02-25  175.410004  385.809998  199.759995  260.489990  177.369995  ...   \n",
       "2025-02-26  173.460007  386.559998  199.539993  273.220001  174.699997  ...   \n",
       "2025-02-27  171.550003  375.779999  193.550003  271.769989  170.210007  ...   \n",
       "2025-02-28  172.899994  312.070007  197.960007  280.589996  172.220001  ...   \n",
       "2025-03-03  176.949997  295.230011  193.500000  271.200012  168.660004  ...   \n",
       "2025-03-04  175.009995  294.149994  188.699997  266.149994  172.610001  ...   \n",
       "\n",
       "Ticker           RHM.DE        RR.L         RTX  SCAN.V  SHEL.L       SMCI  \\\n",
       "Date                                                                         \n",
       "2025-02-19   932.799988  642.599976  124.778488    1.91  2686.0  60.250000   \n",
       "2025-02-20   889.599976  618.400024  124.479996    2.20  2684.0  59.270000   \n",
       "2025-02-21   894.200012  611.400024  123.290001    2.00  2637.5  56.070000   \n",
       "2025-02-24   951.400024  606.200012  125.430000    1.89  2633.5  51.610001   \n",
       "2025-02-25   952.799988  615.000000  127.339996    1.98  2629.5  45.540001   \n",
       "2025-02-26   970.000000  631.000000  127.309998    1.97  2647.0  51.110001   \n",
       "2025-02-27  1001.000000  731.599976  130.520004    1.97  2652.0  42.950001   \n",
       "2025-02-28  1006.500000  744.000000  132.990005    1.64  2636.0  41.459999   \n",
       "2025-03-03  1144.500000  776.799988  133.830002    1.58  2656.5  36.070000   \n",
       "2025-03-04  1122.000000  786.400024  128.699997    1.37  2568.0  39.139999   \n",
       "\n",
       "Ticker        TAK         TSM         VST         ZG  \n",
       "Date                                                  \n",
       "2025-02-19  13.74  200.949997  169.350006  76.650002  \n",
       "2025-02-20  13.86  200.100006  163.179993  75.449997  \n",
       "2025-02-21  14.06  198.240005  150.440002  72.040001  \n",
       "2025-02-24  14.08  191.649994  142.759995  72.650002  \n",
       "2025-02-25  14.36  189.369995  137.919998  74.720001  \n",
       "2025-02-26  14.34  194.619995  148.190002  75.699997  \n",
       "2025-02-27  14.34  181.089996  130.009995  73.860001  \n",
       "2025-02-28  14.41  180.529999  133.660004  74.389999  \n",
       "2025-03-03  14.84  172.970001  123.949997  72.040001  \n",
       "2025-03-04  14.83  180.000000  126.940002  72.790001  \n",
       "\n",
       "[10 rows x 27 columns]"
      ]
     },
     "execution_count": 117,
     "metadata": {},
     "output_type": "execute_result"
    }
   ],
   "source": [
    "# Get unique tickers and track which ones are from Hong Kong\n",
    "unique_tickers = []\n",
    "hk_tickers = []  # Hong Kong stocks (HKD)\n",
    "eur_tickers = []  # European stocks (EUR)\n",
    "gbp_tickers = []  # UK stocks (GBP)\n",
    "cad_tickers = []  # Canadian stocks (CAD)\n",
    "\n",
    "for position in POSITIONS:\n",
    "    ticker = position['ticker']\n",
    "    exchange = position['exchange']\n",
    "    \n",
    "    # Format ticker based on exchange\n",
    "    if exchange == 'NYSE' or exchange == 'NASDAQ':\n",
    "        formatted_ticker = ticker\n",
    "    elif exchange == 'HKG':\n",
    "        formatted_ticker = f\"{ticker}.HK\"  # Hong Kong stocks use .HK suffix\n",
    "        hk_tickers.append(formatted_ticker)\n",
    "    elif exchange == 'EPA':\n",
    "        formatted_ticker = f\"{ticker}.PA\"  # Paris stocks use .PA suffix\n",
    "        eur_tickers.append(formatted_ticker)\n",
    "    elif exchange == 'LON':\n",
    "        formatted_ticker = f\"{ticker}.L\"  # London stocks use .L suffix\n",
    "        gbp_tickers.append(formatted_ticker)\n",
    "    elif exchange == 'TSE':\n",
    "        formatted_ticker = f\"{ticker}-A.TO\"  # Toronto stocks use .TO suffix (CTC-A is a special case)\n",
    "        cad_tickers.append(formatted_ticker)\n",
    "    elif exchange == 'CVE':\n",
    "        formatted_ticker = f\"{ticker}.V\"  # .V according to the Yahoo Finance\n",
    "        cad_tickers.append(formatted_ticker)\n",
    "    elif exchange == 'XETRA':\n",
    "        formatted_ticker = f\"{ticker}.DE\"  # .DE according to the Yahoo Finance (ETR/XETRA stock exchange)\n",
    "        eur_tickers.append(formatted_ticker)\n",
    "    else:\n",
    "        formatted_ticker = ticker\n",
    "        \n",
    "    unique_tickers.append(formatted_ticker)\n",
    "\n",
    "print(f\"Downloading data for {len(unique_tickers)} unique tickers from {START_DATE} to {END_DATE}\")\n",
    "\n",
    "# Download historical data for all tickers\n",
    "stock_data = yf.download(unique_tickers, start=START_DATE, end=END_DATE)\n",
    "\n",
    "# We'll use the 'Close' prices for our calculations\n",
    "prices_df = stock_data['Close'].copy()  # Create a copy to avoid SettingWithCopyWarning\n",
    "\n",
    "# Download HKD to USD exchange rate data if we have Hong Kong stocks\n",
    "if hk_tickers:\n",
    "    print(\"\\nDownloading HKD/USD exchange rate data for currency conversion...\")\n",
    "    # HKDUSD=X is the Yahoo Finance ticker for HKD to USD exchange rate\n",
    "    exchange_rate_data = yf.download('HKDUSD=X', start=START_DATE, end=END_DATE)\n",
    "    exchange_rate = exchange_rate_data['Close']\n",
    "    \n",
    "    # Convert Hong Kong stock prices from HKD to USD using the join approach\n",
    "    for ticker in hk_tickers:\n",
    "        print(f\"\\nProcessing {ticker} using join operation...\")\n",
    "        \n",
    "        # Check if ticker exists in prices_df\n",
    "        if ticker in prices_df.columns:\n",
    "            # Get the HKD prices\n",
    "            hkd_prices = prices_df[ticker]\n",
    "        else:\n",
    "            # Download the data directly\n",
    "            print(f\"Ticker {ticker} not found in original data, downloading directly...\")\n",
    "            single_stock_data = yf.download(ticker, start=START_DATE, end=END_DATE)\n",
    "            \n",
    "            if single_stock_data.empty:\n",
    "                print(f\"Error: Could not download data for {ticker}\")\n",
    "                continue\n",
    "                \n",
    "            hkd_prices = single_stock_data['Close']\n",
    "        \n",
    "        # Create a temporary DataFrame with both series properly indexed\n",
    "        temp_df = pd.DataFrame({'HKD_Price': hkd_prices})\n",
    "        temp_df['USD_Rate'] = exchange_rate  # This will align indices automatically\n",
    "        \n",
    "        # Calculate USD prices only where both values exist\n",
    "        temp_df['USD_Price'] = temp_df['HKD_Price'] * temp_df['USD_Rate']\n",
    "        \n",
    "        # Print statistics\n",
    "        print(f\"Original HKD prices: {hkd_prices.notna().sum()} non-null values\")\n",
    "        print(f\"Exchange rates: {exchange_rate.notna().sum()} non-null values\")\n",
    "        print(f\"Converted USD prices: {temp_df['USD_Price'].notna().sum()} non-null values\")\n",
    "        \n",
    "        # Add the converted prices to prices_df\n",
    "        prices_df.loc[:, ticker] = temp_df['USD_Price']\n",
    "        \n",
    "        print(f\"Successfully processed {ticker}\")\n",
    "\n",
    "# Display the first few rows of the data\n",
    "print(\"\\nFirst few rows of price data (all in USD):\")\n",
    "prices_df.tail(10)"
   ]
  },
  {
   "cell_type": "code",
   "execution_count": 118,
   "metadata": {},
   "outputs": [
    {
     "name": "stderr",
     "output_type": "stream",
     "text": [
      "[*********************100%***********************]  1 of 1 completed\n",
      "[*********************100%***********************]  1 of 1 completed\n",
      "[*********************100%***********************]  1 of 1 completed\n"
     ]
    },
    {
     "name": "stdout",
     "output_type": "stream",
     "text": [
      "\n",
      "Downloading EUR/USD exchange rate data for currency conversion...\n",
      "Downloaded 5517 days of EUR/USD rates\n",
      "\n",
      "Downloading GBP/USD exchange rate data for currency conversion...\n",
      "Downloaded 5529 days of GBP/USD rates\n",
      "\n",
      "Downloading CAD/USD exchange rate data for currency conversion...\n",
      "Downloaded 5585 days of CAD/USD rates\n"
     ]
    }
   ],
   "source": [
    "# OTHER CURRENCIES : EUR, GBP, CAD\n",
    "# -------------------------------\n",
    "# Download EUR to USD exchange rate data if we have European stocks\n",
    "if eur_tickers:\n",
    "    print(\"\\nDownloading EUR/USD exchange rate data for currency conversion...\")\n",
    "    eur_usd_data = yf.download('EURUSD=X', start=START_DATE, end=END_DATE)\n",
    "    eur_usd_rate = eur_usd_data['Close']\n",
    "    print(f\"Downloaded {len(eur_usd_rate)} days of EUR/USD rates\")\n",
    "\n",
    "# Download GBP to USD exchange rate data if we have UK stocks\n",
    "if gbp_tickers:\n",
    "    print(\"\\nDownloading GBP/USD exchange rate data for currency conversion...\")\n",
    "    gbp_usd_data = yf.download('GBPUSD=X', start=START_DATE, end=END_DATE)\n",
    "    gbp_usd_rate = gbp_usd_data['Close']\n",
    "    print(f\"Downloaded {len(gbp_usd_rate)} days of GBP/USD rates\")\n",
    "\n",
    "# Download CAD to USD exchange rate data if we have Canadian stocks\n",
    "if cad_tickers:\n",
    "    print(\"\\nDownloading CAD/USD exchange rate data for currency conversion...\")\n",
    "    cad_usd_data = yf.download('CADUSD=X', start=START_DATE, end=END_DATE)\n",
    "    cad_usd_rate = cad_usd_data['Close']\n",
    "    print(f\"Downloaded {len(cad_usd_rate)} days of CAD/USD rates\")"
   ]
  },
  {
   "cell_type": "code",
   "execution_count": 119,
   "metadata": {},
   "outputs": [
    {
     "name": "stdout",
     "output_type": "stream",
     "text": [
      "\n",
      "Processing ALV.DE (EUR) using join operation...\n",
      "Original EUR prices: 6435 non-null values\n",
      "Exchange rates: Ticker\n",
      "EURUSD=X    5517\n",
      "dtype: int64 non-null values\n",
      "Converted USD prices: 5387 non-null values\n",
      "Successfully processed ALV.DE\n",
      "\n",
      "Processing DBK.DE (EUR) using join operation...\n",
      "Original EUR prices: 6435 non-null values\n",
      "Exchange rates: Ticker\n",
      "EURUSD=X    5517\n",
      "dtype: int64 non-null values\n",
      "Converted USD prices: 5387 non-null values\n",
      "Successfully processed DBK.DE\n",
      "\n",
      "Processing RHM.DE (EUR) using join operation...\n",
      "Original EUR prices: 6435 non-null values\n",
      "Exchange rates: Ticker\n",
      "EURUSD=X    5517\n",
      "dtype: int64 non-null values\n",
      "Converted USD prices: 5387 non-null values\n",
      "Successfully processed RHM.DE\n",
      "\n",
      "Processing RR.L (GBP) using join operation...\n",
      "Original GBP prices: 6409 non-null values\n",
      "Exchange rates: Ticker\n",
      "GBPUSD=X    5529\n",
      "dtype: int64 non-null values\n",
      "Converted USD prices: 5372 non-null values\n",
      "Successfully processed RR.L\n",
      "\n",
      "Processing SHEL.L (GBP) using join operation...\n",
      "Original GBP prices: 6409 non-null values\n",
      "Exchange rates: Ticker\n",
      "GBPUSD=X    5529\n",
      "dtype: int64 non-null values\n",
      "Converted USD prices: 5372 non-null values\n",
      "Successfully processed SHEL.L\n",
      "\n",
      "Processing SCAN.V (CAD) using join operation...\n",
      "Original CAD prices: 2939 non-null values\n",
      "Exchange rates: Ticker\n",
      "CADUSD=X    5585\n",
      "dtype: int64 non-null values\n",
      "Converted USD prices: 2935 non-null values\n",
      "Successfully processed SCAN.V\n"
     ]
    }
   ],
   "source": [
    "# Convert EUR stocks to USD using the join approach\n",
    "for ticker in eur_tickers:\n",
    "    print(f\"\\nProcessing {ticker} (EUR) using join operation...\")\n",
    "    \n",
    "    # Check if ticker exists in prices_df\n",
    "    if ticker in prices_df.columns:\n",
    "        eur_prices = prices_df[ticker]\n",
    "    else:\n",
    "        # Download the data directly\n",
    "        print(f\"Ticker {ticker} not found in original data, downloading directly...\")\n",
    "        stock_data = yf.download(ticker, start=START_DATE, end=END_DATE)\n",
    "        \n",
    "        if stock_data.empty:\n",
    "            print(f\"Error: Could not download data for {ticker}\")\n",
    "            continue\n",
    "            \n",
    "        eur_prices = stock_data['Close']\n",
    "    \n",
    "    # Create a temporary DataFrame with both series properly indexed\n",
    "    temp_df = pd.DataFrame({'EUR_Price': eur_prices})\n",
    "    temp_df['USD_Rate'] = eur_usd_rate  # This will align indices automatically\n",
    "    \n",
    "    # Calculate USD prices only where both values exist\n",
    "    temp_df['USD_Price'] = temp_df['EUR_Price'] * temp_df['USD_Rate']\n",
    "    \n",
    "    # Print statistics\n",
    "    print(f\"Original EUR prices: {eur_prices.notna().sum()} non-null values\")\n",
    "    print(f\"Exchange rates: {eur_usd_rate.notna().sum()} non-null values\")\n",
    "    print(f\"Converted USD prices: {temp_df['USD_Price'].notna().sum()} non-null values\")\n",
    "    \n",
    "    # Add the converted prices to prices_df\n",
    "    prices_df.loc[:, ticker] = temp_df['USD_Price']\n",
    "    \n",
    "    print(f\"Successfully processed {ticker}\")\n",
    "\n",
    "# Convert GBP stocks to USD using the join approach\n",
    "for ticker in gbp_tickers:\n",
    "    print(f\"\\nProcessing {ticker} (GBP) using join operation...\")\n",
    "    \n",
    "    # Check if ticker exists in prices_df\n",
    "    if ticker in prices_df.columns:\n",
    "        gbp_prices = prices_df[ticker]\n",
    "    else:\n",
    "        # Download the data directly\n",
    "        print(f\"Ticker {ticker} not found in original data, downloading directly...\")\n",
    "        stock_data = yf.download(ticker, start=START_DATE, end=END_DATE)\n",
    "        \n",
    "        if stock_data.empty:\n",
    "            print(f\"Error: Could not download data for {ticker}\")\n",
    "            continue\n",
    "            \n",
    "        gbp_prices = stock_data['Close']\n",
    "    \n",
    "    # Create a temporary DataFrame with both series properly indexed\n",
    "    temp_df = pd.DataFrame({'GBP_Price': gbp_prices})\n",
    "    temp_df['USD_Rate'] = gbp_usd_rate  # This will align indices automatically\n",
    "    \n",
    "    # Calculate USD prices only where both values exist\n",
    "    temp_df['USD_Price'] = temp_df['GBP_Price'] * temp_df['USD_Rate']\n",
    "    \n",
    "    # Print statistics\n",
    "    print(f\"Original GBP prices: {gbp_prices.notna().sum()} non-null values\")\n",
    "    print(f\"Exchange rates: {gbp_usd_rate.notna().sum()} non-null values\")\n",
    "    print(f\"Converted USD prices: {temp_df['USD_Price'].notna().sum()} non-null values\")\n",
    "    \n",
    "    # Add the converted prices to prices_df\n",
    "    prices_df.loc[:, ticker] = temp_df['USD_Price']\n",
    "    \n",
    "    print(f\"Successfully processed {ticker}\")\n",
    "\n",
    "# Convert CAD stocks to USD using the join approach\n",
    "for ticker in cad_tickers:\n",
    "    print(f\"\\nProcessing {ticker} (CAD) using join operation...\")\n",
    "    \n",
    "    # Check if ticker exists in prices_df\n",
    "    if ticker in prices_df.columns:\n",
    "        cad_prices = prices_df[ticker]\n",
    "    else:\n",
    "        # Download the data directly\n",
    "        print(f\"Ticker {ticker} not found in original data, downloading directly...\")\n",
    "        stock_data = yf.download(ticker, start=START_DATE, end=END_DATE)\n",
    "        \n",
    "        if stock_data.empty:\n",
    "            print(f\"Error: Could not download data for {ticker}\")\n",
    "            continue\n",
    "            \n",
    "        cad_prices = stock_data['Close']\n",
    "    \n",
    "    # Create a temporary DataFrame with both series properly indexed\n",
    "    temp_df = pd.DataFrame({'CAD_Price': cad_prices})\n",
    "    temp_df['USD_Rate'] = cad_usd_rate  # This will align indices automatically\n",
    "    \n",
    "    # Calculate USD prices only where both values exist\n",
    "    temp_df['USD_Price'] = temp_df['CAD_Price'] * temp_df['USD_Rate']\n",
    "    \n",
    "    # Print statistics\n",
    "    print(f\"Original CAD prices: {cad_prices.notna().sum()} non-null values\")\n",
    "    print(f\"Exchange rates: {cad_usd_rate.notna().sum()} non-null values\")\n",
    "    print(f\"Converted USD prices: {temp_df['USD_Price'].notna().sum()} non-null values\")\n",
    "    \n",
    "    # Add the converted prices to prices_df\n",
    "    prices_df.loc[:, ticker] = temp_df['USD_Price']\n",
    "    \n",
    "    print(f\"Successfully processed {ticker}\")\n",
    "\n",
    "# --------------------------------------------"
   ]
  },
  {
   "cell_type": "code",
   "execution_count": 120,
   "metadata": {},
   "outputs": [
    {
     "name": "stdout",
     "output_type": "stream",
     "text": [
      "Weight sum for each person:\n",
      "Apoorva: 1.00 (OK)\n",
      "Alessandro: 1.00 (OK)\n",
      "Ivan: 1.00 (OK)\n",
      "Abhi: 1.00 (OK)\n",
      "Conor: 1.00 (OK)\n",
      "Diarbhail: 1.00 (OK)\n",
      "Radu: 1.00 (OK)\n",
      "Silvia: 1.00 (OK)\n"
     ]
    },
    {
     "data": {
      "application/vnd.plotly.v1+json": {
       "config": {
        "plotlyServerURL": "https://plot.ly"
       },
       "data": [
        {
         "hovertemplate": "Status=OK<br>Person=%{x}<br>Total Weight=%{text}<extra></extra>",
         "legendgroup": "OK",
         "marker": {
          "color": "green",
          "pattern": {
           "shape": ""
          }
         },
         "name": "OK",
         "orientation": "v",
         "showlegend": true,
         "text": {
          "bdata": "AAAAAAAA8D8AAAAAAADwPwAAAAAAAPA/AAAAAAAA8D8AAAAAAADwPwAAAAAAAPA/AAAAAAAA8D8AAAAAAADwPw==",
          "dtype": "f8"
         },
         "textposition": "auto",
         "type": "bar",
         "x": [
          "Apoorva",
          "Alessandro",
          "Ivan",
          "Abhi",
          "Conor",
          "Diarbhail",
          "Radu",
          "Silvia"
         ],
         "xaxis": "x",
         "y": {
          "bdata": "AAAAAAAA8D8AAAAAAADwPwAAAAAAAPA/AAAAAAAA8D8AAAAAAADwPwAAAAAAAPA/AAAAAAAA8D8AAAAAAADwPw==",
          "dtype": "f8"
         },
         "yaxis": "y"
        }
       ],
       "layout": {
        "barmode": "relative",
        "legend": {
         "title": {
          "text": "Status"
         },
         "tracegroupgap": 0
        },
        "shapes": [
         {
          "line": {
           "color": "black",
           "dash": "dash",
           "width": 2
          },
          "type": "line",
          "x0": -0.5,
          "x1": 7.5,
          "y0": 1,
          "y1": 1
         }
        ],
        "template": {
         "data": {
          "pie": [
           {
            "automargin": true,
            "type": "pie"
           }
          ],
          "scatter": [
           {
            "line": {
             "width": 3
            },
            "marker": {
             "size": 9
            },
            "type": "scatter"
           }
          ],
          "scatter3d": [
           {
            "line": {
             "width": 3
            },
            "marker": {
             "size": 9
            },
            "type": "scatter3d"
           }
          ],
          "scattergeo": [
           {
            "line": {
             "width": 3
            },
            "marker": {
             "size": 9
            },
            "type": "scattergeo"
           }
          ],
          "scattergl": [
           {
            "line": {
             "width": 3
            },
            "marker": {
             "size": 9
            },
            "type": "scattergl"
           }
          ],
          "scatterpolar": [
           {
            "line": {
             "width": 3
            },
            "marker": {
             "size": 9
            },
            "type": "scatterpolar"
           }
          ],
          "scatterpolargl": [
           {
            "line": {
             "width": 3
            },
            "marker": {
             "size": 9
            },
            "type": "scatterpolargl"
           }
          ],
          "scatterternary": [
           {
            "line": {
             "width": 3
            },
            "marker": {
             "size": 9
            },
            "type": "scatterternary"
           }
          ],
          "table": [
           {
            "cells": {
             "height": 30
            },
            "header": {
             "height": 36
            },
            "type": "table"
           }
          ]
         },
         "layout": {
          "font": {
           "size": 18
          },
          "xaxis": {
           "title": {
            "standoff": 15
           }
          },
          "yaxis": {
           "title": {
            "standoff": 15
           }
          }
         }
        },
        "title": {
         "text": "Portfolio Weight Distribution by Person"
        },
        "xaxis": {
         "anchor": "y",
         "domain": [
          0,
          1
         ],
         "title": {
          "text": "Person"
         }
        },
        "yaxis": {
         "anchor": "x",
         "domain": [
          0,
          1
         ],
         "tickformat": ".0%",
         "title": {
          "text": "Total Weight"
         }
        }
       }
      }
     },
     "metadata": {},
     "output_type": "display_data"
    }
   ],
   "source": [
    "# Check that each person's weights sum to 100%\n",
    "person_weights = {}\n",
    "\n",
    "for position in POSITIONS:\n",
    "    name = position['name']\n",
    "    weight = position['weight']\n",
    "    \n",
    "    if name not in person_weights:\n",
    "        person_weights[name] = 0\n",
    "    \n",
    "    person_weights[name] += weight\n",
    "\n",
    "# Create a DataFrame for visualization\n",
    "weights_df = pd.DataFrame({\n",
    "    'Person': list(person_weights.keys()),\n",
    "    'Total Weight': list(person_weights.values())\n",
    "})\n",
    "\n",
    "# Add a status column\n",
    "weights_df['Status'] = weights_df['Total Weight'].apply(lambda x: 'OK' if abs(x - 1.0) < 0.01 else 'ERROR - Not 100%')\n",
    "\n",
    "# Display the results\n",
    "print(\"Weight sum for each person:\")\n",
    "for name, total_weight in person_weights.items():\n",
    "    print(f\"{name}: {total_weight:.2f} ({'OK' if abs(total_weight - 1.0) < 0.01 else 'ERROR - Not 100%'})\")\n",
    "\n",
    "# Create a bar chart to visualize the weights\n",
    "fig = px.bar(\n",
    "    weights_df, \n",
    "    x='Person', \n",
    "    y='Total Weight',\n",
    "    color='Status',\n",
    "    title='Portfolio Weight Distribution by Person',\n",
    "    text='Total Weight',\n",
    "    color_discrete_map={'OK': 'green', 'ERROR - Not 100%': 'red'}\n",
    ")\n",
    "\n",
    "# Add a horizontal line at 1.0 (100%)\n",
    "fig.add_shape(\n",
    "    type=\"line\",\n",
    "    x0=-0.5,\n",
    "    y0=1.0,\n",
    "    x1=len(weights_df)-0.5,\n",
    "    y1=1.0,\n",
    "    line=dict(color=\"black\", width=2, dash=\"dash\")\n",
    ")\n",
    "\n",
    "# Format the y-axis as percentage\n",
    "fig.update_layout(\n",
    "    yaxis=dict(title=\"Total Weight\", tickformat=\".0%\"),\n",
    "    template='presentation'\n",
    ")\n",
    "\n",
    "# Show the figure\n",
    "fig.show()"
   ]
  },
  {
   "cell_type": "code",
   "execution_count": 121,
   "metadata": {},
   "outputs": [
    {
     "name": "stdout",
     "output_type": "stream",
     "text": [
      "Initial portfolio allocations:\n"
     ]
    },
    {
     "data": {
      "text/html": [
       "<div>\n",
       "<style scoped>\n",
       "    .dataframe tbody tr th:only-of-type {\n",
       "        vertical-align: middle;\n",
       "    }\n",
       "\n",
       "    .dataframe tbody tr th {\n",
       "        vertical-align: top;\n",
       "    }\n",
       "\n",
       "    .dataframe thead th {\n",
       "        text-align: right;\n",
       "    }\n",
       "</style>\n",
       "<table border=\"1\" class=\"dataframe\">\n",
       "  <thead>\n",
       "    <tr style=\"text-align: right;\">\n",
       "      <th></th>\n",
       "      <th>name</th>\n",
       "      <th>ticker</th>\n",
       "      <th>weight</th>\n",
       "      <th>normalized_weight</th>\n",
       "      <th>allocation_usd</th>\n",
       "    </tr>\n",
       "  </thead>\n",
       "  <tbody>\n",
       "    <tr>\n",
       "      <th>0</th>\n",
       "      <td>Apoorva</td>\n",
       "      <td>TSM</td>\n",
       "      <td>0.40</td>\n",
       "      <td>0.40</td>\n",
       "      <td>40000.0</td>\n",
       "    </tr>\n",
       "    <tr>\n",
       "      <th>1</th>\n",
       "      <td>Apoorva</td>\n",
       "      <td>GOOGL</td>\n",
       "      <td>0.10</td>\n",
       "      <td>0.10</td>\n",
       "      <td>10000.0</td>\n",
       "    </tr>\n",
       "    <tr>\n",
       "      <th>2</th>\n",
       "      <td>Apoorva</td>\n",
       "      <td>TAK</td>\n",
       "      <td>0.25</td>\n",
       "      <td>0.25</td>\n",
       "      <td>25000.0</td>\n",
       "    </tr>\n",
       "    <tr>\n",
       "      <th>3</th>\n",
       "      <td>Apoorva</td>\n",
       "      <td>0700.HK</td>\n",
       "      <td>0.25</td>\n",
       "      <td>0.25</td>\n",
       "      <td>25000.0</td>\n",
       "    </tr>\n",
       "    <tr>\n",
       "      <th>4</th>\n",
       "      <td>Alessandro</td>\n",
       "      <td>DUOL</td>\n",
       "      <td>0.40</td>\n",
       "      <td>0.40</td>\n",
       "      <td>40000.0</td>\n",
       "    </tr>\n",
       "    <tr>\n",
       "      <th>5</th>\n",
       "      <td>Alessandro</td>\n",
       "      <td>GOOG</td>\n",
       "      <td>0.25</td>\n",
       "      <td>0.25</td>\n",
       "      <td>25000.0</td>\n",
       "    </tr>\n",
       "    <tr>\n",
       "      <th>6</th>\n",
       "      <td>Alessandro</td>\n",
       "      <td>ZG</td>\n",
       "      <td>0.35</td>\n",
       "      <td>0.35</td>\n",
       "      <td>35000.0</td>\n",
       "    </tr>\n",
       "    <tr>\n",
       "      <th>7</th>\n",
       "      <td>Ivan</td>\n",
       "      <td>VST</td>\n",
       "      <td>0.40</td>\n",
       "      <td>0.40</td>\n",
       "      <td>40000.0</td>\n",
       "    </tr>\n",
       "    <tr>\n",
       "      <th>8</th>\n",
       "      <td>Ivan</td>\n",
       "      <td>EXPE</td>\n",
       "      <td>0.30</td>\n",
       "      <td>0.30</td>\n",
       "      <td>30000.0</td>\n",
       "    </tr>\n",
       "    <tr>\n",
       "      <th>9</th>\n",
       "      <td>Ivan</td>\n",
       "      <td>DGX</td>\n",
       "      <td>0.30</td>\n",
       "      <td>0.30</td>\n",
       "      <td>30000.0</td>\n",
       "    </tr>\n",
       "    <tr>\n",
       "      <th>10</th>\n",
       "      <td>Abhi</td>\n",
       "      <td>ASR</td>\n",
       "      <td>0.25</td>\n",
       "      <td>0.25</td>\n",
       "      <td>25000.0</td>\n",
       "    </tr>\n",
       "    <tr>\n",
       "      <th>11</th>\n",
       "      <td>Abhi</td>\n",
       "      <td>0700.HK</td>\n",
       "      <td>0.25</td>\n",
       "      <td>0.25</td>\n",
       "      <td>25000.0</td>\n",
       "    </tr>\n",
       "    <tr>\n",
       "      <th>12</th>\n",
       "      <td>Abhi</td>\n",
       "      <td>SMCI</td>\n",
       "      <td>0.25</td>\n",
       "      <td>0.25</td>\n",
       "      <td>25000.0</td>\n",
       "    </tr>\n",
       "    <tr>\n",
       "      <th>13</th>\n",
       "      <td>Abhi</td>\n",
       "      <td>BRO</td>\n",
       "      <td>0.25</td>\n",
       "      <td>0.25</td>\n",
       "      <td>25000.0</td>\n",
       "    </tr>\n",
       "    <tr>\n",
       "      <th>14</th>\n",
       "      <td>Conor</td>\n",
       "      <td>PFE</td>\n",
       "      <td>0.20</td>\n",
       "      <td>0.20</td>\n",
       "      <td>20000.0</td>\n",
       "    </tr>\n",
       "    <tr>\n",
       "      <th>15</th>\n",
       "      <td>Conor</td>\n",
       "      <td>RR.L</td>\n",
       "      <td>0.20</td>\n",
       "      <td>0.20</td>\n",
       "      <td>20000.0</td>\n",
       "    </tr>\n",
       "    <tr>\n",
       "      <th>16</th>\n",
       "      <td>Conor</td>\n",
       "      <td>MCD</td>\n",
       "      <td>0.20</td>\n",
       "      <td>0.20</td>\n",
       "      <td>20000.0</td>\n",
       "    </tr>\n",
       "    <tr>\n",
       "      <th>17</th>\n",
       "      <td>Conor</td>\n",
       "      <td>SHEL.L</td>\n",
       "      <td>0.20</td>\n",
       "      <td>0.20</td>\n",
       "      <td>20000.0</td>\n",
       "    </tr>\n",
       "    <tr>\n",
       "      <th>18</th>\n",
       "      <td>Conor</td>\n",
       "      <td>ALV.DE</td>\n",
       "      <td>0.20</td>\n",
       "      <td>0.20</td>\n",
       "      <td>20000.0</td>\n",
       "    </tr>\n",
       "    <tr>\n",
       "      <th>19</th>\n",
       "      <td>Diarbhail</td>\n",
       "      <td>FLUT</td>\n",
       "      <td>0.34</td>\n",
       "      <td>0.34</td>\n",
       "      <td>34000.0</td>\n",
       "    </tr>\n",
       "    <tr>\n",
       "      <th>20</th>\n",
       "      <td>Diarbhail</td>\n",
       "      <td>NVDA</td>\n",
       "      <td>0.33</td>\n",
       "      <td>0.33</td>\n",
       "      <td>33000.0</td>\n",
       "    </tr>\n",
       "    <tr>\n",
       "      <th>21</th>\n",
       "      <td>Diarbhail</td>\n",
       "      <td>SCAN.V</td>\n",
       "      <td>0.33</td>\n",
       "      <td>0.33</td>\n",
       "      <td>33000.0</td>\n",
       "    </tr>\n",
       "    <tr>\n",
       "      <th>22</th>\n",
       "      <td>Radu</td>\n",
       "      <td>MP</td>\n",
       "      <td>0.10</td>\n",
       "      <td>0.10</td>\n",
       "      <td>10000.0</td>\n",
       "    </tr>\n",
       "    <tr>\n",
       "      <th>23</th>\n",
       "      <td>Radu</td>\n",
       "      <td>DBK.DE</td>\n",
       "      <td>0.50</td>\n",
       "      <td>0.50</td>\n",
       "      <td>50000.0</td>\n",
       "    </tr>\n",
       "    <tr>\n",
       "      <th>24</th>\n",
       "      <td>Radu</td>\n",
       "      <td>RTX</td>\n",
       "      <td>0.20</td>\n",
       "      <td>0.20</td>\n",
       "      <td>20000.0</td>\n",
       "    </tr>\n",
       "    <tr>\n",
       "      <th>25</th>\n",
       "      <td>Radu</td>\n",
       "      <td>RHM.DE</td>\n",
       "      <td>0.20</td>\n",
       "      <td>0.20</td>\n",
       "      <td>20000.0</td>\n",
       "    </tr>\n",
       "    <tr>\n",
       "      <th>26</th>\n",
       "      <td>Silvia</td>\n",
       "      <td>NVO</td>\n",
       "      <td>0.33</td>\n",
       "      <td>0.33</td>\n",
       "      <td>33000.0</td>\n",
       "    </tr>\n",
       "    <tr>\n",
       "      <th>27</th>\n",
       "      <td>Silvia</td>\n",
       "      <td>NVDA</td>\n",
       "      <td>0.33</td>\n",
       "      <td>0.33</td>\n",
       "      <td>33000.0</td>\n",
       "    </tr>\n",
       "    <tr>\n",
       "      <th>28</th>\n",
       "      <td>Silvia</td>\n",
       "      <td>OPRA</td>\n",
       "      <td>0.34</td>\n",
       "      <td>0.34</td>\n",
       "      <td>34000.0</td>\n",
       "    </tr>\n",
       "  </tbody>\n",
       "</table>\n",
       "</div>"
      ],
      "text/plain": [
       "          name   ticker  weight  normalized_weight  allocation_usd\n",
       "0      Apoorva      TSM    0.40               0.40         40000.0\n",
       "1      Apoorva    GOOGL    0.10               0.10         10000.0\n",
       "2      Apoorva      TAK    0.25               0.25         25000.0\n",
       "3      Apoorva  0700.HK    0.25               0.25         25000.0\n",
       "4   Alessandro     DUOL    0.40               0.40         40000.0\n",
       "5   Alessandro     GOOG    0.25               0.25         25000.0\n",
       "6   Alessandro       ZG    0.35               0.35         35000.0\n",
       "7         Ivan      VST    0.40               0.40         40000.0\n",
       "8         Ivan     EXPE    0.30               0.30         30000.0\n",
       "9         Ivan      DGX    0.30               0.30         30000.0\n",
       "10        Abhi      ASR    0.25               0.25         25000.0\n",
       "11        Abhi  0700.HK    0.25               0.25         25000.0\n",
       "12        Abhi     SMCI    0.25               0.25         25000.0\n",
       "13        Abhi      BRO    0.25               0.25         25000.0\n",
       "14       Conor      PFE    0.20               0.20         20000.0\n",
       "15       Conor     RR.L    0.20               0.20         20000.0\n",
       "16       Conor      MCD    0.20               0.20         20000.0\n",
       "17       Conor   SHEL.L    0.20               0.20         20000.0\n",
       "18       Conor   ALV.DE    0.20               0.20         20000.0\n",
       "19   Diarbhail     FLUT    0.34               0.34         34000.0\n",
       "20   Diarbhail     NVDA    0.33               0.33         33000.0\n",
       "21   Diarbhail   SCAN.V    0.33               0.33         33000.0\n",
       "22        Radu       MP    0.10               0.10         10000.0\n",
       "23        Radu   DBK.DE    0.50               0.50         50000.0\n",
       "24        Radu      RTX    0.20               0.20         20000.0\n",
       "25        Radu   RHM.DE    0.20               0.20         20000.0\n",
       "26      Silvia      NVO    0.33               0.33         33000.0\n",
       "27      Silvia     NVDA    0.33               0.33         33000.0\n",
       "28      Silvia     OPRA    0.34               0.34         34000.0"
      ]
     },
     "execution_count": 121,
     "metadata": {},
     "output_type": "execute_result"
    }
   ],
   "source": [
    "# Allocate the initial investment based on weights\n",
    "portfolio_allocations = []\n",
    "\n",
    "for position in POSITIONS:\n",
    "    name = position['name']\n",
    "    ticker = position['ticker']\n",
    "    exchange = position['exchange']\n",
    "    weight = position['weight']\n",
    "    \n",
    "    # Format ticker based on exchange\n",
    "    if exchange == 'NYSE' or exchange == 'NASDAQ':\n",
    "        formatted_ticker = ticker\n",
    "    elif exchange == 'HKG':\n",
    "        formatted_ticker = f\"{ticker}.HK\"  # Hong Kong stocks use .HK suffix\n",
    "    elif exchange == 'EPA':\n",
    "        formatted_ticker = f\"{ticker}.PA\"  # Paris stocks use .PA suffix\n",
    "    elif exchange == 'LON':\n",
    "        formatted_ticker = f\"{ticker}.L\"  # London stocks use .L suffix\n",
    "    elif exchange == 'TSE':\n",
    "        formatted_ticker = f\"{ticker}-A.TO\"  # Toronto stocks use .TO suffix (CTC-A is a special case)\n",
    "    elif exchange == 'CVE':\n",
    "        formatted_ticker = f\"{ticker}.V\"  # .V according to the Yahoo Finance\n",
    "    elif exchange == 'XETRA':\n",
    "        formatted_ticker = f\"{ticker}.DE\"  # .V according to the Yahoo Finance\n",
    "    else:\n",
    "        formatted_ticker = ticker\n",
    "    \n",
    "    # Calculate allocation amount\n",
    "    # Normalize by the person's total weight to ensure 100% allocation\n",
    "    allocation_usd = INITIAL_VALUE_USD * (weight / person_weights[name])\n",
    "    \n",
    "    portfolio_allocations.append({\n",
    "        'name': name,\n",
    "        'ticker': formatted_ticker,\n",
    "        'weight': weight,\n",
    "        'normalized_weight': weight / person_weights[name],\n",
    "        'allocation_usd': allocation_usd\n",
    "    })\n",
    "\n",
    "# Create a DataFrame for better visualization\n",
    "allocations_df = pd.DataFrame(portfolio_allocations)\n",
    "print(\"Initial portfolio allocations:\")\n",
    "allocations_df"
   ]
  },
  {
   "cell_type": "code",
   "execution_count": 122,
   "metadata": {},
   "outputs": [
    {
     "data": {
      "application/vnd.plotly.v1+json": {
       "config": {
        "plotlyServerURL": "https://plot.ly"
       },
       "data": [
        {
         "branchvalues": "total",
         "customdata": [
          [
           "0.4",
           40000
          ],
          [
           "0.1",
           10000
          ],
          [
           "0.25",
           25000
          ],
          [
           "0.25",
           25000
          ],
          [
           "0.4",
           40000
          ],
          [
           "0.25",
           25000
          ],
          [
           "0.35",
           35000
          ],
          [
           "0.4",
           40000
          ],
          [
           "0.3",
           30000
          ],
          [
           "0.3",
           30000
          ],
          [
           "0.25",
           25000
          ],
          [
           "0.25",
           25000
          ],
          [
           "0.25",
           25000
          ],
          [
           "0.25",
           25000
          ],
          [
           "0.2",
           20000
          ],
          [
           "0.2",
           20000
          ],
          [
           "0.2",
           20000
          ],
          [
           "0.2",
           20000
          ],
          [
           "0.2",
           20000
          ],
          [
           "0.34",
           34000
          ],
          [
           "0.33",
           33000
          ],
          [
           "0.33",
           33000
          ],
          [
           "0.1",
           10000
          ],
          [
           "0.5",
           50000
          ],
          [
           "0.2",
           20000
          ],
          [
           "0.2",
           20000
          ],
          [
           "0.33",
           33000
          ],
          [
           "0.33",
           33000
          ],
          [
           "0.34",
           34000
          ],
          [
           "(?)",
           29500
          ],
          [
           "(?)",
           34500
          ],
          [
           "(?)",
           34000
          ],
          [
           "0.25",
           25000
          ],
          [
           "0.2",
           20000
          ],
          [
           "(?)",
           33340
          ],
          [
           "(?)",
           34000
          ],
          [
           "(?)",
           33340
          ]
         ],
         "domain": {
          "x": [
           0,
           1
          ],
          "y": [
           0,
           1
          ]
         },
         "hovertemplate": "labels=%{label}<br>allocation_usd_sum=%{value}<br>parent=%{parent}<br>id=%{id}<br>normalized_weight=%{customdata[0]}<br>allocation_usd=%{color}<extra></extra>",
         "ids": [
          "Apoorva/TSM",
          "Apoorva/GOOGL",
          "Apoorva/TAK",
          "Apoorva/0700.HK",
          "Alessandro/DUOL",
          "Alessandro/GOOG",
          "Alessandro/ZG",
          "Ivan/VST",
          "Ivan/EXPE",
          "Ivan/DGX",
          "Abhi/ASR",
          "Abhi/0700.HK",
          "Abhi/SMCI",
          "Abhi/BRO",
          "Conor/PFE",
          "Conor/RR.L",
          "Conor/MCD",
          "Conor/SHEL.L",
          "Conor/ALV.DE",
          "Diarbhail/FLUT",
          "Diarbhail/NVDA",
          "Diarbhail/SCAN.V",
          "Radu/MP",
          "Radu/DBK.DE",
          "Radu/RTX",
          "Radu/RHM.DE",
          "Silvia/NVO",
          "Silvia/NVDA",
          "Silvia/OPRA",
          "Apoorva",
          "Alessandro",
          "Ivan",
          "Abhi",
          "Conor",
          "Diarbhail",
          "Radu",
          "Silvia"
         ],
         "labels": [
          "TSM",
          "GOOGL",
          "TAK",
          "0700.HK",
          "DUOL",
          "GOOG",
          "ZG",
          "VST",
          "EXPE",
          "DGX",
          "ASR",
          "0700.HK",
          "SMCI",
          "BRO",
          "PFE",
          "RR.L",
          "MCD",
          "SHEL.L",
          "ALV.DE",
          "FLUT",
          "NVDA",
          "SCAN.V",
          "MP",
          "DBK.DE",
          "RTX",
          "RHM.DE",
          "NVO",
          "NVDA",
          "OPRA",
          "Apoorva",
          "Alessandro",
          "Ivan",
          "Abhi",
          "Conor",
          "Diarbhail",
          "Radu",
          "Silvia"
         ],
         "marker": {
          "coloraxis": "coloraxis",
          "colors": {
           "bdata": "AAAAAACI40AAAAAAAIjDQAAAAAAAathAAAAAAABq2EAAAAAAAIjjQAAAAAAAathAAAAAAAAX4UAAAAAAAIjjQAAAAAAATN1AAAAAAABM3UAAAAAAAGrYQAAAAAAAathAAAAAAABq2EAAAAAAAGrYQAAAAAAAiNNAAAAAAACI00AAAAAAAIjTQAAAAAAAiNNAAAAAAACI00AAAAAAAJrgQAAAAAAAHeBAAAAAAAAd4EAAAAAAAIjDQAAAAAAAauhAAAAAAACI00AAAAAAAIjTQAAAAAAAHeBAAAAAAAAd4EAAAAAAAJrgQAAAAAAAz9xAAAAAAIDY4EAAAAAAAJrgQAAAAAAAathAAAAAAACI00AAAAAAgEfgQAAAAAAAmuBAAAAAAIBH4EA=",
           "dtype": "f8"
          }
         },
         "name": "",
         "parents": [
          "Apoorva",
          "Apoorva",
          "Apoorva",
          "Apoorva",
          "Alessandro",
          "Alessandro",
          "Alessandro",
          "Ivan",
          "Ivan",
          "Ivan",
          "Abhi",
          "Abhi",
          "Abhi",
          "Abhi",
          "Conor",
          "Conor",
          "Conor",
          "Conor",
          "Conor",
          "Diarbhail",
          "Diarbhail",
          "Diarbhail",
          "Radu",
          "Radu",
          "Radu",
          "Radu",
          "Silvia",
          "Silvia",
          "Silvia",
          "",
          "",
          "",
          "",
          "",
          "",
          "",
          ""
         ],
         "textposition": "middle center",
         "texttemplate": "%{label}<br>$%{value:,.0f}<br>%{customdata[0]:.1%}",
         "type": "treemap",
         "values": {
          "bdata": "AAAAAACI40AAAAAAAIjDQAAAAAAAathAAAAAAABq2EAAAAAAAIjjQAAAAAAAathAAAAAAAAX4UAAAAAAAIjjQAAAAAAATN1AAAAAAABM3UAAAAAAAGrYQAAAAAAAathAAAAAAABq2EAAAAAAAGrYQAAAAAAAiNNAAAAAAACI00AAAAAAAIjTQAAAAAAAiNNAAAAAAACI00AAAAAAAJrgQAAAAAAAHeBAAAAAAAAd4EAAAAAAAIjDQAAAAAAAauhAAAAAAACI00AAAAAAAIjTQAAAAAAAHeBAAAAAAAAd4EAAAAAAAJrgQAAAAAAAavhAAAAAAABq+EAAAAAAAGr4QAAAAAAAavhAAAAAAABq+EAAAAAAAGr4QAAAAAAAavhAAAAAAABq+EA=",
          "dtype": "f8"
         }
        }
       ],
       "layout": {
        "coloraxis": {
         "colorbar": {
          "title": {
           "text": "allocation_usd"
          }
         },
         "colorscale": [
          [
           0,
           "#440154"
          ],
          [
           0.1111111111111111,
           "#482878"
          ],
          [
           0.2222222222222222,
           "#3e4989"
          ],
          [
           0.3333333333333333,
           "#31688e"
          ],
          [
           0.4444444444444444,
           "#26828e"
          ],
          [
           0.5555555555555556,
           "#1f9e89"
          ],
          [
           0.6666666666666666,
           "#35b779"
          ],
          [
           0.7777777777777778,
           "#6ece58"
          ],
          [
           0.8888888888888888,
           "#b5de2b"
          ],
          [
           1,
           "#fde725"
          ]
         ]
        },
        "legend": {
         "tracegroupgap": 0
        },
        "template": {
         "data": {
          "pie": [
           {
            "automargin": true,
            "type": "pie"
           }
          ],
          "scatter": [
           {
            "line": {
             "width": 3
            },
            "marker": {
             "size": 9
            },
            "type": "scatter"
           }
          ],
          "scatter3d": [
           {
            "line": {
             "width": 3
            },
            "marker": {
             "size": 9
            },
            "type": "scatter3d"
           }
          ],
          "scattergeo": [
           {
            "line": {
             "width": 3
            },
            "marker": {
             "size": 9
            },
            "type": "scattergeo"
           }
          ],
          "scattergl": [
           {
            "line": {
             "width": 3
            },
            "marker": {
             "size": 9
            },
            "type": "scattergl"
           }
          ],
          "scatterpolar": [
           {
            "line": {
             "width": 3
            },
            "marker": {
             "size": 9
            },
            "type": "scatterpolar"
           }
          ],
          "scatterpolargl": [
           {
            "line": {
             "width": 3
            },
            "marker": {
             "size": 9
            },
            "type": "scatterpolargl"
           }
          ],
          "scatterternary": [
           {
            "line": {
             "width": 3
            },
            "marker": {
             "size": 9
            },
            "type": "scatterternary"
           }
          ],
          "table": [
           {
            "cells": {
             "height": 30
            },
            "header": {
             "height": 36
            },
            "type": "table"
           }
          ]
         },
         "layout": {
          "font": {
           "size": 18
          },
          "xaxis": {
           "title": {
            "standoff": 15
           }
          },
          "yaxis": {
           "title": {
            "standoff": 15
           }
          }
         }
        },
        "title": {
         "text": "Portfolio Allocations by Person and Stock"
        }
       }
      }
     },
     "metadata": {},
     "output_type": "display_data"
    }
   ],
   "source": [
    "# Visualize the allocations by person\n",
    "fig = px.treemap(\n",
    "    allocations_df,\n",
    "    path=['name', 'ticker'],\n",
    "    values='allocation_usd',\n",
    "    title='Portfolio Allocations by Person and Stock',\n",
    "    color='allocation_usd',\n",
    "    color_continuous_scale='Viridis',\n",
    "    hover_data=['normalized_weight']\n",
    ")\n",
    "\n",
    "fig.update_layout(template='presentation')\n",
    "fig.update_traces(texttemplate=\"%{label}<br>$%{value:,.0f}<br>%{customdata[0]:.1%}\", textposition=\"middle center\")\n",
    "fig.show()"
   ]
  },
  {
   "cell_type": "code",
   "execution_count": 123,
   "metadata": {},
   "outputs": [
    {
     "name": "stdout",
     "output_type": "stream",
     "text": [
      "Checking data availability for all tickers:\n",
      "TSM: 6330 data points available\n",
      "GOOGL: 5168 data points available\n",
      "TAK: 3814 data points available\n",
      "0700.HK: 5089 data points available\n",
      "DUOL: 904 data points available\n",
      "GOOG: 5168 data points available\n",
      "ZG: 3426 data points available\n",
      "VST: 2114 data points available\n",
      "EXPE: 4936 data points available\n",
      "DGX: 6330 data points available\n",
      "ASR: 6143 data points available\n",
      "0700.HK: 5089 data points available\n",
      "SMCI: 4512 data points available\n",
      "BRO: 6330 data points available\n",
      "PFE: 6330 data points available\n",
      "RR.L: 5372 data points available\n",
      "MCD: 6330 data points available\n",
      "SHEL.L: 5372 data points available\n",
      "ALV.DE: 5387 data points available\n",
      "FLUT: 5639 data points available\n",
      "NVDA: 6330 data points available\n",
      "SCAN.V: 2935 data points available\n",
      "MP: 1181 data points available\n",
      "DBK.DE: 5387 data points available\n",
      "RTX: 6330 data points available\n",
      "RHM.DE: 5387 data points available\n",
      "NVO: 6330 data points available\n",
      "NVDA: 6330 data points available\n",
      "OPRA: 1659 data points available\n"
     ]
    }
   ],
   "source": [
    "# Let's check if we have data for all tickers\n",
    "print(\"Checking data availability for all tickers:\")\n",
    "for ticker in unique_tickers:\n",
    "    if ticker in prices_df.columns:\n",
    "        data_count = prices_df[ticker].count()\n",
    "        print(f\"{ticker}: {data_count} data points available\")\n",
    "    else:\n",
    "        print(f\"{ticker}: No data available\")\n",
    "\n",
    "# If 0700.HK is missing, try to download it directly\n",
    "if '0700.HK' not in prices_df.columns or prices_df['0700.HK'].isna().all():\n",
    "    print(\"\\nAttempting to download 0700.HK directly...\")\n",
    "    tencent_data = yf.download('0700.HK', start=START_DATE, end=END_DATE)\n",
    "    \n",
    "    if not tencent_data.empty:\n",
    "        # Add to our main dataframe\n",
    "        prices_df['0700.HK'] = tencent_data['Close']\n",
    "        \n",
    "        # Convert HKD to USD\n",
    "        common_dates = prices_df.index.intersection(exchange_rate.index)\n",
    "        prices_df.loc[common_dates, '0700.HK'] = prices_df.loc[common_dates, '0700.HK'] * exchange_rate.loc[common_dates]\n",
    "        print(f\"Successfully downloaded and converted 0700.HK prices from HKD to USD\")\n",
    "        \n",
    "        # Check data again\n",
    "        data_count = prices_df['0700.HK'].count()\n",
    "        print(f\"0700.HK: {data_count} data points available after direct download\")\n",
    "    else:\n",
    "        print(f\"Error: Could not download data for 0700.HK\")"
   ]
  },
  {
   "cell_type": "code",
   "execution_count": 124,
   "metadata": {},
   "outputs": [
    {
     "name": "stdout",
     "output_type": "stream",
     "text": [
      "Using prices from 2025-02-28 00:00:00 for allocation calculations\n",
      "\n",
      "Final portfolio with share allocations:\n"
     ]
    },
    {
     "data": {
      "text/html": [
       "<div>\n",
       "<style scoped>\n",
       "    .dataframe tbody tr th:only-of-type {\n",
       "        vertical-align: middle;\n",
       "    }\n",
       "\n",
       "    .dataframe tbody tr th {\n",
       "        vertical-align: top;\n",
       "    }\n",
       "\n",
       "    .dataframe thead th {\n",
       "        text-align: right;\n",
       "    }\n",
       "</style>\n",
       "<table border=\"1\" class=\"dataframe\">\n",
       "  <thead>\n",
       "    <tr style=\"text-align: right;\">\n",
       "      <th></th>\n",
       "      <th>name</th>\n",
       "      <th>ticker</th>\n",
       "      <th>shares</th>\n",
       "      <th>price_at_start</th>\n",
       "      <th>allocation_usd</th>\n",
       "    </tr>\n",
       "  </thead>\n",
       "  <tbody>\n",
       "    <tr>\n",
       "      <th>0</th>\n",
       "      <td>Apoorva</td>\n",
       "      <td>TSM</td>\n",
       "      <td>221.569824</td>\n",
       "      <td>180.529999</td>\n",
       "      <td>40000.0</td>\n",
       "    </tr>\n",
       "    <tr>\n",
       "      <th>1</th>\n",
       "      <td>Apoorva</td>\n",
       "      <td>GOOGL</td>\n",
       "      <td>58.726803</td>\n",
       "      <td>170.279999</td>\n",
       "      <td>10000.0</td>\n",
       "    </tr>\n",
       "    <tr>\n",
       "      <th>2</th>\n",
       "      <td>Apoorva</td>\n",
       "      <td>TAK</td>\n",
       "      <td>1734.906333</td>\n",
       "      <td>14.410000</td>\n",
       "      <td>25000.0</td>\n",
       "    </tr>\n",
       "    <tr>\n",
       "      <th>3</th>\n",
       "      <td>Apoorva</td>\n",
       "      <td>0700.HK</td>\n",
       "      <td>3159.150467</td>\n",
       "      <td>7.913520</td>\n",
       "      <td>25000.0</td>\n",
       "    </tr>\n",
       "    <tr>\n",
       "      <th>4</th>\n",
       "      <td>Alessandro</td>\n",
       "      <td>DUOL</td>\n",
       "      <td>128.176368</td>\n",
       "      <td>312.070007</td>\n",
       "      <td>40000.0</td>\n",
       "    </tr>\n",
       "    <tr>\n",
       "      <th>5</th>\n",
       "      <td>Alessandro</td>\n",
       "      <td>GOOG</td>\n",
       "      <td>145.163162</td>\n",
       "      <td>172.220001</td>\n",
       "      <td>25000.0</td>\n",
       "    </tr>\n",
       "    <tr>\n",
       "      <th>6</th>\n",
       "      <td>Alessandro</td>\n",
       "      <td>ZG</td>\n",
       "      <td>470.493350</td>\n",
       "      <td>74.389999</td>\n",
       "      <td>35000.0</td>\n",
       "    </tr>\n",
       "    <tr>\n",
       "      <th>7</th>\n",
       "      <td>Ivan</td>\n",
       "      <td>VST</td>\n",
       "      <td>299.266788</td>\n",
       "      <td>133.660004</td>\n",
       "      <td>40000.0</td>\n",
       "    </tr>\n",
       "    <tr>\n",
       "      <th>8</th>\n",
       "      <td>Ivan</td>\n",
       "      <td>EXPE</td>\n",
       "      <td>151.545762</td>\n",
       "      <td>197.960007</td>\n",
       "      <td>30000.0</td>\n",
       "    </tr>\n",
       "    <tr>\n",
       "      <th>9</th>\n",
       "      <td>Ivan</td>\n",
       "      <td>DGX</td>\n",
       "      <td>173.510706</td>\n",
       "      <td>172.899994</td>\n",
       "      <td>30000.0</td>\n",
       "    </tr>\n",
       "    <tr>\n",
       "      <th>10</th>\n",
       "      <td>Abhi</td>\n",
       "      <td>ASR</td>\n",
       "      <td>92.312234</td>\n",
       "      <td>270.820007</td>\n",
       "      <td>25000.0</td>\n",
       "    </tr>\n",
       "    <tr>\n",
       "      <th>11</th>\n",
       "      <td>Abhi</td>\n",
       "      <td>0700.HK</td>\n",
       "      <td>3159.150467</td>\n",
       "      <td>7.913520</td>\n",
       "      <td>25000.0</td>\n",
       "    </tr>\n",
       "    <tr>\n",
       "      <th>12</th>\n",
       "      <td>Abhi</td>\n",
       "      <td>SMCI</td>\n",
       "      <td>602.990848</td>\n",
       "      <td>41.459999</td>\n",
       "      <td>25000.0</td>\n",
       "    </tr>\n",
       "    <tr>\n",
       "      <th>13</th>\n",
       "      <td>Abhi</td>\n",
       "      <td>BRO</td>\n",
       "      <td>210.899273</td>\n",
       "      <td>118.540001</td>\n",
       "      <td>25000.0</td>\n",
       "    </tr>\n",
       "    <tr>\n",
       "      <th>14</th>\n",
       "      <td>Conor</td>\n",
       "      <td>PFE</td>\n",
       "      <td>756.715844</td>\n",
       "      <td>26.430000</td>\n",
       "      <td>20000.0</td>\n",
       "    </tr>\n",
       "    <tr>\n",
       "      <th>15</th>\n",
       "      <td>Conor</td>\n",
       "      <td>RR.L</td>\n",
       "      <td>21.336560</td>\n",
       "      <td>937.358219</td>\n",
       "      <td>20000.0</td>\n",
       "    </tr>\n",
       "    <tr>\n",
       "      <th>16</th>\n",
       "      <td>Conor</td>\n",
       "      <td>MCD</td>\n",
       "      <td>65.240084</td>\n",
       "      <td>306.559998</td>\n",
       "      <td>20000.0</td>\n",
       "    </tr>\n",
       "    <tr>\n",
       "      <th>17</th>\n",
       "      <td>Conor</td>\n",
       "      <td>SHEL.L</td>\n",
       "      <td>6.022155</td>\n",
       "      <td>3321.070250</td>\n",
       "      <td>20000.0</td>\n",
       "    </tr>\n",
       "    <tr>\n",
       "      <th>18</th>\n",
       "      <td>Conor</td>\n",
       "      <td>ALV.DE</td>\n",
       "      <td>58.249475</td>\n",
       "      <td>343.350735</td>\n",
       "      <td>20000.0</td>\n",
       "    </tr>\n",
       "    <tr>\n",
       "      <th>19</th>\n",
       "      <td>Diarbhail</td>\n",
       "      <td>FLUT</td>\n",
       "      <td>121.173244</td>\n",
       "      <td>280.589996</td>\n",
       "      <td>34000.0</td>\n",
       "    </tr>\n",
       "    <tr>\n",
       "      <th>20</th>\n",
       "      <td>Diarbhail</td>\n",
       "      <td>NVDA</td>\n",
       "      <td>264.169072</td>\n",
       "      <td>124.919998</td>\n",
       "      <td>33000.0</td>\n",
       "    </tr>\n",
       "    <tr>\n",
       "      <th>21</th>\n",
       "      <td>Diarbhail</td>\n",
       "      <td>SCAN.V</td>\n",
       "      <td>29063.140958</td>\n",
       "      <td>1.135459</td>\n",
       "      <td>33000.0</td>\n",
       "    </tr>\n",
       "    <tr>\n",
       "      <th>22</th>\n",
       "      <td>Radu</td>\n",
       "      <td>MP</td>\n",
       "      <td>416.493124</td>\n",
       "      <td>24.010000</td>\n",
       "      <td>10000.0</td>\n",
       "    </tr>\n",
       "    <tr>\n",
       "      <th>23</th>\n",
       "      <td>Radu</td>\n",
       "      <td>DBK.DE</td>\n",
       "      <td>2320.844450</td>\n",
       "      <td>21.543882</td>\n",
       "      <td>50000.0</td>\n",
       "    </tr>\n",
       "    <tr>\n",
       "      <th>24</th>\n",
       "      <td>Radu</td>\n",
       "      <td>RTX</td>\n",
       "      <td>150.387241</td>\n",
       "      <td>132.990005</td>\n",
       "      <td>20000.0</td>\n",
       "    </tr>\n",
       "    <tr>\n",
       "      <th>25</th>\n",
       "      <td>Radu</td>\n",
       "      <td>RHM.DE</td>\n",
       "      <td>19.115550</td>\n",
       "      <td>1046.268627</td>\n",
       "      <td>20000.0</td>\n",
       "    </tr>\n",
       "    <tr>\n",
       "      <th>26</th>\n",
       "      <td>Silvia</td>\n",
       "      <td>NVO</td>\n",
       "      <td>364.037501</td>\n",
       "      <td>90.650002</td>\n",
       "      <td>33000.0</td>\n",
       "    </tr>\n",
       "    <tr>\n",
       "      <th>27</th>\n",
       "      <td>Silvia</td>\n",
       "      <td>NVDA</td>\n",
       "      <td>264.169072</td>\n",
       "      <td>124.919998</td>\n",
       "      <td>33000.0</td>\n",
       "    </tr>\n",
       "    <tr>\n",
       "      <th>28</th>\n",
       "      <td>Silvia</td>\n",
       "      <td>OPRA</td>\n",
       "      <td>1822.079329</td>\n",
       "      <td>18.660000</td>\n",
       "      <td>34000.0</td>\n",
       "    </tr>\n",
       "  </tbody>\n",
       "</table>\n",
       "</div>"
      ],
      "text/plain": [
       "          name   ticker        shares  price_at_start  allocation_usd\n",
       "0      Apoorva      TSM    221.569824      180.529999         40000.0\n",
       "1      Apoorva    GOOGL     58.726803      170.279999         10000.0\n",
       "2      Apoorva      TAK   1734.906333       14.410000         25000.0\n",
       "3      Apoorva  0700.HK   3159.150467        7.913520         25000.0\n",
       "4   Alessandro     DUOL    128.176368      312.070007         40000.0\n",
       "5   Alessandro     GOOG    145.163162      172.220001         25000.0\n",
       "6   Alessandro       ZG    470.493350       74.389999         35000.0\n",
       "7         Ivan      VST    299.266788      133.660004         40000.0\n",
       "8         Ivan     EXPE    151.545762      197.960007         30000.0\n",
       "9         Ivan      DGX    173.510706      172.899994         30000.0\n",
       "10        Abhi      ASR     92.312234      270.820007         25000.0\n",
       "11        Abhi  0700.HK   3159.150467        7.913520         25000.0\n",
       "12        Abhi     SMCI    602.990848       41.459999         25000.0\n",
       "13        Abhi      BRO    210.899273      118.540001         25000.0\n",
       "14       Conor      PFE    756.715844       26.430000         20000.0\n",
       "15       Conor     RR.L     21.336560      937.358219         20000.0\n",
       "16       Conor      MCD     65.240084      306.559998         20000.0\n",
       "17       Conor   SHEL.L      6.022155     3321.070250         20000.0\n",
       "18       Conor   ALV.DE     58.249475      343.350735         20000.0\n",
       "19   Diarbhail     FLUT    121.173244      280.589996         34000.0\n",
       "20   Diarbhail     NVDA    264.169072      124.919998         33000.0\n",
       "21   Diarbhail   SCAN.V  29063.140958        1.135459         33000.0\n",
       "22        Radu       MP    416.493124       24.010000         10000.0\n",
       "23        Radu   DBK.DE   2320.844450       21.543882         50000.0\n",
       "24        Radu      RTX    150.387241      132.990005         20000.0\n",
       "25        Radu   RHM.DE     19.115550     1046.268627         20000.0\n",
       "26      Silvia      NVO    364.037501       90.650002         33000.0\n",
       "27      Silvia     NVDA    264.169072      124.919998         33000.0\n",
       "28      Silvia     OPRA   1822.079329       18.660000         34000.0"
      ]
     },
     "execution_count": 124,
     "metadata": {},
     "output_type": "execute_result"
    }
   ],
   "source": [
    "# Calculate the number of shares to buy based on the price at FIXED_DATE\n",
    "# First, find the closest date in our data to FIXED_DATE\n",
    "closest_date = prices_df.index[prices_df.index <= FIXED_DATE][-1]\n",
    "print(f\"Using prices from {closest_date} for allocation calculations\")\n",
    "\n",
    "# Get prices on that date\n",
    "prices_on_date = prices_df.loc[closest_date]\n",
    "\n",
    "# Calculate shares and actual allocation\n",
    "portfolio = []\n",
    "\n",
    "for alloc in portfolio_allocations:\n",
    "    ticker = alloc['ticker']\n",
    "    allocation_usd = alloc['allocation_usd']\n",
    "    \n",
    "    # Get the price on the fixed date\n",
    "    if ticker in prices_on_date and not pd.isna(prices_on_date[ticker]):\n",
    "        price = prices_on_date[ticker]\n",
    "        shares = allocation_usd / price\n",
    "        actual_allocation = shares * price\n",
    "        \n",
    "        portfolio.append({\n",
    "            'name': alloc['name'],\n",
    "            'ticker': ticker,\n",
    "            'shares': shares,\n",
    "            'price_at_start': price,\n",
    "            'allocation_usd': actual_allocation\n",
    "        })\n",
    "    else:\n",
    "        print(f\"Warning: No price data available for {ticker} on {closest_date}\")\n",
    "\n",
    "# Create a DataFrame for the portfolio\n",
    "portfolio_df = pd.DataFrame(portfolio)\n",
    "print(\"\\nFinal portfolio with share allocations:\")\n",
    "portfolio_df"
   ]
  },
  {
   "cell_type": "code",
   "execution_count": 125,
   "metadata": {},
   "outputs": [
    {
     "name": "stdout",
     "output_type": "stream",
     "text": [
      "Daily portfolio values since start date (USD):\n"
     ]
    },
    {
     "data": {
      "text/html": [
       "<div>\n",
       "<style scoped>\n",
       "    .dataframe tbody tr th:only-of-type {\n",
       "        vertical-align: middle;\n",
       "    }\n",
       "\n",
       "    .dataframe tbody tr th {\n",
       "        vertical-align: top;\n",
       "    }\n",
       "\n",
       "    .dataframe thead th {\n",
       "        text-align: right;\n",
       "    }\n",
       "</style>\n",
       "<table border=\"1\" class=\"dataframe\">\n",
       "  <thead>\n",
       "    <tr style=\"text-align: right;\">\n",
       "      <th></th>\n",
       "      <th>Diarbhail</th>\n",
       "      <th>Apoorva</th>\n",
       "      <th>Radu</th>\n",
       "      <th>Alessandro</th>\n",
       "      <th>Abhi</th>\n",
       "      <th>Conor</th>\n",
       "      <th>Ivan</th>\n",
       "      <th>Silvia</th>\n",
       "    </tr>\n",
       "    <tr>\n",
       "      <th>Date</th>\n",
       "      <th></th>\n",
       "      <th></th>\n",
       "      <th></th>\n",
       "      <th></th>\n",
       "      <th></th>\n",
       "      <th></th>\n",
       "      <th></th>\n",
       "      <th></th>\n",
       "    </tr>\n",
       "  </thead>\n",
       "  <tbody>\n",
       "    <tr>\n",
       "      <th>2025-02-28</th>\n",
       "      <td>100000.000000</td>\n",
       "      <td>100000.000000</td>\n",
       "      <td>100000.000000</td>\n",
       "      <td>100000.000000</td>\n",
       "      <td>100000.000000</td>\n",
       "      <td>100000.000000</td>\n",
       "      <td>100000.000000</td>\n",
       "      <td>100000.000000</td>\n",
       "    </tr>\n",
       "    <tr>\n",
       "      <th>2025-03-03</th>\n",
       "      <td>94791.497118</td>\n",
       "      <td>99113.223997</td>\n",
       "      <td>102926.952744</td>\n",
       "      <td>96219.071280</td>\n",
       "      <td>96726.512181</td>\n",
       "      <td>101412.143512</td>\n",
       "      <td>97120.941252</td>\n",
       "      <td>94715.531834</td>\n",
       "    </tr>\n",
       "    <tr>\n",
       "      <th>2025-03-04</th>\n",
       "      <td>90369.836466</td>\n",
       "      <td>101294.164652</td>\n",
       "      <td>98299.076802</td>\n",
       "      <td>97006.902673</td>\n",
       "      <td>98762.632808</td>\n",
       "      <td>100811.901380</td>\n",
       "      <td>96951.719281</td>\n",
       "      <td>94125.549685</td>\n",
       "    </tr>\n",
       "  </tbody>\n",
       "</table>\n",
       "</div>"
      ],
      "text/plain": [
       "                Diarbhail        Apoorva           Radu     Alessandro  \\\n",
       "Date                                                                     \n",
       "2025-02-28  100000.000000  100000.000000  100000.000000  100000.000000   \n",
       "2025-03-03   94791.497118   99113.223997  102926.952744   96219.071280   \n",
       "2025-03-04   90369.836466  101294.164652   98299.076802   97006.902673   \n",
       "\n",
       "                     Abhi          Conor           Ivan         Silvia  \n",
       "Date                                                                    \n",
       "2025-02-28  100000.000000  100000.000000  100000.000000  100000.000000  \n",
       "2025-03-03   96726.512181  101412.143512   97120.941252   94715.531834  \n",
       "2025-03-04   98762.632808  100811.901380   96951.719281   94125.549685  "
      ]
     },
     "execution_count": 125,
     "metadata": {},
     "output_type": "execute_result"
    }
   ],
   "source": [
    "# Calculate daily portfolio value from FIXED_DATE onwards\n",
    "# Filter prices to dates >= FIXED_DATE\n",
    "prices_since_start = prices_df[prices_df.index >= closest_date]\n",
    "\n",
    "# Initialize a DataFrame to store portfolio values\n",
    "portfolio_values = pd.DataFrame(index=prices_since_start.index)\n",
    "\n",
    "# Calculate daily value for each person\n",
    "for name in set(p['name'] for p in portfolio):\n",
    "    person_portfolio = [p for p in portfolio if p['name'] == name]\n",
    "    daily_values = pd.Series(0, index=prices_since_start.index)\n",
    "    \n",
    "    for position in person_portfolio:\n",
    "        ticker = position['ticker']\n",
    "        shares = position['shares']\n",
    "        \n",
    "        if ticker in prices_since_start.columns:\n",
    "            # Calculate daily value of this position\n",
    "            position_value = prices_since_start[ticker] * shares\n",
    "            daily_values += position_value\n",
    "    \n",
    "    portfolio_values[name] = daily_values\n",
    "\n",
    "# Display the first few rows\n",
    "print(\"Daily portfolio values since start date (USD):\")\n",
    "portfolio_values.head()"
   ]
  },
  {
   "cell_type": "code",
   "execution_count": 126,
   "metadata": {},
   "outputs": [
    {
     "data": {
      "application/vnd.plotly.v1+json": {
       "config": {
        "plotlyServerURL": "https://plot.ly"
       },
       "data": [
        {
         "mode": "lines",
         "name": "Diarbhail's Portfolio",
         "type": "scatter",
         "x": [
          "2025-02-28T00:00:00.000000000",
          "2025-03-03T00:00:00.000000000",
          "2025-03-04T00:00:00.000000000"
         ],
         "y": {
          "bdata": "AAAAAABq+EBgRzL0dyT3QP81KmIdEPZA",
          "dtype": "f8"
         }
        },
        {
         "mode": "lines",
         "name": "Apoorva's Portfolio",
         "type": "scatter",
         "x": [
          "2025-02-28T00:00:00.000000000",
          "2025-03-03T00:00:00.000000000",
          "2025-03-04T00:00:00.000000000"
         ],
         "y": {
          "bdata": "AAAAAABq+EAQ1n2VkzL4QGCHaqLiuvhA",
          "dtype": "f8"
         }
        },
        {
         "mode": "lines",
         "name": "Radu's Portfolio",
         "type": "scatter",
         "x": [
          "2025-02-28T00:00:00.000000000",
          "2025-03-03T00:00:00.000000000",
          "2025-03-04T00:00:00.000000000"
         ],
         "y": {
          "bdata": "AAAAAABq+EAZKnA+7yD5QL0KlTqx//dA",
          "dtype": "f8"
         }
        },
        {
         "mode": "lines",
         "name": "Alessandro's Portfolio",
         "type": "scatter",
         "x": [
          "2025-02-28T00:00:00.000000000",
          "2025-03-03T00:00:00.000000000",
          "2025-03-04T00:00:00.000000000"
         ],
         "y": {
          "bdata": "AAAAAABq+ECKm/YjsX33QKBmWXHurvdA",
          "dtype": "f8"
         }
        },
        {
         "mode": "lines",
         "name": "Abhi's Portfolio",
         "type": "scatter",
         "x": [
          "2025-02-28T00:00:00.000000000",
          "2025-03-03T00:00:00.000000000",
          "2025-03-04T00:00:00.000000000"
         ],
         "y": {
          "bdata": "AAAAAABq+EAwweQxaJ33QDzr+h+qHPhA",
          "dtype": "f8"
         }
        },
        {
         "mode": "lines",
         "name": "Conor's Portfolio",
         "type": "scatter",
         "x": [
          "2025-02-28T00:00:00.000000000",
          "2025-03-03T00:00:00.000000000",
          "2025-03-04T00:00:00.000000000"
         ],
         "y": {
          "bdata": "AAAAAABq+EAQjdNLQsL4QEqHDWy+nPhA",
          "dtype": "f8"
         }
        },
        {
         "mode": "lines",
         "name": "Ivan's Portfolio",
         "type": "scatter",
         "x": [
          "2025-02-28T00:00:00.000000000",
          "2025-03-03T00:00:00.000000000",
          "2025-03-04T00:00:00.000000000"
         ],
         "y": {
          "bdata": "AAAAAABq+ED/I14PD7b3QOBxLIJ7q/dA",
          "dtype": "f8"
         }
        },
        {
         "mode": "lines",
         "name": "Silvia's Portfolio",
         "type": "scatter",
         "x": [
          "2025-02-28T00:00:00.000000000",
          "2025-03-03T00:00:00.000000000",
          "2025-03-04T00:00:00.000000000"
         ],
         "y": {
          "bdata": "AAAAAABq+ECQ2mOCuB/3QNrhgsvY+vZA",
          "dtype": "f8"
         }
        }
       ],
       "layout": {
        "hovermode": "x unified",
        "shapes": [
         {
          "line": {
           "color": "red",
           "dash": "dash",
           "width": 2
          },
          "type": "line",
          "x0": "2025-02-28T00:00:00",
          "x1": "2025-03-04T00:00:00",
          "y0": 100000,
          "y1": 100000
         }
        ],
        "template": {
         "data": {
          "pie": [
           {
            "automargin": true,
            "type": "pie"
           }
          ],
          "scatter": [
           {
            "line": {
             "width": 3
            },
            "marker": {
             "size": 9
            },
            "type": "scatter"
           }
          ],
          "scatter3d": [
           {
            "line": {
             "width": 3
            },
            "marker": {
             "size": 9
            },
            "type": "scatter3d"
           }
          ],
          "scattergeo": [
           {
            "line": {
             "width": 3
            },
            "marker": {
             "size": 9
            },
            "type": "scattergeo"
           }
          ],
          "scattergl": [
           {
            "line": {
             "width": 3
            },
            "marker": {
             "size": 9
            },
            "type": "scattergl"
           }
          ],
          "scatterpolar": [
           {
            "line": {
             "width": 3
            },
            "marker": {
             "size": 9
            },
            "type": "scatterpolar"
           }
          ],
          "scatterpolargl": [
           {
            "line": {
             "width": 3
            },
            "marker": {
             "size": 9
            },
            "type": "scatterpolargl"
           }
          ],
          "scatterternary": [
           {
            "line": {
             "width": 3
            },
            "marker": {
             "size": 9
            },
            "type": "scatterternary"
           }
          ],
          "table": [
           {
            "cells": {
             "height": 30
            },
            "header": {
             "height": 36
            },
            "type": "table"
           }
          ]
         },
         "layout": {
          "font": {
           "size": 18
          },
          "xaxis": {
           "title": {
            "standoff": 15
           }
          },
          "yaxis": {
           "title": {
            "standoff": 15
           }
          }
         }
        },
        "title": {
         "text": "Portfolio Performance Since Start Date"
        },
        "xaxis": {
         "title": {
          "text": "Date"
         }
        },
        "yaxis": {
         "title": {
          "text": "Portfolio Value (USD)"
         }
        }
       }
      }
     },
     "metadata": {},
     "output_type": "display_data"
    }
   ],
   "source": [
    "# Plot the portfolio values over time using Plotly\n",
    "fig = go.Figure()\n",
    "\n",
    "# Plot individual portfolios\n",
    "for name in portfolio_values.columns:\n",
    "    fig.add_trace(go.Scatter(\n",
    "        x=portfolio_values.index,\n",
    "        y=portfolio_values[name],\n",
    "        name=f\"{name}'s Portfolio\",\n",
    "        mode='lines'\n",
    "    ))\n",
    "\n",
    "# Add a horizontal line for initial investment\n",
    "fig.add_shape(\n",
    "    type=\"line\",\n",
    "    x0=portfolio_values.index[0],\n",
    "    y0=INITIAL_VALUE_USD,\n",
    "    x1=portfolio_values.index[-1],\n",
    "    y1=INITIAL_VALUE_USD,\n",
    "    line=dict(color=\"red\", width=2, dash=\"dash\")\n",
    ")\n",
    "\n",
    "# Update layout\n",
    "fig.update_layout(\n",
    "    title='Portfolio Performance Since Start Date',\n",
    "    xaxis_title='Date',\n",
    "    yaxis_title='Portfolio Value (USD)',\n",
    "    template='presentation',\n",
    "    hovermode='x unified'\n",
    ")\n",
    "\n",
    "# Show the figure\n",
    "fig.show()"
   ]
  },
  {
   "cell_type": "code",
   "execution_count": 127,
   "metadata": {},
   "outputs": [
    {
     "data": {
      "application/vnd.plotly.v1+json": {
       "config": {
        "plotlyServerURL": "https://plot.ly"
       },
       "data": [
        {
         "mode": "lines",
         "name": "Diarbhail's Portfolio",
         "type": "scatter",
         "x": [
          "2025-02-28T00:00:00.000000000",
          "2025-03-03T00:00:00.000000000",
          "2025-03-04T00:00:00.000000000"
         ],
         "y": {
          "bdata": "AAAAAAAAAABxvojHgdUUwBQCc8ukQiPA",
          "dtype": "f8"
         }
        },
        {
         "mode": "lines",
         "name": "Apoorva's Portfolio",
         "type": "scatter",
         "x": [
          "2025-02-28T00:00:00.000000000",
          "2025-03-03T00:00:00.000000000",
          "2025-03-04T00:00:00.000000000"
         ],
         "y": {
          "bdata": "AAAAAAAAAABU630ReGDsv6xwmf7ltPQ/",
          "dtype": "f8"
         }
        },
        {
         "mode": "lines",
         "name": "Radu's Portfolio",
         "type": "scatter",
         "x": [
          "2025-02-28T00:00:00.000000000",
          "2025-03-03T00:00:00.000000000",
          "2025-03-04T00:00:00.000000000"
         ],
         "y": {
          "bdata": "AAAAAAAAAAC2ljgzZmoHQLh/Mj77Nvu/",
          "dtype": "f8"
         }
        },
        {
         "mode": "lines",
         "name": "Alessandro's Portfolio",
         "type": "scatter",
         "x": [
          "2025-02-28T00:00:00.000000000",
          "2025-03-03T00:00:00.000000000",
          "2025-03-04T00:00:00.000000000"
         ],
         "y": {
          "bdata": "AAAAAAAAAACepIOOVz8OwDeH5ALd8QfA",
          "dtype": "f8"
         }
        },
        {
         "mode": "lines",
         "name": "Abhi's Portfolio",
         "type": "scatter",
         "x": [
          "2025-02-28T00:00:00.000000000",
          "2025-03-03T00:00:00.000000000",
          "2025-03-04T00:00:00.000000000"
         ],
         "y": {
          "bdata": "AAAAAAAAAAAdBrJhGjAKwLxKhIpBzPO/",
          "dtype": "f8"
         }
        },
        {
         "mode": "lines",
         "name": "Conor's Portfolio",
         "type": "scatter",
         "x": [
          "2025-02-28T00:00:00.000000000",
          "2025-03-03T00:00:00.000000000",
          "2025-03-04T00:00:00.000000000"
         ],
         "y": {
          "bdata": "AAAAAAAAAAB4O6nLI5j2P+DwYZoY++k/",
          "dtype": "f8"
         }
        },
        {
         "mode": "lines",
         "name": "Ivan's Portfolio",
         "type": "scatter",
         "x": [
          "2025-02-28T00:00:00.000000000",
          "2025-03-03T00:00:00.000000000",
          "2025-03-04T00:00:00.000000000"
         ],
         "y": {
          "bdata": "AAAAAAAAAABOM/PzTwgHwPt+dADhYgjA",
          "dtype": "f8"
         }
        },
        {
         "mode": "lines",
         "name": "Silvia's Portfolio",
         "type": "scatter",
         "x": [
          "2025-02-28T00:00:00.000000000",
          "2025-03-03T00:00:00.000000000",
          "2025-03-04T00:00:00.000000000"
         ],
         "y": {
          "bdata": "AAAAAAAAAAD0Un+fSyMVwFJSPedvfxfA",
          "dtype": "f8"
         }
        }
       ],
       "layout": {
        "hovermode": "x unified",
        "shapes": [
         {
          "line": {
           "color": "red",
           "dash": "dash",
           "width": 2
          },
          "type": "line",
          "x0": "2025-02-28T00:00:00",
          "x1": "2025-03-04T00:00:00",
          "y0": 0,
          "y1": 0
         }
        ],
        "template": {
         "data": {
          "pie": [
           {
            "automargin": true,
            "type": "pie"
           }
          ],
          "scatter": [
           {
            "line": {
             "width": 3
            },
            "marker": {
             "size": 9
            },
            "type": "scatter"
           }
          ],
          "scatter3d": [
           {
            "line": {
             "width": 3
            },
            "marker": {
             "size": 9
            },
            "type": "scatter3d"
           }
          ],
          "scattergeo": [
           {
            "line": {
             "width": 3
            },
            "marker": {
             "size": 9
            },
            "type": "scattergeo"
           }
          ],
          "scattergl": [
           {
            "line": {
             "width": 3
            },
            "marker": {
             "size": 9
            },
            "type": "scattergl"
           }
          ],
          "scatterpolar": [
           {
            "line": {
             "width": 3
            },
            "marker": {
             "size": 9
            },
            "type": "scatterpolar"
           }
          ],
          "scatterpolargl": [
           {
            "line": {
             "width": 3
            },
            "marker": {
             "size": 9
            },
            "type": "scatterpolargl"
           }
          ],
          "scatterternary": [
           {
            "line": {
             "width": 3
            },
            "marker": {
             "size": 9
            },
            "type": "scatterternary"
           }
          ],
          "table": [
           {
            "cells": {
             "height": 30
            },
            "header": {
             "height": 36
            },
            "type": "table"
           }
          ]
         },
         "layout": {
          "font": {
           "size": 18
          },
          "xaxis": {
           "title": {
            "standoff": 15
           }
          },
          "yaxis": {
           "title": {
            "standoff": 15
           }
          }
         }
        },
        "title": {
         "text": "Portfolio Performance (% Change) Since Start Date"
        },
        "xaxis": {
         "title": {
          "text": "Date"
         }
        },
        "yaxis": {
         "title": {
          "text": "Percentage Change (%)"
         }
        }
       }
      }
     },
     "metadata": {},
     "output_type": "display_data"
    }
   ],
   "source": [
    "# Calculate percentage change from start date\n",
    "pct_change = portfolio_values.copy()\n",
    "for col in pct_change.columns:\n",
    "    pct_change[col] = (pct_change[col] / pct_change[col].iloc[0] - 1) * 100\n",
    "\n",
    "# Plot the percentage change\n",
    "fig = go.Figure()\n",
    "\n",
    "# Plot individual portfolios\n",
    "for name in pct_change.columns:\n",
    "    fig.add_trace(go.Scatter(\n",
    "        x=pct_change.index,\n",
    "        y=pct_change[name],\n",
    "        name=f\"{name}'s Portfolio\",\n",
    "        mode='lines'\n",
    "    ))\n",
    "\n",
    "# Add a horizontal line at 0%\n",
    "fig.add_shape(\n",
    "    type=\"line\",\n",
    "    x0=pct_change.index[0],\n",
    "    y0=0,\n",
    "    x1=pct_change.index[-1],\n",
    "    y1=0,\n",
    "    line=dict(color=\"red\", width=2, dash=\"dash\")\n",
    ")\n",
    "\n",
    "# Update layout\n",
    "fig.update_layout(\n",
    "    title='Portfolio Performance (% Change) Since Start Date',\n",
    "    xaxis_title='Date',\n",
    "    yaxis_title='Percentage Change (%)',\n",
    "    template='presentation',\n",
    "    hovermode='x unified'\n",
    ")\n",
    "\n",
    "# Show the figure\n",
    "fig.show()"
   ]
  },
  {
   "cell_type": "code",
   "execution_count": 128,
   "metadata": {},
   "outputs": [
    {
     "name": "stdout",
     "output_type": "stream",
     "text": [
      "Performance Summary:\n"
     ]
    },
    {
     "data": {
      "text/html": [
       "<div>\n",
       "<style scoped>\n",
       "    .dataframe tbody tr th:only-of-type {\n",
       "        vertical-align: middle;\n",
       "    }\n",
       "\n",
       "    .dataframe tbody tr th {\n",
       "        vertical-align: top;\n",
       "    }\n",
       "\n",
       "    .dataframe thead th {\n",
       "        text-align: right;\n",
       "    }\n",
       "</style>\n",
       "<table border=\"1\" class=\"dataframe\">\n",
       "  <thead>\n",
       "    <tr style=\"text-align: right;\">\n",
       "      <th></th>\n",
       "      <th>Initial Value</th>\n",
       "      <th>Final Value</th>\n",
       "      <th>Total Return (%)</th>\n",
       "      <th>Annualized Return (%)</th>\n",
       "    </tr>\n",
       "  </thead>\n",
       "  <tbody>\n",
       "    <tr>\n",
       "      <th>Diarbhail</th>\n",
       "      <td>100000.0</td>\n",
       "      <td>90369.836466</td>\n",
       "      <td>-9.630164</td>\n",
       "      <td>-99.990353</td>\n",
       "    </tr>\n",
       "    <tr>\n",
       "      <th>Apoorva</th>\n",
       "      <td>100000.0</td>\n",
       "      <td>101294.164652</td>\n",
       "      <td>1.294165</td>\n",
       "      <td>223.540025</td>\n",
       "    </tr>\n",
       "    <tr>\n",
       "      <th>Radu</th>\n",
       "      <td>100000.0</td>\n",
       "      <td>98299.076802</td>\n",
       "      <td>-1.700923</td>\n",
       "      <td>-79.122877</td>\n",
       "    </tr>\n",
       "    <tr>\n",
       "      <th>Alessandro</th>\n",
       "      <td>100000.0</td>\n",
       "      <td>97006.902673</td>\n",
       "      <td>-2.993097</td>\n",
       "      <td>-93.763859</td>\n",
       "    </tr>\n",
       "    <tr>\n",
       "      <th>Abhi</th>\n",
       "      <td>100000.0</td>\n",
       "      <td>98762.632808</td>\n",
       "      <td>-1.237367</td>\n",
       "      <td>-67.919424</td>\n",
       "    </tr>\n",
       "    <tr>\n",
       "      <th>Conor</th>\n",
       "      <td>100000.0</td>\n",
       "      <td>100811.901380</td>\n",
       "      <td>0.811901</td>\n",
       "      <td>109.253040</td>\n",
       "    </tr>\n",
       "    <tr>\n",
       "      <th>Ivan</th>\n",
       "      <td>100000.0</td>\n",
       "      <td>96951.719281</td>\n",
       "      <td>-3.048281</td>\n",
       "      <td>-94.079608</td>\n",
       "    </tr>\n",
       "    <tr>\n",
       "      <th>Silvia</th>\n",
       "      <td>100000.0</td>\n",
       "      <td>94125.549685</td>\n",
       "      <td>-5.874450</td>\n",
       "      <td>-99.602654</td>\n",
       "    </tr>\n",
       "  </tbody>\n",
       "</table>\n",
       "</div>"
      ],
      "text/plain": [
       "            Initial Value    Final Value  Total Return (%)  \\\n",
       "Diarbhail        100000.0   90369.836466         -9.630164   \n",
       "Apoorva          100000.0  101294.164652          1.294165   \n",
       "Radu             100000.0   98299.076802         -1.700923   \n",
       "Alessandro       100000.0   97006.902673         -2.993097   \n",
       "Abhi             100000.0   98762.632808         -1.237367   \n",
       "Conor            100000.0  100811.901380          0.811901   \n",
       "Ivan             100000.0   96951.719281         -3.048281   \n",
       "Silvia           100000.0   94125.549685         -5.874450   \n",
       "\n",
       "            Annualized Return (%)  \n",
       "Diarbhail              -99.990353  \n",
       "Apoorva                223.540025  \n",
       "Radu                   -79.122877  \n",
       "Alessandro             -93.763859  \n",
       "Abhi                   -67.919424  \n",
       "Conor                  109.253040  \n",
       "Ivan                   -94.079608  \n",
       "Silvia                 -99.602654  "
      ]
     },
     "execution_count": 128,
     "metadata": {},
     "output_type": "execute_result"
    }
   ],
   "source": [
    "# Calculate performance metrics\n",
    "initial_value = portfolio_values.iloc[0]\n",
    "final_value = portfolio_values.iloc[-1]\n",
    "\n",
    "# Calculate returns\n",
    "total_return = (final_value / initial_value - 1) * 100\n",
    "\n",
    "# Calculate annualized returns\n",
    "days = (portfolio_values.index[-1] - portfolio_values.index[0]).days\n",
    "years = days / 365.25\n",
    "annualized_return = ((final_value / initial_value) ** (1 / years) - 1) * 100\n",
    "\n",
    "# Create a DataFrame for the results\n",
    "performance_df = pd.DataFrame({\n",
    "    'Initial Value': initial_value,\n",
    "    'Final Value': final_value,\n",
    "    'Total Return (%)': total_return,\n",
    "    'Annualized Return (%)': annualized_return\n",
    "})\n",
    "\n",
    "print(\"Performance Summary:\")\n",
    "performance_df"
   ]
  },
  {
   "cell_type": "code",
   "execution_count": 129,
   "metadata": {},
   "outputs": [
    {
     "data": {
      "application/vnd.plotly.v1+json": {
       "config": {
        "plotlyServerURL": "https://plot.ly"
       },
       "data": [
        {
         "hovertemplate": "Portfolio=%{x}<br>Total Return (%)=%{marker.color}<extra></extra>",
         "legendgroup": "",
         "marker": {
          "color": {
           "bdata": "rHCZ/uW09D/g8GGaGPvpP7xKhIpBzPO/uH8yPvs2+783h+QC3fEHwPt+dADhYgjAUlI9529/F8AUAnPLpEIjwA==",
           "dtype": "f8"
          },
          "coloraxis": "coloraxis",
          "pattern": {
           "shape": ""
          }
         },
         "name": "",
         "orientation": "v",
         "showlegend": false,
         "text": {
          "bdata": "rHCZ/uW09D/g8GGaGPvpP7xKhIpBzPO/uH8yPvs2+783h+QC3fEHwPt+dADhYgjAUlI9529/F8AUAnPLpEIjwA==",
          "dtype": "f8"
         },
         "textfont": {
          "size": 14
         },
         "textposition": "outside",
         "texttemplate": "%{text:.1f}%",
         "type": "bar",
         "x": [
          "Apoorva",
          "Conor",
          "Abhi",
          "Radu",
          "Alessandro",
          "Ivan",
          "Silvia",
          "Diarbhail"
         ],
         "xaxis": "x",
         "y": {
          "bdata": "rHCZ/uW09D/g8GGaGPvpP7xKhIpBzPO/uH8yPvs2+783h+QC3fEHwPt+dADhYgjAUlI9529/F8AUAnPLpEIjwA==",
          "dtype": "f8"
         },
         "yaxis": "y"
        }
       ],
       "layout": {
        "barmode": "relative",
        "coloraxis": {
         "colorbar": {
          "title": {
           "text": "Total Return (%)"
          }
         },
         "colorscale": [
          [
           0,
           "red"
          ],
          [
           0.5,
           "yellow"
          ],
          [
           1,
           "green"
          ]
         ]
        },
        "height": 600,
        "legend": {
         "tracegroupgap": 0
        },
        "margin": {
         "b": 80,
         "l": 80,
         "r": 80,
         "t": 100
        },
        "shapes": [
         {
          "line": {
           "color": "black",
           "dash": "dash",
           "width": 2
          },
          "type": "line",
          "x0": -0.5,
          "x1": 7.5,
          "y0": 0,
          "y1": 0
         }
        ],
        "template": {
         "data": {
          "pie": [
           {
            "automargin": true,
            "type": "pie"
           }
          ],
          "scatter": [
           {
            "line": {
             "width": 3
            },
            "marker": {
             "size": 9
            },
            "type": "scatter"
           }
          ],
          "scatter3d": [
           {
            "line": {
             "width": 3
            },
            "marker": {
             "size": 9
            },
            "type": "scatter3d"
           }
          ],
          "scattergeo": [
           {
            "line": {
             "width": 3
            },
            "marker": {
             "size": 9
            },
            "type": "scattergeo"
           }
          ],
          "scattergl": [
           {
            "line": {
             "width": 3
            },
            "marker": {
             "size": 9
            },
            "type": "scattergl"
           }
          ],
          "scatterpolar": [
           {
            "line": {
             "width": 3
            },
            "marker": {
             "size": 9
            },
            "type": "scatterpolar"
           }
          ],
          "scatterpolargl": [
           {
            "line": {
             "width": 3
            },
            "marker": {
             "size": 9
            },
            "type": "scatterpolargl"
           }
          ],
          "scatterternary": [
           {
            "line": {
             "width": 3
            },
            "marker": {
             "size": 9
            },
            "type": "scatterternary"
           }
          ],
          "table": [
           {
            "cells": {
             "height": 30
            },
            "header": {
             "height": 36
            },
            "type": "table"
           }
          ]
         },
         "layout": {
          "font": {
           "size": 18
          },
          "xaxis": {
           "title": {
            "standoff": 15
           }
          },
          "yaxis": {
           "title": {
            "standoff": 15
           }
          }
         }
        },
        "title": {
         "font": {
          "size": 24
         },
         "text": "Portfolio Returns by Competitor",
         "y": 0.95
        },
        "width": 900,
        "xaxis": {
         "anchor": "y",
         "domain": [
          0,
          1
         ],
         "title": {
          "text": "Portfolio"
         }
        },
        "yaxis": {
         "anchor": "x",
         "domain": [
          0,
          1
         ],
         "range": [
          -11.556196240755932,
          1.5529975828500486
         ],
         "title": {
          "text": "Total Return (%)"
         }
        }
       }
      }
     },
     "metadata": {},
     "output_type": "display_data"
    }
   ],
   "source": [
    "# Create a bar chart to visualize the total returns\n",
    "performance_data = pd.DataFrame({\n",
    "    'Portfolio': total_return.index,\n",
    "    'Total Return (%)': total_return.values\n",
    "})\n",
    "\n",
    "# Sort the data to make the visualization more informative (optional)\n",
    "performance_data = performance_data.sort_values('Total Return (%)', ascending=False)\n",
    "\n",
    "# Create the figure with increased size\n",
    "fig = px.bar(\n",
    "    performance_data,\n",
    "    x='Portfolio',\n",
    "    y='Total Return (%)',\n",
    "    title='Portfolio Returns by Competitor',\n",
    "    color='Total Return (%)',\n",
    "    color_continuous_scale=['red', 'yellow', 'green'],\n",
    "    text='Total Return (%)'\n",
    ")\n",
    "\n",
    "# Add a horizontal line at 0%\n",
    "fig.add_shape(\n",
    "    type=\"line\",\n",
    "    x0=-0.5,\n",
    "    y0=0,\n",
    "    x1=len(performance_data)-0.5,\n",
    "    y1=0,\n",
    "    line=dict(color=\"black\", width=2, dash=\"dash\")\n",
    ")\n",
    "\n",
    "# Format the text labels and ensure they're visible\n",
    "fig.update_traces(\n",
    "    texttemplate='%{text:.1f}%', \n",
    "    textposition='outside',\n",
    "    textfont=dict(size=14)  # Increase text size\n",
    ")\n",
    "\n",
    "# Calculate the y-axis range with extra padding to ensure text is visible\n",
    "y_min = min(performance_data['Total Return (%)']) * 1.2 if min(performance_data['Total Return (%)']) < 0 else min(performance_data['Total Return (%)']) - 2\n",
    "y_max = max(performance_data['Total Return (%)']) * 1.2 if max(performance_data['Total Return (%)']) > 0 else max(performance_data['Total Return (%)']) + 2\n",
    "\n",
    "# Update layout with increased size, margins, and adjusted y-axis\n",
    "fig.update_layout(\n",
    "    template='presentation',\n",
    "    yaxis=dict(\n",
    "        title='Total Return (%)',\n",
    "        range=[y_min, y_max]  # Ensure text labels are visible\n",
    "    ),\n",
    "    width=900,  # Increase width\n",
    "    height=600,  # Increase height\n",
    "    margin=dict(l=80, r=80, t=100, b=80),  # Increase margins\n",
    "    title=dict(\n",
    "        text='Portfolio Returns by Competitor',\n",
    "        font=dict(size=24),  # Larger title\n",
    "        y=0.95  # Position title higher\n",
    "    )\n",
    ")\n",
    "\n",
    "# Show the figure\n",
    "fig.show()"
   ]
  }
 ],
 "metadata": {
  "kernelspec": {
   "display_name": ".venv",
   "language": "python",
   "name": "python3"
  },
  "language_info": {
   "codemirror_mode": {
    "name": "ipython",
    "version": 3
   },
   "file_extension": ".py",
   "mimetype": "text/x-python",
   "name": "python",
   "nbconvert_exporter": "python",
   "pygments_lexer": "ipython3",
   "version": "3.12.7"
  }
 },
 "nbformat": 4,
 "nbformat_minor": 2
}
